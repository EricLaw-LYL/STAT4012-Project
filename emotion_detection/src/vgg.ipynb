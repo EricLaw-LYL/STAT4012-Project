{
  "cells": [
    {
      "cell_type": "markdown",
      "metadata": {
        "id": "bah8kWfrRsQi"
      },
      "source": [
        "# Libraries"
      ]
    },
    {
      "cell_type": "code",
      "execution_count": 1,
      "metadata": {
        "id": "_pOwC1lHRsQk"
      },
      "outputs": [],
      "source": [
        "import numpy as np\n",
        "import pandas as pd\n",
        "import cv2\n",
        "from tqdm import tqdm\n",
        "import matplotlib.pyplot as plt\n",
        "\n",
        "import tensorflow as tf\n",
        "from tensorflow import keras\n",
        "from keras import Model, Sequential, layers, losses\n",
        "from keras.callbacks import ModelCheckpoint, EarlyStopping"
      ]
    },
    {
      "cell_type": "markdown",
      "metadata": {
        "id": "XHfepReKRsQm"
      },
      "source": [
        "# Import MNIST"
      ]
    },
    {
      "cell_type": "code",
      "execution_count": 2,
      "metadata": {
        "colab": {
          "base_uri": "https://localhost:8080/",
          "height": 514
        },
        "id": "CKY10uUFVSEG",
        "outputId": "a949cb77-079b-4b57-e7b0-86c4a9cdbcda"
      },
      "outputs": [
        {
          "data": {
            "image/png": "[encoded data removed]",
            "text/plain": [
              "<Figure size 432x288 with 1 Axes>"
            ]
          },
          "metadata": {
            "needs_background": "light"
          },
          "output_type": "display_data"
        },
        {
          "data": {
            "image/png": "[encoded data removed]",
            "text/plain": [
              "<Figure size 432x288 with 1 Axes>"
            ]
          },
          "metadata": {
            "needs_background": "light"
          },
          "output_type": "display_data"
        }
      ],
      "source": [
        "from keras.datasets import mnist\n",
        "(X_train, y_train), (X_test, y_test) = mnist.load_data()\n",
        "\n",
        "img = X_train[0]\n",
        "plt.imshow(img)\n",
        "plt.show()\n",
        "\n",
        "img = cv2.resize(img, (32, 32))\n",
        "plt.imshow(img)\n",
        "plt.show()"
      ]
    },
    {
      "cell_type": "code",
      "execution_count": 3,
      "metadata": {
        "colab": {
          "base_uri": "https://localhost:8080/"
        },
        "id": "rpE_hAdlRsQm",
        "outputId": "eb5f7402-054f-4c2a-ef61-1a9784e41735"
      },
      "outputs": [
        {
          "name": "stderr",
          "output_type": "stream",
          "text": [
            "100%|██████████| 60000/60000 [00:02<00:00, 27540.89it/s]\n",
            "100%|██████████| 10000/10000 [00:00<00:00, 28676.14it/s]\n"
          ]
        },
        {
          "name": "stdout",
          "output_type": "stream",
          "text": [
            "(60000, 32, 32, 3)\n",
            "(10000, 32, 32, 3)\n"
          ]
        }
      ],
      "source": [
        "def resize(img_array, IMG_SIZE: int):\n",
        "    tmp = np.empty((img_array.shape[0], IMG_SIZE, IMG_SIZE))\n",
        "\n",
        "    for i in tqdm(range(len(img_array))):\n",
        "        img = img_array[i].astype(\"uint8\")\n",
        "        img = cv2.resize(img, (IMG_SIZE, IMG_SIZE))\n",
        "        img = img.astype(\"float64\") / 255.0\n",
        "        tmp[i] = img\n",
        "    return tmp\n",
        "\n",
        "X_train = resize(X_train, 32)\n",
        "X_test = resize(X_test, 32)\n",
        "\n",
        "# stack 1 channel to 3 channels\n",
        "X_train = np.stack((X_train, ) * 3, axis = -1)\n",
        "X_test = np.stack((X_test, ) * 3, axis = -1)\n",
        "\n",
        "print(X_train.shape)\n",
        "print(X_test.shape)"
      ]
    },
    {
      "cell_type": "code",
      "execution_count": 4,
      "metadata": {
        "colab": {
          "base_uri": "https://localhost:8080/",
          "height": 285
        },
        "id": "DFFSyeh7WjQm",
        "outputId": "a91b60d8-f777-486e-c324-515398e817e8"
      },
      "outputs": [
        {
          "data": {
            "image/png": "[encoded data removed]",
            "text/plain": [
              "<Figure size 432x288 with 1 Axes>"
            ]
          },
          "metadata": {
            "needs_background": "light"
          },
          "output_type": "display_data"
        },
        {
          "name": "stdout",
          "output_type": "stream",
          "text": [
            "[5 0 4 ... 5 6 8]\n"
          ]
        }
      ],
      "source": [
        "img = X_train[0]\n",
        "plt.imshow(img)\n",
        "plt.show()\n",
        "\n",
        "print(y_train)"
      ]
    },
    {
      "cell_type": "markdown",
      "metadata": {
        "id": "TgQNjOadRsQo"
      },
      "source": [
        "# Custom VGG Model"
      ]
    },
    {
      "cell_type": "code",
      "execution_count": 5,
      "metadata": {
        "colab": {
          "base_uri": "https://localhost:8080/"
        },
        "id": "V51l3DaSRsQo",
        "outputId": "9c464eb0-2fb5-4cc8-bbd4-dc2cc8f77355"
      },
      "outputs": [
        {
          "name": "stdout",
          "output_type": "stream",
          "text": [
            "Model: \"vgg19\"\n",
            "_________________________________________________________________\n",
            " Layer (type)                Output Shape              Param #   \n",
            "=================================================================\n",
            " input_1 (InputLayer)        [(None, 32, 32, 3)]       0         \n",
            "                                                                 \n",
            " block1_conv1 (Conv2D)       (None, 32, 32, 64)        1792      \n",
            "                                                                 \n",
            " block1_conv2 (Conv2D)       (None, 32, 32, 64)        36928     \n",
            "                                                                 \n",
            " block1_pool (MaxPooling2D)  (None, 16, 16, 64)        0         \n",
            "                                                                 \n",
            " block2_conv1 (Conv2D)       (None, 16, 16, 128)       73856     \n",
            "                                                                 \n",
            " block2_conv2 (Conv2D)       (None, 16, 16, 128)       147584    \n",
            "                                                                 \n",
            " block2_pool (MaxPooling2D)  (None, 8, 8, 128)         0         \n",
            "                                                                 \n",
            " block3_conv1 (Conv2D)       (None, 8, 8, 256)         295168    \n",
            "                                                                 \n",
            " block3_conv2 (Conv2D)       (None, 8, 8, 256)         590080    \n",
            "                                                                 \n",
            " block3_conv3 (Conv2D)       (None, 8, 8, 256)         590080    \n",
            "                                                                 \n",
            " block3_conv4 (Conv2D)       (None, 8, 8, 256)         590080    \n",
            "                                                                 \n",
            " block3_pool (MaxPooling2D)  (None, 4, 4, 256)         0         \n",
            "                                                                 \n",
            " block4_conv1 (Conv2D)       (None, 4, 4, 512)         1180160   \n",
            "                                                                 \n",
            " block4_conv2 (Conv2D)       (None, 4, 4, 512)         2359808   \n",
            "                                                                 \n",
            " block4_conv3 (Conv2D)       (None, 4, 4, 512)         2359808   \n",
            "                                                                 \n",
            " block4_conv4 (Conv2D)       (None, 4, 4, 512)         2359808   \n",
            "                                                                 \n",
            " block4_pool (MaxPooling2D)  (None, 2, 2, 512)         0         \n",
            "                                                                 \n",
            " block5_conv1 (Conv2D)       (None, 2, 2, 512)         2359808   \n",
            "                                                                 \n",
            " block5_conv2 (Conv2D)       (None, 2, 2, 512)         2359808   \n",
            "                                                                 \n",
            " block5_conv3 (Conv2D)       (None, 2, 2, 512)         2359808   \n",
            "                                                                 \n",
            " block5_conv4 (Conv2D)       (None, 2, 2, 512)         2359808   \n",
            "                                                                 \n",
            " block5_pool (MaxPooling2D)  (None, 1, 1, 512)         0         \n",
            "                                                                 \n",
            "=================================================================\n",
            "Total params: 20,024,384\n",
            "Trainable params: 20,024,384\n",
            "Non-trainable params: 0\n",
            "_________________________________________________________________\n",
            "None\n"
          ]
        }
      ],
      "source": [
        "vgg_model = keras.applications.VGG19(include_top = False, input_shape = (32, 32, 3))\n",
        "print(vgg_model.summary())"
      ]
    },
    {
      "cell_type": "code",
      "execution_count": 6,
      "metadata": {
        "colab": {
          "base_uri": "https://localhost:8080/"
        },
        "id": "bj0FT606RsQp",
        "outputId": "885c0f0d-3357-4d87-a0c7-ab58552b4676"
      },
      "outputs": [
        {
          "name": "stdout",
          "output_type": "stream",
          "text": [
            "Model: \"sequential\"\n",
            "_________________________________________________________________\n",
            " Layer (type)                Output Shape              Param #   \n",
            "=================================================================\n",
            " vgg19 (Functional)          (None, 1, 1, 512)         20024384  \n",
            "                                                                 \n",
            " flatten (Flatten)           (None, 512)               0         \n",
            "                                                                 \n",
            " dense (Dense)               (None, 1024)              525312    \n",
            "                                                                 \n",
            " dense_1 (Dense)             (None, 512)               524800    \n",
            "                                                                 \n",
            " dense_2 (Dense)             (None, 128)               65664     \n",
            "                                                                 \n",
            " dropout (Dropout)           (None, 128)               0         \n",
            "                                                                 \n",
            " dense_3 (Dense)             (None, 10)                1290      \n",
            "                                                                 \n",
            "=================================================================\n",
            "Total params: 21,141,450\n",
            "Trainable params: 21,141,450\n",
            "Non-trainable params: 0\n",
            "_________________________________________________________________\n",
            "None\n"
          ]
        }
      ],
      "source": [
        "custom_vgg_model = Sequential([\n",
        "    vgg_model,\n",
        "    layers.Flatten(),\n",
        "    layers.Dense(1024, activation = \"relu\"),\n",
        "    layers.Dense(512, activation = \"relu\"),\n",
        "    layers.Dense(128, activation = \"relu\"),\n",
        "    layers.Dropout(0.2),\n",
        "    layers.Dense(10, activation = \"softmax\"),\n",
        "])\n",
        "\n",
        "print(custom_vgg_model.summary())\n",
        "\n",
        "custom_vgg_model.compile(\n",
        "    loss = losses.SparseCategoricalCrossentropy(from_logits = False),\n",
        "    optimizer = tf.keras.optimizers.Adam(learning_rate = 0.001),\n",
        "    metrics = [\"accuracy\"]\n",
        ")"
      ]
    },
    {
      "cell_type": "markdown",
      "metadata": {
        "id": "UADHM0llRsQp"
      },
      "source": [
        "# Train Model"
      ]
    },
    {
      "cell_type": "code",
      "execution_count": 7,
      "metadata": {
        "id": "JcVis5skRsQq"
      },
      "outputs": [],
      "source": [
        "es = EarlyStopping(monitor='val_accuracy', verbose=1, patience=5)\n",
        "mc = ModelCheckpoint(filepath='mnist-vgg19.h5', verbose=1, monitor='val_accuracy')\n",
        "cb = [es, mc]"
      ]
    },
    {
      "cell_type": "code",
      "execution_count": 8,
      "metadata": {
        "colab": {
          "base_uri": "https://localhost:8080/"
        },
        "id": "CPYK4PsPRsQr",
        "outputId": "e947f2bc-73d5-4f2e-b41e-a3d2679d5d40"
      },
      "outputs": [
        {
          "name": "stdout",
          "output_type": "stream",
          "text": [
            "Epoch 1/10\n",
            "235/235 [==============================] - ETA: 0s - loss: 1.3180 - accuracy: 0.5003WARNING:tensorflow:Early stopping conditioned on metric `val_acc` which is not available. Available metrics are: loss,accuracy,val_loss,val_accuracy\n",
            "\n",
            "Epoch 1: saving model to mnist-vgg19.h5\n",
            "235/235 [==============================] - 67s 263ms/step - loss: 1.3180 - accuracy: 0.5003 - val_loss: 0.5255 - val_accuracy: 0.8321\n",
            "Epoch 2/10\n",
            "235/235 [==============================] - ETA: 0s - loss: 0.3954 - accuracy: 0.9028WARNING:tensorflow:Early stopping conditioned on metric `val_acc` which is not available. Available metrics are: loss,accuracy,val_loss,val_accuracy\n",
            "\n",
            "Epoch 2: saving model to mnist-vgg19.h5\n",
            "235/235 [==============================] - 59s 253ms/step - loss: 0.3954 - accuracy: 0.9028 - val_loss: 0.5589 - val_accuracy: 0.8128\n",
            "Epoch 3/10\n",
            "235/235 [==============================] - ETA: 0s - loss: 0.2246 - accuracy: 0.9483WARNING:tensorflow:Early stopping conditioned on metric `val_acc` which is not available. Available metrics are: loss,accuracy,val_loss,val_accuracy\n",
            "\n",
            "Epoch 3: saving model to mnist-vgg19.h5\n",
            "235/235 [==============================] - 59s 252ms/step - loss: 0.2246 - accuracy: 0.9483 - val_loss: 0.0854 - val_accuracy: 0.9801\n",
            "Epoch 4/10\n",
            "235/235 [==============================] - ETA: 0s - loss: 0.2198 - accuracy: 0.9459WARNING:tensorflow:Early stopping conditioned on metric `val_acc` which is not available. Available metrics are: loss,accuracy,val_loss,val_accuracy\n",
            "\n",
            "Epoch 4: saving model to mnist-vgg19.h5\n",
            "235/235 [==============================] - 59s 252ms/step - loss: 0.2198 - accuracy: 0.9459 - val_loss: 0.1574 - val_accuracy: 0.9584\n",
            "Epoch 5/10\n",
            "235/235 [==============================] - ETA: 0s - loss: 0.1813 - accuracy: 0.9600WARNING:tensorflow:Early stopping conditioned on metric `val_acc` which is not available. Available metrics are: loss,accuracy,val_loss,val_accuracy\n",
            "\n",
            "Epoch 5: saving model to mnist-vgg19.h5\n",
            "235/235 [==============================] - 59s 252ms/step - loss: 0.1813 - accuracy: 0.9600 - val_loss: 0.0533 - val_accuracy: 0.9887\n",
            "Epoch 6/10\n",
            "235/235 [==============================] - ETA: 0s - loss: 0.0612 - accuracy: 0.9866WARNING:tensorflow:Early stopping conditioned on metric `val_acc` which is not available. Available metrics are: loss,accuracy,val_loss,val_accuracy\n",
            "\n",
            "Epoch 6: saving model to mnist-vgg19.h5\n",
            "235/235 [==============================] - 59s 252ms/step - loss: 0.0612 - accuracy: 0.9866 - val_loss: 0.0605 - val_accuracy: 0.9874\n",
            "Epoch 7/10\n",
            "235/235 [==============================] - ETA: 0s - loss: 0.0666 - accuracy: 0.9858WARNING:tensorflow:Early stopping conditioned on metric `val_acc` which is not available. Available metrics are: loss,accuracy,val_loss,val_accuracy\n",
            "\n",
            "Epoch 7: saving model to mnist-vgg19.h5\n",
            "235/235 [==============================] - 59s 252ms/step - loss: 0.0666 - accuracy: 0.9858 - val_loss: 0.0369 - val_accuracy: 0.9930\n",
            "Epoch 8/10\n",
            "235/235 [==============================] - ETA: 0s - loss: 0.0458 - accuracy: 0.9908WARNING:tensorflow:Early stopping conditioned on metric `val_acc` which is not available. Available metrics are: loss,accuracy,val_loss,val_accuracy\n",
            "\n",
            "Epoch 8: saving model to mnist-vgg19.h5\n",
            "235/235 [==============================] - 59s 252ms/step - loss: 0.0458 - accuracy: 0.9908 - val_loss: 0.0407 - val_accuracy: 0.9937\n",
            "Epoch 9/10\n",
            "235/235 [==============================] - ETA: 0s - loss: 0.0455 - accuracy: 0.9914WARNING:tensorflow:Early stopping conditioned on metric `val_acc` which is not available. Available metrics are: loss,accuracy,val_loss,val_accuracy\n",
            "\n",
            "Epoch 9: saving model to mnist-vgg19.h5\n",
            "235/235 [==============================] - 59s 252ms/step - loss: 0.0455 - accuracy: 0.9914 - val_loss: 0.0740 - val_accuracy: 0.9899\n",
            "Epoch 10/10\n",
            "235/235 [==============================] - ETA: 0s - loss: 0.0566 - accuracy: 0.9893WARNING:tensorflow:Early stopping conditioned on metric `val_acc` which is not available. Available metrics are: loss,accuracy,val_loss,val_accuracy\n",
            "\n",
            "Epoch 10: saving model to mnist-vgg19.h5\n",
            "235/235 [==============================] - 59s 252ms/step - loss: 0.0566 - accuracy: 0.9893 - val_loss: 0.0517 - val_accuracy: 0.9889\n"
          ]
        }
      ],
      "source": [
        "history = custom_vgg_model.fit(\n",
        "    X_train, y_train,\n",
        "    epochs = 10, batch_size = 256,\n",
        "    validation_data = (X_test, y_test),\n",
        "    callbacks = cb\n",
        ")"
      ]
    },
    {
      "cell_type": "code",
      "execution_count": 9,
      "metadata": {
        "colab": {
          "base_uri": "https://localhost:8080/"
        },
        "id": "G4zHnTUNlqmk",
        "outputId": "c01fe7fc-a56a-47c2-e1be-dd1a7d86af96"
      },
      "outputs": [
        {
          "name": "stdout",
          "output_type": "stream",
          "text": [
            "313/313 [==============================] - 8s 24ms/step - loss: 0.0517 - accuracy: 0.9889\n"
          ]
        },
        {
          "data": {
            "text/plain": [
              "[0.05172749608755112, 0.9889000058174133]"
            ]
          },
          "execution_count": 9,
          "metadata": {},
          "output_type": "execute_result"
        }
      ],
      "source": [
        "custom_vgg_model.evaluate(X_test, y_test, verbose = 1)"
      ]
    }
  ],
  "metadata": {
    "accelerator": "GPU",
    "colab": {
      "name": "vgg.ipynb",
      "provenance": []
    },
    "interpreter": {
      "hash": "c6241c5e50b6a07c601a3a73d16785280620632654e91ff76c9b8d7c36d2bcf6"
    },
    "kernelspec": {
      "display_name": "Python 3.10.0 ('tf')",
      "language": "python",
      "name": "python3"
    },
    "language_info": {
      "codemirror_mode": {
        "name": "ipython",
        "version": 3
      },
      "file_extension": ".py",
      "mimetype": "text/x-python",
      "name": "python",
      "nbconvert_exporter": "python",
      "pygments_lexer": "ipython3",
      "version": "3.9.7"
    },
    "orig_nbformat": 4
  },
  "nbformat": 4,
  "nbformat_minor": 0
}

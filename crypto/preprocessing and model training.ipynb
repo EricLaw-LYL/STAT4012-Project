{
 "cells": [
  {
   "cell_type": "code",
   "execution_count": 59,
   "metadata": {},
   "outputs": [],
   "source": [
    "import requests\n",
    "import glob\n",
    "import pywt\n",
    "import numpy as np\n",
    "import pandas as pd\n",
    "import matplotlib.pyplot as plt\n",
    "import seaborn as sns\n",
    "from datetime import datetime\n",
    "from functools import reduce\n",
    "from ta.momentum import rsi\n",
    "from ta.trend import ema_indicator\n",
    "from sklearn.neighbors import NearestNeighbors\n",
    "from sklearn.linear_model import LinearRegression\n",
    "from statsmodels.tsa.stattools import coint\n",
    "from sklearn.preprocessing import MinMaxScaler\n",
    "from sklearn.metrics import mean_squared_error\n",
    "from keras.models import Sequential\n",
    "from keras.layers import Dense\n",
    "from keras.layers import LSTM\n",
    "from keras.layers import Dropout\n",
    "from matplotlib import pyplot"
   ]
  },
  {
   "cell_type": "code",
   "execution_count": 18,
   "metadata": {
    "pycharm": {
     "name": "#%%\n"
    }
   },
   "outputs": [],
   "source": [
    "# data collection\n",
    "all_markets = [\"BTC\", \"ETH\", \"DOGE\", \"BNB\", \"XRP\", \"TRX\", \"ZIL\", \"ADA\", \"WAVES\", \"ETC\", \"LTC\", \"MATIC\", \"LINK\", \"EOS\", \"ATOM\", \"XLM\"]\n",
    "col_list = [\"open_time\", \"open\", \"high\", \"low\", \"close\", \"volume\", \"close_time\", \"quote_asset_volume\", \"number_of_trade\", \"ignore1\", \"ignore2\", \"ignore3\"]\n",
    "\n",
    "for market in all_markets:\n",
    "    df = pd.DataFrame(columns=col_list)\n",
    "    startTime = 1622419200000  # 2021-05-31 00:00:00 -> 1 month for cointegration test + 1 day for technical indicator\n",
    "    endTime = 1648684800000    # 2022-03-31 23:59:59\n",
    "    while startTime < endTime:\n",
    "        url = f\"https://api.binance.com/api/v3/klines?symbol={market}USDT&interval=1m&startTime={startTime}&limit=1000\"\n",
    "        data = pd.DataFrame(requests.get(url).json(), columns=col_list)\n",
    "        df = pd.concat([df, data])\n",
    "        startTime = df.close_time.iloc[-1] + 1\n",
    "    df.to_csv(market+\".csv\")"
   ]
  },
  {
   "cell_type": "code",
   "execution_count": 40,
   "metadata": {},
   "outputs": [],
   "source": [
    "df = pd.DataFrame(columns=col_list)\n",
    "startTime = 1622419200000  # 2021-05-31 00:00:00 -> 1 month for cointegration test + 1 day for technical indicator\n",
    "endTime = 1648684800000    # 2022-03-31 23:59:59\n",
    "while startTime < endTime:\n",
    "    url = f\"https://api.binance.com/api/v3/klines?symbol=BTCUSDT&interval=1m&startTime={startTime}&limit=1000\"\n",
    "    data = pd.DataFrame(requests.get(url).json(), columns=col_list)\n",
    "    df = pd.concat([df, data])\n",
    "    startTime = df.close_time.iloc[-1] + 1\n",
    "df.to_csv(\"BTC.csv\")"
   ]
  },
  {
   "cell_type": "code",
   "execution_count": 19,
   "metadata": {
    "pycharm": {
     "name": "#%%\n"
    }
   },
   "outputs": [],
   "source": [
    "# formatting the csv file into ohlcv\n",
    "token_list = [\"BTC\", \"ETH\", \"DOGE\", \"BNB\", \"XRP\", \"TRX\", \"ZIL\", \"ADA\", \"WAVES\", \"ETC\", \"LTC\", \"MATIC\", \"LINK\", \"EOS\", \"ATOM\", \"XLM\"]\n",
    "for i in glob.glob(\"data/*.csv\"):\n",
    "    df = pd.read_csv(i, index_col=0)\n",
    "    df[\"time\"] = (df[\"open_time\"]/1000).apply(datetime.utcfromtimestamp)\n",
    "    df.set_index(\"time\", drop=True, inplace=True)\n",
    "    df = df[[\"open\", \"high\", \"low\", \"close\", \"quote_asset_volume\"]]\n",
    "    df.columns = [\"open\", \"high\", \"low\", \"close\", \"volume\"]\n",
    "    df.to_csv(i)"
   ]
  },
  {
   "cell_type": "code",
   "execution_count": 20,
   "metadata": {
    "pycharm": {
     "name": "#%%\n"
    }
   },
   "outputs": [],
   "source": [
    "# aligning the time & backfill the missing data\n",
    "df_list = []\n",
    "for i in glob.glob(\"data/*.csv\"):\n",
    "    token_name = i.split(\"/\")[1].split(\".\")[0]\n",
    "    df = pd.read_csv(i, index_col=0)\n",
    "    col = [token_name + \"_\" + col_name for col_name in df.columns]\n",
    "    df.columns = col\n",
    "    df_list.append(df)\n",
    "\n",
    "master_df = reduce(lambda left, right: pd.merge(left, right, left_index=True, right_index=True, how=\"outer\"), df_list)\n",
    "master_df.fillna(method=\"ffill\", inplace=True)\n",
    "master_df = master_df.loc[:\"2022-04-01\"]\n",
    "\n",
    "# splitting back into individual csv files\n",
    "for token in token_list:\n",
    "    cols = [col for col in master_df.columns if col.startswith(token)]\n",
    "    df = master_df[cols]\n",
    "    df.columns = [col.split(\"_\")[1] for col in cols]\n",
    "    df.to_csv(f\"data/{token}.csv\")"
   ]
  },
  {
   "cell_type": "code",
   "execution_count": 47,
   "metadata": {
    "pycharm": {
     "name": "#%%\n"
    }
   },
   "outputs": [],
   "source": [
    "# populating features & confining time index to predetermined time horizon\n",
    "for i in glob.glob(\"data/*.csv\"):\n",
    "    df = pd.read_csv(i, index_col=0, parse_dates=True)\n",
    "    df[\"log_rtn\"] = np.log(df[\"close\"]).diff()\n",
    "    for window in [30, 60, 240, 480, 720, 1440]:\n",
    "        df[f\"{window}_ema\"] = ema_indicator(df.close, window)\n",
    "        df[f\"{window}_rsi\"] = rsi(df.close, window)\n",
    "        df[f\"{window}_vol\"] = df[\"log_rtn\"].rolling(window).std()\n",
    "    df = df.loc[\"2021-06-01\":\"2022-03-31\"]\n",
    "    df.to_csv(i)"
   ]
  },
  {
   "cell_type": "code",
   "execution_count": 11,
   "metadata": {
    "pycharm": {
     "name": "#%%\n"
    }
   },
   "outputs": [],
   "source": [
    "##################################################################################\n",
    "###########  END OF DATA ACQUISITION - DO NOT RUN CODE ABOVE THIS CELL ###########\n",
    "##################################################################################"
   ]
  },
  {
   "cell_type": "code",
   "execution_count": 2,
   "metadata": {
    "pycharm": {
     "name": "#%%\n"
    }
   },
   "outputs": [],
   "source": [
    "# reading data\n",
    "token_list = [\"BTC\", \"ETH\", \"DOGE\", \"BNB\", \"XRP\", \"TRX\", \"ZIL\", \"ADA\", \"WAVES\", \"ETC\", \"LTC\", \"MATIC\", \"LINK\", \"EOS\", \"ATOM\", \"XLM\"]\n",
    "pre_data = {}\n",
    "data = {}\n",
    "for token in token_list:\n",
    "    df = pd.read_csv(f\"data/{token}.csv\", index_col=0, parse_dates=True)\n",
    "    pre_data[token] = df.loc[:\"2021-06-30\"]\n",
    "    data[token] = df.loc[\"2021-07-01\":]"
   ]
  },
  {
   "cell_type": "code",
   "execution_count": 3,
   "metadata": {
    "pycharm": {
     "name": "#%%\n"
    }
   },
   "outputs": [
    {
     "data": {
      "text/plain": [
       "38"
      ]
     },
     "execution_count": 3,
     "metadata": {},
     "output_type": "execute_result"
    }
   ],
   "source": [
    "# clustering using NearestNeighbor using the first data point\n",
    "# getting the cluster data\n",
    "cluster_data = pd.DataFrame(columns=token_list)\n",
    "for token in token_list:\n",
    "    cluster_data[token] = pre_data[token].iloc[0]\n",
    "cluster_data = cluster_data.T\n",
    "\n",
    "# NearestNeighbor\n",
    "nn = NearestNeighbors(n_neighbors=4)\n",
    "nn.fit(cluster_data)\n",
    "neigh = nn.kneighbors()[1]\n",
    "\n",
    "# Pairs for cointegration test\n",
    "token0 = [token for token in token_list for i in range(4)]\n",
    "token1 = [token_list[i] for i in neigh.ravel()]\n",
    "pairs = pd.DataFrame()\n",
    "pairs [\"pair\"] = [list(a) for a in zip(token0, token1)]\n",
    "pairs [\"rev\"] = [list(a) for a in zip(token1, token0)]\n",
    "drop = []\n",
    "for i in range(len(pairs)):\n",
    "    if pairs.iloc[i][\"rev\"] in pairs[\"pair\"].to_list()[i:]:\n",
    "        drop.append(i)\n",
    "pairs = pairs.drop(drop, axis=0)[\"pair\"].reset_index(drop=True).to_list()\n",
    "len(pairs)"
   ]
  },
  {
   "cell_type": "code",
   "execution_count": 5,
   "metadata": {},
   "outputs": [
    {
     "data": {
      "text/plain": [
       "[['BTC', 'ADA'],\n",
       " ['BTC', 'BNB'],\n",
       " ['BTC', 'XRP'],\n",
       " ['ETH', 'BTC'],\n",
       " ['ETH', 'ADA'],\n",
       " ['ETH', 'BNB'],\n",
       " ['ETH', 'XRP'],\n",
       " ['DOGE', 'ZIL'],\n",
       " ['XRP', 'BNB'],\n",
       " ['ZIL', 'TRX'],\n",
       " ['ADA', 'BNB'],\n",
       " ['ADA', 'XRP'],\n",
       " ['ADA', 'LINK'],\n",
       " ['WAVES', 'TRX'],\n",
       " ['WAVES', 'ZIL'],\n",
       " ['ETC', 'DOGE'],\n",
       " ['ETC', 'ZIL'],\n",
       " ['LTC', 'ETC'],\n",
       " ['LTC', 'DOGE'],\n",
       " ['LTC', 'ZIL'],\n",
       " ['MATIC', 'XRP'],\n",
       " ['MATIC', 'BNB'],\n",
       " ['MATIC', 'ADA'],\n",
       " ['LINK', 'MATIC'],\n",
       " ['LINK', 'XRP'],\n",
       " ['LINK', 'BNB'],\n",
       " ['LINK', 'EOS'],\n",
       " ['EOS', 'DOGE'],\n",
       " ['EOS', 'ETC'],\n",
       " ['EOS', 'LTC'],\n",
       " ['EOS', 'ZIL'],\n",
       " ['ATOM', 'WAVES'],\n",
       " ['ATOM', 'TRX'],\n",
       " ['ATOM', 'ZIL'],\n",
       " ['XLM', 'TRX'],\n",
       " ['XLM', 'WAVES'],\n",
       " ['XLM', 'ATOM'],\n",
       " ['XLM', 'ZIL']]"
      ]
     },
     "execution_count": 5,
     "metadata": {},
     "output_type": "execute_result"
    }
   ],
   "source": [
    "pairs"
   ]
  },
  {
   "cell_type": "code",
   "execution_count": 6,
   "metadata": {
    "pycharm": {
     "name": "#%%\n"
    }
   },
   "outputs": [
    {
     "name": "stdout",
     "output_type": "stream",
     "text": [
      "DOGE - ZIL\n",
      "It is co integrated with pval - 0.0050752332870706044, tstat - -4.104010893265754\n",
      "\n",
      "XRP - BNB\n",
      "It is co integrated with pval - 0.0002645564067924882, tstat - -4.886678326778122\n",
      "\n",
      "ADA - BNB\n",
      "It is co integrated with pval - 0.020962227093316087, tstat - -3.654189493188102\n",
      "\n",
      "ADA - XRP\n",
      "It is co integrated with pval - 0.01810691583984039, tstat - -3.7040492141361216\n",
      "\n",
      "ADA - LINK\n",
      "It is co integrated with pval - 0.00430959294455947, tstat - -4.151885073323475\n",
      "\n",
      "LTC - DOGE\n",
      "It is co integrated with pval - 0.00826938541919443, tstat - -3.9567262774241803\n",
      "\n",
      "LTC - ZIL\n",
      "It is co integrated with pval - 0.003517799330564573, tstat - -4.210386626931956\n",
      "\n",
      "MATIC - BNB\n",
      "It is co integrated with pval - 0.020827105793967588, tstat - -3.656411422242147\n",
      "\n"
     ]
    },
    {
     "ename": "KeyboardInterrupt",
     "evalue": "",
     "output_type": "error",
     "traceback": [
      "\u001b[0;31m---------------------------------------------------------------------------\u001b[0m",
      "\u001b[0;31mKeyboardInterrupt\u001b[0m                         Traceback (most recent call last)",
      "\u001b[0;32m<ipython-input-6-fa801f15173c>\u001b[0m in \u001b[0;36m<module>\u001b[0;34m\u001b[0m\n\u001b[1;32m      5\u001b[0m     \u001b[0mprice0\u001b[0m \u001b[0;34m=\u001b[0m \u001b[0mpre_data\u001b[0m\u001b[0;34m[\u001b[0m\u001b[0mpair\u001b[0m\u001b[0;34m[\u001b[0m\u001b[0;36m0\u001b[0m\u001b[0;34m]\u001b[0m\u001b[0;34m]\u001b[0m\u001b[0;34m[\u001b[0m\u001b[0;34m\"close\"\u001b[0m\u001b[0;34m]\u001b[0m\u001b[0;34m\u001b[0m\u001b[0;34m\u001b[0m\u001b[0m\n\u001b[1;32m      6\u001b[0m     \u001b[0mprice1\u001b[0m \u001b[0;34m=\u001b[0m \u001b[0mpre_data\u001b[0m\u001b[0;34m[\u001b[0m\u001b[0mpair\u001b[0m\u001b[0;34m[\u001b[0m\u001b[0;36m1\u001b[0m\u001b[0;34m]\u001b[0m\u001b[0;34m]\u001b[0m\u001b[0;34m[\u001b[0m\u001b[0;34m\"close\"\u001b[0m\u001b[0;34m]\u001b[0m\u001b[0;34m\u001b[0m\u001b[0;34m\u001b[0m\u001b[0m\n\u001b[0;32m----> 7\u001b[0;31m     \u001b[0mres\u001b[0m \u001b[0;34m=\u001b[0m \u001b[0mcoint\u001b[0m\u001b[0;34m(\u001b[0m\u001b[0mprice0\u001b[0m\u001b[0;34m,\u001b[0m \u001b[0mprice1\u001b[0m\u001b[0;34m)\u001b[0m\u001b[0;34m\u001b[0m\u001b[0;34m\u001b[0m\u001b[0m\n\u001b[0m\u001b[1;32m      8\u001b[0m     \u001b[0mtstat\u001b[0m\u001b[0;34m,\u001b[0m \u001b[0mpval\u001b[0m \u001b[0;34m=\u001b[0m \u001b[0mres\u001b[0m\u001b[0;34m[\u001b[0m\u001b[0;36m0\u001b[0m\u001b[0;34m]\u001b[0m\u001b[0;34m,\u001b[0m \u001b[0mres\u001b[0m\u001b[0;34m[\u001b[0m\u001b[0;36m1\u001b[0m\u001b[0;34m]\u001b[0m\u001b[0;34m\u001b[0m\u001b[0;34m\u001b[0m\u001b[0m\n\u001b[1;32m      9\u001b[0m     \u001b[0;32mif\u001b[0m \u001b[0mpval\u001b[0m \u001b[0;34m<\u001b[0m \u001b[0;36m0.05\u001b[0m\u001b[0;34m:\u001b[0m\u001b[0;34m\u001b[0m\u001b[0;34m\u001b[0m\u001b[0m\n",
      "\u001b[0;32m~/opt/anaconda3/envs/summmer/lib/python3.8/site-packages/statsmodels/tsa/stattools.py\u001b[0m in \u001b[0;36mcoint\u001b[0;34m(y0, y1, trend, method, maxlag, autolag, return_results)\u001b[0m\n\u001b[1;32m   1715\u001b[0m \u001b[0;34m\u001b[0m\u001b[0m\n\u001b[1;32m   1716\u001b[0m     \u001b[0;32mif\u001b[0m \u001b[0mres_co\u001b[0m\u001b[0;34m.\u001b[0m\u001b[0mrsquared\u001b[0m \u001b[0;34m<\u001b[0m \u001b[0;36m1\u001b[0m \u001b[0;34m-\u001b[0m \u001b[0;36m100\u001b[0m \u001b[0;34m*\u001b[0m \u001b[0mSQRTEPS\u001b[0m\u001b[0;34m:\u001b[0m\u001b[0;34m\u001b[0m\u001b[0;34m\u001b[0m\u001b[0m\n\u001b[0;32m-> 1717\u001b[0;31m         res_adf = adfuller(\n\u001b[0m\u001b[1;32m   1718\u001b[0m             \u001b[0mres_co\u001b[0m\u001b[0;34m.\u001b[0m\u001b[0mresid\u001b[0m\u001b[0;34m,\u001b[0m \u001b[0mmaxlag\u001b[0m\u001b[0;34m=\u001b[0m\u001b[0mmaxlag\u001b[0m\u001b[0;34m,\u001b[0m \u001b[0mautolag\u001b[0m\u001b[0;34m=\u001b[0m\u001b[0mautolag\u001b[0m\u001b[0;34m,\u001b[0m \u001b[0mregression\u001b[0m\u001b[0;34m=\u001b[0m\u001b[0;34m\"n\"\u001b[0m\u001b[0;34m\u001b[0m\u001b[0;34m\u001b[0m\u001b[0m\n\u001b[1;32m   1719\u001b[0m         )\n",
      "\u001b[0;32m~/opt/anaconda3/envs/summmer/lib/python3.8/site-packages/statsmodels/tsa/stattools.py\u001b[0m in \u001b[0;36madfuller\u001b[0;34m(x, maxlag, regression, autolag, store, regresults)\u001b[0m\n\u001b[1;32m    319\u001b[0m \u001b[0;34m\u001b[0m\u001b[0m\n\u001b[1;32m    320\u001b[0m         \u001b[0;32mif\u001b[0m \u001b[0;32mnot\u001b[0m \u001b[0mregresults\u001b[0m\u001b[0;34m:\u001b[0m\u001b[0;34m\u001b[0m\u001b[0;34m\u001b[0m\u001b[0m\n\u001b[0;32m--> 321\u001b[0;31m             icbest, bestlag = _autolag(\n\u001b[0m\u001b[1;32m    322\u001b[0m                 \u001b[0mOLS\u001b[0m\u001b[0;34m,\u001b[0m \u001b[0mxdshort\u001b[0m\u001b[0;34m,\u001b[0m \u001b[0mfullRHS\u001b[0m\u001b[0;34m,\u001b[0m \u001b[0mstartlag\u001b[0m\u001b[0;34m,\u001b[0m \u001b[0mmaxlag\u001b[0m\u001b[0;34m,\u001b[0m \u001b[0mautolag\u001b[0m\u001b[0;34m\u001b[0m\u001b[0;34m\u001b[0m\u001b[0m\n\u001b[1;32m    323\u001b[0m             )\n",
      "\u001b[0;32m~/opt/anaconda3/envs/summmer/lib/python3.8/site-packages/statsmodels/tsa/stattools.py\u001b[0m in \u001b[0;36m_autolag\u001b[0;34m(mod, endog, exog, startlag, maxlag, method, modargs, fitargs, regresults)\u001b[0m\n\u001b[1;32m    127\u001b[0m     \u001b[0mmethod\u001b[0m \u001b[0;34m=\u001b[0m \u001b[0mmethod\u001b[0m\u001b[0;34m.\u001b[0m\u001b[0mlower\u001b[0m\u001b[0;34m(\u001b[0m\u001b[0;34m)\u001b[0m\u001b[0;34m\u001b[0m\u001b[0;34m\u001b[0m\u001b[0m\n\u001b[1;32m    128\u001b[0m     \u001b[0;32mfor\u001b[0m \u001b[0mlag\u001b[0m \u001b[0;32min\u001b[0m \u001b[0mrange\u001b[0m\u001b[0;34m(\u001b[0m\u001b[0mstartlag\u001b[0m\u001b[0;34m,\u001b[0m \u001b[0mstartlag\u001b[0m \u001b[0;34m+\u001b[0m \u001b[0mmaxlag\u001b[0m \u001b[0;34m+\u001b[0m \u001b[0;36m1\u001b[0m\u001b[0;34m)\u001b[0m\u001b[0;34m:\u001b[0m\u001b[0;34m\u001b[0m\u001b[0;34m\u001b[0m\u001b[0m\n\u001b[0;32m--> 129\u001b[0;31m         \u001b[0mmod_instance\u001b[0m \u001b[0;34m=\u001b[0m \u001b[0mmod\u001b[0m\u001b[0;34m(\u001b[0m\u001b[0mendog\u001b[0m\u001b[0;34m,\u001b[0m \u001b[0mexog\u001b[0m\u001b[0;34m[\u001b[0m\u001b[0;34m:\u001b[0m\u001b[0;34m,\u001b[0m \u001b[0;34m:\u001b[0m\u001b[0mlag\u001b[0m\u001b[0;34m]\u001b[0m\u001b[0;34m,\u001b[0m \u001b[0;34m*\u001b[0m\u001b[0mmodargs\u001b[0m\u001b[0;34m)\u001b[0m\u001b[0;34m\u001b[0m\u001b[0;34m\u001b[0m\u001b[0m\n\u001b[0m\u001b[1;32m    130\u001b[0m         \u001b[0mresults\u001b[0m\u001b[0;34m[\u001b[0m\u001b[0mlag\u001b[0m\u001b[0;34m]\u001b[0m \u001b[0;34m=\u001b[0m \u001b[0mmod_instance\u001b[0m\u001b[0;34m.\u001b[0m\u001b[0mfit\u001b[0m\u001b[0;34m(\u001b[0m\u001b[0;34m)\u001b[0m\u001b[0;34m\u001b[0m\u001b[0;34m\u001b[0m\u001b[0m\n\u001b[1;32m    131\u001b[0m \u001b[0;34m\u001b[0m\u001b[0m\n",
      "\u001b[0;32m~/opt/anaconda3/envs/summmer/lib/python3.8/site-packages/statsmodels/regression/linear_model.py\u001b[0m in \u001b[0;36m__init__\u001b[0;34m(self, endog, exog, missing, hasconst, **kwargs)\u001b[0m\n\u001b[1;32m    888\u001b[0m                    \"An exception will be raised in the next version.\")\n\u001b[1;32m    889\u001b[0m             \u001b[0mwarnings\u001b[0m\u001b[0;34m.\u001b[0m\u001b[0mwarn\u001b[0m\u001b[0;34m(\u001b[0m\u001b[0mmsg\u001b[0m\u001b[0;34m,\u001b[0m \u001b[0mValueWarning\u001b[0m\u001b[0;34m)\u001b[0m\u001b[0;34m\u001b[0m\u001b[0;34m\u001b[0m\u001b[0m\n\u001b[0;32m--> 890\u001b[0;31m         super(OLS, self).__init__(endog, exog, missing=missing,\n\u001b[0m\u001b[1;32m    891\u001b[0m                                   hasconst=hasconst, **kwargs)\n\u001b[1;32m    892\u001b[0m         \u001b[0;32mif\u001b[0m \u001b[0;34m\"weights\"\u001b[0m \u001b[0;32min\u001b[0m \u001b[0mself\u001b[0m\u001b[0;34m.\u001b[0m\u001b[0m_init_keys\u001b[0m\u001b[0;34m:\u001b[0m\u001b[0;34m\u001b[0m\u001b[0;34m\u001b[0m\u001b[0m\n",
      "\u001b[0;32m~/opt/anaconda3/envs/summmer/lib/python3.8/site-packages/statsmodels/regression/linear_model.py\u001b[0m in \u001b[0;36m__init__\u001b[0;34m(self, endog, exog, weights, missing, hasconst, **kwargs)\u001b[0m\n\u001b[1;32m    715\u001b[0m         \u001b[0;32melse\u001b[0m\u001b[0;34m:\u001b[0m\u001b[0;34m\u001b[0m\u001b[0;34m\u001b[0m\u001b[0m\n\u001b[1;32m    716\u001b[0m             \u001b[0mweights\u001b[0m \u001b[0;34m=\u001b[0m \u001b[0mweights\u001b[0m\u001b[0;34m.\u001b[0m\u001b[0msqueeze\u001b[0m\u001b[0;34m(\u001b[0m\u001b[0;34m)\u001b[0m\u001b[0;34m\u001b[0m\u001b[0;34m\u001b[0m\u001b[0m\n\u001b[0;32m--> 717\u001b[0;31m         super(WLS, self).__init__(endog, exog, missing=missing,\n\u001b[0m\u001b[1;32m    718\u001b[0m                                   weights=weights, hasconst=hasconst, **kwargs)\n\u001b[1;32m    719\u001b[0m         \u001b[0mnobs\u001b[0m \u001b[0;34m=\u001b[0m \u001b[0mself\u001b[0m\u001b[0;34m.\u001b[0m\u001b[0mexog\u001b[0m\u001b[0;34m.\u001b[0m\u001b[0mshape\u001b[0m\u001b[0;34m[\u001b[0m\u001b[0;36m0\u001b[0m\u001b[0;34m]\u001b[0m\u001b[0;34m\u001b[0m\u001b[0;34m\u001b[0m\u001b[0m\n",
      "\u001b[0;32m~/opt/anaconda3/envs/summmer/lib/python3.8/site-packages/statsmodels/regression/linear_model.py\u001b[0m in \u001b[0;36m__init__\u001b[0;34m(self, endog, exog, **kwargs)\u001b[0m\n\u001b[1;32m    189\u001b[0m     \"\"\"\n\u001b[1;32m    190\u001b[0m     \u001b[0;32mdef\u001b[0m \u001b[0m__init__\u001b[0m\u001b[0;34m(\u001b[0m\u001b[0mself\u001b[0m\u001b[0;34m,\u001b[0m \u001b[0mendog\u001b[0m\u001b[0;34m,\u001b[0m \u001b[0mexog\u001b[0m\u001b[0;34m,\u001b[0m \u001b[0;34m**\u001b[0m\u001b[0mkwargs\u001b[0m\u001b[0;34m)\u001b[0m\u001b[0;34m:\u001b[0m\u001b[0;34m\u001b[0m\u001b[0;34m\u001b[0m\u001b[0m\n\u001b[0;32m--> 191\u001b[0;31m         \u001b[0msuper\u001b[0m\u001b[0;34m(\u001b[0m\u001b[0mRegressionModel\u001b[0m\u001b[0;34m,\u001b[0m \u001b[0mself\u001b[0m\u001b[0;34m)\u001b[0m\u001b[0;34m.\u001b[0m\u001b[0m__init__\u001b[0m\u001b[0;34m(\u001b[0m\u001b[0mendog\u001b[0m\u001b[0;34m,\u001b[0m \u001b[0mexog\u001b[0m\u001b[0;34m,\u001b[0m \u001b[0;34m**\u001b[0m\u001b[0mkwargs\u001b[0m\u001b[0;34m)\u001b[0m\u001b[0;34m\u001b[0m\u001b[0;34m\u001b[0m\u001b[0m\n\u001b[0m\u001b[1;32m    192\u001b[0m         \u001b[0mself\u001b[0m\u001b[0;34m.\u001b[0m\u001b[0m_data_attr\u001b[0m\u001b[0;34m.\u001b[0m\u001b[0mextend\u001b[0m\u001b[0;34m(\u001b[0m\u001b[0;34m[\u001b[0m\u001b[0;34m'pinv_wexog'\u001b[0m\u001b[0;34m,\u001b[0m \u001b[0;34m'wendog'\u001b[0m\u001b[0;34m,\u001b[0m \u001b[0;34m'wexog'\u001b[0m\u001b[0;34m,\u001b[0m \u001b[0;34m'weights'\u001b[0m\u001b[0;34m]\u001b[0m\u001b[0;34m)\u001b[0m\u001b[0;34m\u001b[0m\u001b[0;34m\u001b[0m\u001b[0m\n\u001b[1;32m    193\u001b[0m \u001b[0;34m\u001b[0m\u001b[0m\n",
      "\u001b[0;32m~/opt/anaconda3/envs/summmer/lib/python3.8/site-packages/statsmodels/base/model.py\u001b[0m in \u001b[0;36m__init__\u001b[0;34m(self, endog, exog, **kwargs)\u001b[0m\n\u001b[1;32m    265\u001b[0m \u001b[0;34m\u001b[0m\u001b[0m\n\u001b[1;32m    266\u001b[0m     \u001b[0;32mdef\u001b[0m \u001b[0m__init__\u001b[0m\u001b[0;34m(\u001b[0m\u001b[0mself\u001b[0m\u001b[0;34m,\u001b[0m \u001b[0mendog\u001b[0m\u001b[0;34m,\u001b[0m \u001b[0mexog\u001b[0m\u001b[0;34m=\u001b[0m\u001b[0;32mNone\u001b[0m\u001b[0;34m,\u001b[0m \u001b[0;34m**\u001b[0m\u001b[0mkwargs\u001b[0m\u001b[0;34m)\u001b[0m\u001b[0;34m:\u001b[0m\u001b[0;34m\u001b[0m\u001b[0;34m\u001b[0m\u001b[0m\n\u001b[0;32m--> 267\u001b[0;31m         \u001b[0msuper\u001b[0m\u001b[0;34m(\u001b[0m\u001b[0;34m)\u001b[0m\u001b[0;34m.\u001b[0m\u001b[0m__init__\u001b[0m\u001b[0;34m(\u001b[0m\u001b[0mendog\u001b[0m\u001b[0;34m,\u001b[0m \u001b[0mexog\u001b[0m\u001b[0;34m,\u001b[0m \u001b[0;34m**\u001b[0m\u001b[0mkwargs\u001b[0m\u001b[0;34m)\u001b[0m\u001b[0;34m\u001b[0m\u001b[0;34m\u001b[0m\u001b[0m\n\u001b[0m\u001b[1;32m    268\u001b[0m         \u001b[0mself\u001b[0m\u001b[0;34m.\u001b[0m\u001b[0minitialize\u001b[0m\u001b[0;34m(\u001b[0m\u001b[0;34m)\u001b[0m\u001b[0;34m\u001b[0m\u001b[0;34m\u001b[0m\u001b[0m\n\u001b[1;32m    269\u001b[0m \u001b[0;34m\u001b[0m\u001b[0m\n",
      "\u001b[0;32m~/opt/anaconda3/envs/summmer/lib/python3.8/site-packages/statsmodels/base/model.py\u001b[0m in \u001b[0;36m__init__\u001b[0;34m(self, endog, exog, **kwargs)\u001b[0m\n\u001b[1;32m     90\u001b[0m         \u001b[0mmissing\u001b[0m \u001b[0;34m=\u001b[0m \u001b[0mkwargs\u001b[0m\u001b[0;34m.\u001b[0m\u001b[0mpop\u001b[0m\u001b[0;34m(\u001b[0m\u001b[0;34m'missing'\u001b[0m\u001b[0;34m,\u001b[0m \u001b[0;34m'none'\u001b[0m\u001b[0;34m)\u001b[0m\u001b[0;34m\u001b[0m\u001b[0;34m\u001b[0m\u001b[0m\n\u001b[1;32m     91\u001b[0m         \u001b[0mhasconst\u001b[0m \u001b[0;34m=\u001b[0m \u001b[0mkwargs\u001b[0m\u001b[0;34m.\u001b[0m\u001b[0mpop\u001b[0m\u001b[0;34m(\u001b[0m\u001b[0;34m'hasconst'\u001b[0m\u001b[0;34m,\u001b[0m \u001b[0;32mNone\u001b[0m\u001b[0;34m)\u001b[0m\u001b[0;34m\u001b[0m\u001b[0;34m\u001b[0m\u001b[0m\n\u001b[0;32m---> 92\u001b[0;31m         self.data = self._handle_data(endog, exog, missing, hasconst,\n\u001b[0m\u001b[1;32m     93\u001b[0m                                       **kwargs)\n\u001b[1;32m     94\u001b[0m         \u001b[0mself\u001b[0m\u001b[0;34m.\u001b[0m\u001b[0mk_constant\u001b[0m \u001b[0;34m=\u001b[0m \u001b[0mself\u001b[0m\u001b[0;34m.\u001b[0m\u001b[0mdata\u001b[0m\u001b[0;34m.\u001b[0m\u001b[0mk_constant\u001b[0m\u001b[0;34m\u001b[0m\u001b[0;34m\u001b[0m\u001b[0m\n",
      "\u001b[0;32m~/opt/anaconda3/envs/summmer/lib/python3.8/site-packages/statsmodels/base/model.py\u001b[0m in \u001b[0;36m_handle_data\u001b[0;34m(self, endog, exog, missing, hasconst, **kwargs)\u001b[0m\n\u001b[1;32m    130\u001b[0m \u001b[0;34m\u001b[0m\u001b[0m\n\u001b[1;32m    131\u001b[0m     \u001b[0;32mdef\u001b[0m \u001b[0m_handle_data\u001b[0m\u001b[0;34m(\u001b[0m\u001b[0mself\u001b[0m\u001b[0;34m,\u001b[0m \u001b[0mendog\u001b[0m\u001b[0;34m,\u001b[0m \u001b[0mexog\u001b[0m\u001b[0;34m,\u001b[0m \u001b[0mmissing\u001b[0m\u001b[0;34m,\u001b[0m \u001b[0mhasconst\u001b[0m\u001b[0;34m,\u001b[0m \u001b[0;34m**\u001b[0m\u001b[0mkwargs\u001b[0m\u001b[0;34m)\u001b[0m\u001b[0;34m:\u001b[0m\u001b[0;34m\u001b[0m\u001b[0;34m\u001b[0m\u001b[0m\n\u001b[0;32m--> 132\u001b[0;31m         \u001b[0mdata\u001b[0m \u001b[0;34m=\u001b[0m \u001b[0mhandle_data\u001b[0m\u001b[0;34m(\u001b[0m\u001b[0mendog\u001b[0m\u001b[0;34m,\u001b[0m \u001b[0mexog\u001b[0m\u001b[0;34m,\u001b[0m \u001b[0mmissing\u001b[0m\u001b[0;34m,\u001b[0m \u001b[0mhasconst\u001b[0m\u001b[0;34m,\u001b[0m \u001b[0;34m**\u001b[0m\u001b[0mkwargs\u001b[0m\u001b[0;34m)\u001b[0m\u001b[0;34m\u001b[0m\u001b[0;34m\u001b[0m\u001b[0m\n\u001b[0m\u001b[1;32m    133\u001b[0m         \u001b[0;31m# kwargs arrays could have changed, easier to just attach here\u001b[0m\u001b[0;34m\u001b[0m\u001b[0;34m\u001b[0m\u001b[0;34m\u001b[0m\u001b[0m\n\u001b[1;32m    134\u001b[0m         \u001b[0;32mfor\u001b[0m \u001b[0mkey\u001b[0m \u001b[0;32min\u001b[0m \u001b[0mkwargs\u001b[0m\u001b[0;34m:\u001b[0m\u001b[0;34m\u001b[0m\u001b[0;34m\u001b[0m\u001b[0m\n",
      "\u001b[0;32m~/opt/anaconda3/envs/summmer/lib/python3.8/site-packages/statsmodels/base/data.py\u001b[0m in \u001b[0;36mhandle_data\u001b[0;34m(endog, exog, missing, hasconst, **kwargs)\u001b[0m\n\u001b[1;32m    671\u001b[0m \u001b[0;34m\u001b[0m\u001b[0m\n\u001b[1;32m    672\u001b[0m     \u001b[0mklass\u001b[0m \u001b[0;34m=\u001b[0m \u001b[0mhandle_data_class_factory\u001b[0m\u001b[0;34m(\u001b[0m\u001b[0mendog\u001b[0m\u001b[0;34m,\u001b[0m \u001b[0mexog\u001b[0m\u001b[0;34m)\u001b[0m\u001b[0;34m\u001b[0m\u001b[0;34m\u001b[0m\u001b[0m\n\u001b[0;32m--> 673\u001b[0;31m     return klass(endog, exog=exog, missing=missing, hasconst=hasconst,\n\u001b[0m\u001b[1;32m    674\u001b[0m                  **kwargs)\n",
      "\u001b[0;32m~/opt/anaconda3/envs/summmer/lib/python3.8/site-packages/statsmodels/base/data.py\u001b[0m in \u001b[0;36m__init__\u001b[0;34m(self, endog, exog, missing, hasconst, **kwargs)\u001b[0m\n\u001b[1;32m     84\u001b[0m         \u001b[0mself\u001b[0m\u001b[0;34m.\u001b[0m\u001b[0mconst_idx\u001b[0m \u001b[0;34m=\u001b[0m \u001b[0;32mNone\u001b[0m\u001b[0;34m\u001b[0m\u001b[0;34m\u001b[0m\u001b[0m\n\u001b[1;32m     85\u001b[0m         \u001b[0mself\u001b[0m\u001b[0;34m.\u001b[0m\u001b[0mk_constant\u001b[0m \u001b[0;34m=\u001b[0m \u001b[0;36m0\u001b[0m\u001b[0;34m\u001b[0m\u001b[0;34m\u001b[0m\u001b[0m\n\u001b[0;32m---> 86\u001b[0;31m         \u001b[0mself\u001b[0m\u001b[0;34m.\u001b[0m\u001b[0m_handle_constant\u001b[0m\u001b[0;34m(\u001b[0m\u001b[0mhasconst\u001b[0m\u001b[0;34m)\u001b[0m\u001b[0;34m\u001b[0m\u001b[0;34m\u001b[0m\u001b[0m\n\u001b[0m\u001b[1;32m     87\u001b[0m         \u001b[0mself\u001b[0m\u001b[0;34m.\u001b[0m\u001b[0m_check_integrity\u001b[0m\u001b[0;34m(\u001b[0m\u001b[0;34m)\u001b[0m\u001b[0;34m\u001b[0m\u001b[0;34m\u001b[0m\u001b[0m\n\u001b[1;32m     88\u001b[0m         \u001b[0mself\u001b[0m\u001b[0;34m.\u001b[0m\u001b[0m_cache\u001b[0m \u001b[0;34m=\u001b[0m \u001b[0;34m{\u001b[0m\u001b[0;34m}\u001b[0m\u001b[0;34m\u001b[0m\u001b[0;34m\u001b[0m\u001b[0m\n",
      "\u001b[0;32m~/opt/anaconda3/envs/summmer/lib/python3.8/site-packages/statsmodels/base/data.py\u001b[0m in \u001b[0;36m_handle_constant\u001b[0;34m(self, hasconst)\u001b[0m\n\u001b[1;32m    171\u001b[0m                 \u001b[0;31m# look for implicit constant\u001b[0m\u001b[0;34m\u001b[0m\u001b[0;34m\u001b[0m\u001b[0;34m\u001b[0m\u001b[0m\n\u001b[1;32m    172\u001b[0m                 \u001b[0;31m# Compute rank of augmented matrix\u001b[0m\u001b[0;34m\u001b[0m\u001b[0;34m\u001b[0m\u001b[0;34m\u001b[0m\u001b[0m\n\u001b[0;32m--> 173\u001b[0;31m                 augmented_exog = np.column_stack(\n\u001b[0m\u001b[1;32m    174\u001b[0m                             (np.ones(self.exog.shape[0]), self.exog))\n\u001b[1;32m    175\u001b[0m                 \u001b[0mrank_augm\u001b[0m \u001b[0;34m=\u001b[0m \u001b[0mnp\u001b[0m\u001b[0;34m.\u001b[0m\u001b[0mlinalg\u001b[0m\u001b[0;34m.\u001b[0m\u001b[0mmatrix_rank\u001b[0m\u001b[0;34m(\u001b[0m\u001b[0maugmented_exog\u001b[0m\u001b[0;34m)\u001b[0m\u001b[0;34m\u001b[0m\u001b[0;34m\u001b[0m\u001b[0m\n",
      "\u001b[0;32m<__array_function__ internals>\u001b[0m in \u001b[0;36mcolumn_stack\u001b[0;34m(*args, **kwargs)\u001b[0m\n",
      "\u001b[0;32m~/opt/anaconda3/envs/summmer/lib/python3.8/site-packages/numpy/lib/shape_base.py\u001b[0m in \u001b[0;36mcolumn_stack\u001b[0;34m(tup)\u001b[0m\n\u001b[1;32m    654\u001b[0m             \u001b[0marr\u001b[0m \u001b[0;34m=\u001b[0m \u001b[0marray\u001b[0m\u001b[0;34m(\u001b[0m\u001b[0marr\u001b[0m\u001b[0;34m,\u001b[0m \u001b[0mcopy\u001b[0m\u001b[0;34m=\u001b[0m\u001b[0;32mFalse\u001b[0m\u001b[0;34m,\u001b[0m \u001b[0msubok\u001b[0m\u001b[0;34m=\u001b[0m\u001b[0;32mTrue\u001b[0m\u001b[0;34m,\u001b[0m \u001b[0mndmin\u001b[0m\u001b[0;34m=\u001b[0m\u001b[0;36m2\u001b[0m\u001b[0;34m)\u001b[0m\u001b[0;34m.\u001b[0m\u001b[0mT\u001b[0m\u001b[0;34m\u001b[0m\u001b[0;34m\u001b[0m\u001b[0m\n\u001b[1;32m    655\u001b[0m         \u001b[0marrays\u001b[0m\u001b[0;34m.\u001b[0m\u001b[0mappend\u001b[0m\u001b[0;34m(\u001b[0m\u001b[0marr\u001b[0m\u001b[0;34m)\u001b[0m\u001b[0;34m\u001b[0m\u001b[0;34m\u001b[0m\u001b[0m\n\u001b[0;32m--> 656\u001b[0;31m     \u001b[0;32mreturn\u001b[0m \u001b[0m_nx\u001b[0m\u001b[0;34m.\u001b[0m\u001b[0mconcatenate\u001b[0m\u001b[0;34m(\u001b[0m\u001b[0marrays\u001b[0m\u001b[0;34m,\u001b[0m \u001b[0;36m1\u001b[0m\u001b[0;34m)\u001b[0m\u001b[0;34m\u001b[0m\u001b[0;34m\u001b[0m\u001b[0m\n\u001b[0m\u001b[1;32m    657\u001b[0m \u001b[0;34m\u001b[0m\u001b[0m\n\u001b[1;32m    658\u001b[0m \u001b[0;34m\u001b[0m\u001b[0m\n",
      "\u001b[0;32m<__array_function__ internals>\u001b[0m in \u001b[0;36mconcatenate\u001b[0;34m(*args, **kwargs)\u001b[0m\n",
      "\u001b[0;31mKeyboardInterrupt\u001b[0m: "
     ]
    }
   ],
   "source": [
    "# cointegration test for all pairs\n",
    "coint_pairs = []\n",
    "coint_tstat = []\n",
    "for pair in pairs:\n",
    "    price0 = pre_data[pair[0]][\"close\"]\n",
    "    price1 = pre_data[pair[1]][\"close\"]\n",
    "    res = coint(price0, price1)\n",
    "    tstat, pval = res[0], res[1]\n",
    "    if pval < 0.05:\n",
    "        coint_pairs.append(pair)\n",
    "        coint_tstat.append(tstat)\n",
    "        print(f\"{pair[0]} - {pair[1]}\")\n",
    "        print(f\"It is co integrated with pval - {pval}, tstat - {tstat}\")\n",
    "        print()"
   ]
  },
  {
   "cell_type": "code",
   "execution_count": 52,
   "metadata": {
    "pycharm": {
     "name": "#%%\n"
    }
   },
   "outputs": [
    {
     "data": {
      "text/html": [
       "<div>\n",
       "<style scoped>\n",
       "    .dataframe tbody tr th:only-of-type {\n",
       "        vertical-align: middle;\n",
       "    }\n",
       "\n",
       "    .dataframe tbody tr th {\n",
       "        vertical-align: top;\n",
       "    }\n",
       "\n",
       "    .dataframe thead th {\n",
       "        text-align: right;\n",
       "    }\n",
       "</style>\n",
       "<table border=\"1\" class=\"dataframe\">\n",
       "  <thead>\n",
       "    <tr style=\"text-align: right;\">\n",
       "      <th></th>\n",
       "      <th>pairs</th>\n",
       "      <th>tstat</th>\n",
       "    </tr>\n",
       "  </thead>\n",
       "  <tbody>\n",
       "    <tr>\n",
       "      <th>0</th>\n",
       "      <td>[EOS, ZIL]</td>\n",
       "      <td>-5.388334</td>\n",
       "    </tr>\n",
       "    <tr>\n",
       "      <th>1</th>\n",
       "      <td>[EOS, DOGE]</td>\n",
       "      <td>-5.311655</td>\n",
       "    </tr>\n",
       "    <tr>\n",
       "      <th>2</th>\n",
       "      <td>[XRP, BNB]</td>\n",
       "      <td>-4.886678</td>\n",
       "    </tr>\n",
       "    <tr>\n",
       "      <th>3</th>\n",
       "      <td>[ATOM, ZIL]</td>\n",
       "      <td>-4.529478</td>\n",
       "    </tr>\n",
       "    <tr>\n",
       "      <th>4</th>\n",
       "      <td>[XLM, ZIL]</td>\n",
       "      <td>-4.370721</td>\n",
       "    </tr>\n",
       "    <tr>\n",
       "      <th>5</th>\n",
       "      <td>[LINK, BNB]</td>\n",
       "      <td>-4.352107</td>\n",
       "    </tr>\n",
       "    <tr>\n",
       "      <th>6</th>\n",
       "      <td>[LTC, ZIL]</td>\n",
       "      <td>-4.210387</td>\n",
       "    </tr>\n",
       "    <tr>\n",
       "      <th>7</th>\n",
       "      <td>[ADA, LINK]</td>\n",
       "      <td>-4.151885</td>\n",
       "    </tr>\n",
       "    <tr>\n",
       "      <th>8</th>\n",
       "      <td>[DOGE, ZIL]</td>\n",
       "      <td>-4.104011</td>\n",
       "    </tr>\n",
       "    <tr>\n",
       "      <th>9</th>\n",
       "      <td>[LTC, DOGE]</td>\n",
       "      <td>-3.956726</td>\n",
       "    </tr>\n",
       "    <tr>\n",
       "      <th>10</th>\n",
       "      <td>[ADA, XRP]</td>\n",
       "      <td>-3.704049</td>\n",
       "    </tr>\n",
       "    <tr>\n",
       "      <th>11</th>\n",
       "      <td>[MATIC, BNB]</td>\n",
       "      <td>-3.656411</td>\n",
       "    </tr>\n",
       "    <tr>\n",
       "      <th>12</th>\n",
       "      <td>[ADA, BNB]</td>\n",
       "      <td>-3.654189</td>\n",
       "    </tr>\n",
       "  </tbody>\n",
       "</table>\n",
       "</div>"
      ],
      "text/plain": [
       "           pairs     tstat\n",
       "0     [EOS, ZIL] -5.388334\n",
       "1    [EOS, DOGE] -5.311655\n",
       "2     [XRP, BNB] -4.886678\n",
       "3    [ATOM, ZIL] -4.529478\n",
       "4     [XLM, ZIL] -4.370721\n",
       "5    [LINK, BNB] -4.352107\n",
       "6     [LTC, ZIL] -4.210387\n",
       "7    [ADA, LINK] -4.151885\n",
       "8    [DOGE, ZIL] -4.104011\n",
       "9    [LTC, DOGE] -3.956726\n",
       "10    [ADA, XRP] -3.704049\n",
       "11  [MATIC, BNB] -3.656411\n",
       "12    [ADA, BNB] -3.654189"
      ]
     },
     "execution_count": 52,
     "metadata": {},
     "output_type": "execute_result"
    }
   ],
   "source": [
    "# choosing the most cointegrated pairs - EOS-ZIL\n",
    "coint_df = pd.DataFrame({\"pairs\": coint_pairs,\n",
    "                         \"tstat\": coint_tstat})\n",
    "coint_df.sort_values(by=\"tstat\", ascending=True).reset_index(drop=True)"
   ]
  },
  {
   "cell_type": "code",
   "execution_count": 53,
   "metadata": {
    "pycharm": {
     "name": "#%%\n"
    }
   },
   "outputs": [
    {
     "name": "stdout",
     "output_type": "stream",
     "text": [
      "1 EOS = 44.36561187799406 ZIL\n",
      "\n"
     ]
    }
   ],
   "source": [
    "# Finding hedge ratio for each of the cointegrated pairs using OLS regression - using more expensive token as y\n",
    "# EOS-ZIL\n",
    "lr1 = LinearRegression()\n",
    "lr1.fit(pre_data[\"ZIL\"][\"close\"].values.reshape(-1,1), pre_data[\"EOS\"][\"close\"])\n",
    "print(f\"1 EOS = {float(lr1.coef_)} ZIL\")\n",
    "print()"
   ]
  },
  {
   "cell_type": "code",
   "execution_count": 62,
   "metadata": {
    "pycharm": {
     "name": "#%%\n"
    }
   },
   "outputs": [],
   "source": [
    "# code snippet for denoising with wavelet transform demonstration with close price of ZIL\n",
    "denoised_coeff = []\n",
    "filt = pywt.Wavelet(\"haar\")\n",
    "max_level = pywt.dwt_max_level(len(data[\"ZIL\"]), filt.dec_len)\n",
    "series = pywt.wavedec(data[\"ZIL\"].close, \"haar\", level=2) # choose the level depending on how \"strong\" the filtering you want to be, larger value = more smoothing, between 2 to max_level\n",
    "for i in series:\n",
    "    denoise = pywt.threshold(i, np.std(i))\n",
    "    denoised_coeff.append(denoise)\n",
    "denoised_signal = pywt.waverec(denoised_coeff, \"haar\")"
   ]
  },
  {
   "cell_type": "code",
   "execution_count": 63,
   "metadata": {
    "pycharm": {
     "name": "#%%\n"
    }
   },
   "outputs": [
    {
     "data": {
      "text/plain": [
       "[<matplotlib.lines.Line2D at 0x7f7b764f6be0>]"
      ]
     },
     "execution_count": 63,
     "metadata": {},
     "output_type": "execute_result"
    },
    {
     "data": {
      "image/png": "[encoded data removed]",
      "text/plain": [
       "<Figure size 432x288 with 1 Axes>"
      ]
     },
     "metadata": {
      "needs_background": "light"
     },
     "output_type": "display_data"
    }
   ],
   "source": [
    "# original signal\n",
    "plt.plot(data[\"ZIL\"].close)"
   ]
  },
  {
   "cell_type": "code",
   "execution_count": 64,
   "metadata": {
    "pycharm": {
     "name": "#%%\n"
    }
   },
   "outputs": [
    {
     "data": {
      "text/plain": [
       "[<matplotlib.lines.Line2D at 0x7f7b766bd7f0>]"
      ]
     },
     "execution_count": 64,
     "metadata": {},
     "output_type": "execute_result"
    },
    {
     "data": {
      "image/png": "[encoded data removed]",
      "text/plain": [
       "<Figure size 432x288 with 1 Axes>"
      ]
     },
     "metadata": {
      "needs_background": "light"
     },
     "output_type": "display_data"
    }
   ],
   "source": [
    "# denoised signal\n",
    "plt.plot(denoised_signal)"
   ]
  },
  {
   "cell_type": "code",
   "execution_count": null,
   "metadata": {
    "pycharm": {
     "name": "#%%\n"
    }
   },
   "outputs": [],
   "source": [
    "#Preapare for the training and the testing data of the pair data"
   ]
  },
  {
   "cell_type": "code",
   "execution_count": 10,
   "metadata": {},
   "outputs": [],
   "source": [
    "choosen_pair_token=[\"EOS\", \"ZIL\"]"
   ]
  },
  {
   "cell_type": "code",
   "execution_count": 7,
   "metadata": {},
   "outputs": [],
   "source": [
    "pair_data = pd.DataFrame({'S1_close':data['ZIL']['close'],'S2_close':data['EOS']['close']\n",
    "                         ,'S1_open':data['ZIL'][\"open\"],'S2_open':data['EOS'][\"open\"]\n",
    "                         ,'S1_high':data['ZIL'][\"high\"],'S2_high':data['EOS'][\"high\"]\n",
    "                         ,'S1_low':data['ZIL'][\"low\"],'S2_low':data['EOS'][\"low\"]\n",
    "                         ,'S1_volume':data['ZIL'][\"volume\"],'S2_volume':data['EOS'][\"volume\"]})"
   ]
  },
  {
   "cell_type": "code",
   "execution_count": 11,
   "metadata": {},
   "outputs": [],
   "source": [
    "col_list=data[\"ZIL\"].columns[6:24]\n",
    "for col in col_list:\n",
    "    for cols in choosen_pair_token:\n",
    "        n=choosen_pair_token.index(cols)\n",
    "        n=n+1\n",
    "        Strings=\"S\"+str(n)+\"_\"+col\n",
    "        pair_data[Strings]=data[cols][col]\n"
   ]
  },
  {
   "cell_type": "code",
   "execution_count": 12,
   "metadata": {},
   "outputs": [
    {
     "data": {
      "text/plain": [
       "Index(['S1_close', 'S2_close', 'S1_open', 'S2_open', 'S1_high', 'S2_high',\n",
       "       'S1_low', 'S2_low', 'S1_volume', 'S2_volume', 'S1_30_ema', 'S2_30_ema',\n",
       "       'S1_30_rsi', 'S2_30_rsi', 'S1_30_vol', 'S2_30_vol', 'S1_60_ema',\n",
       "       'S2_60_ema', 'S1_60_rsi', 'S2_60_rsi', 'S1_60_vol', 'S2_60_vol',\n",
       "       'S1_240_ema', 'S2_240_ema', 'S1_240_rsi', 'S2_240_rsi', 'S1_240_vol',\n",
       "       'S2_240_vol', 'S1_480_ema', 'S2_480_ema', 'S1_480_rsi', 'S2_480_rsi',\n",
       "       'S1_480_vol', 'S2_480_vol', 'S1_720_ema', 'S2_720_ema', 'S1_720_rsi',\n",
       "       'S2_720_rsi', 'S1_720_vol', 'S2_720_vol', 'S1_1440_ema', 'S2_1440_ema',\n",
       "       'S1_1440_rsi', 'S2_1440_rsi', 'S1_1440_vol', 'S2_1440_vol'],\n",
       "      dtype='object')"
      ]
     },
     "execution_count": 12,
     "metadata": {},
     "output_type": "execute_result"
    }
   ],
   "source": [
    "pair_data.columns"
   ]
  },
  {
   "cell_type": "code",
   "execution_count": 13,
   "metadata": {},
   "outputs": [],
   "source": [
    "col_for_cal_spread=data[\"ZIL\"].columns[0:4]\n",
    "for col in col_for_cal_spread:\n",
    "    lr=LinearRegression()\n",
    "    S_one=\"S1_\"+col\n",
    "    S_two=\"S2_\"+col\n",
    "    lr.fit(pair_data[S_one].values.reshape(-1,1),pair_data[S_two].values.reshape(-1,1))\n",
    "    spread_coef=-lr.coef_[0]\n",
    "    String_spread=\"Spread_\"+col\n",
    "    pair_data[String_spread]=pair_data[S_one]+(pair_data[S_two]*spread_coef)\n"
   ]
  },
  {
   "cell_type": "code",
   "execution_count": 14,
   "metadata": {},
   "outputs": [],
   "source": [
    "cols_trained=pair_data.columns[8:]\n",
    "lstm_pair_data=pair_data[cols_trained].copy()\n"
   ]
  },
  {
   "cell_type": "code",
   "execution_count": 15,
   "metadata": {},
   "outputs": [],
   "source": [
    "#count how many data point for each day\n",
    "n=0\n",
    "for i in range(10000):\n",
    "    if \"2021-07-01\" in str(lstm_pair_data.index[i]):\n",
    "        n=n+1\n",
    "#n=1440"
   ]
  },
  {
   "cell_type": "code",
   "execution_count": null,
   "metadata": {},
   "outputs": [],
   "source": [
    "#Wavelet Denoising"
   ]
  },
  {
   "cell_type": "code",
   "execution_count": 16,
   "metadata": {},
   "outputs": [],
   "source": [
    "def wav_den(ts_orig):\n",
    "    (ca, cd) = pywt.dwt(ts_orig, 'db8')\n",
    "    cat = pywt.threshold(ca, np.std(ca)/8, mode='soft')\n",
    "    cdt = pywt.threshold(cd, np.std(cd)/8, mode='soft')\n",
    "    ts_rec = pywt.idwt(cat, cdt, 'db8')\n",
    "    return ts_rec[1:]\n"
   ]
  },
  {
   "cell_type": "code",
   "execution_count": null,
   "metadata": {},
   "outputs": [],
   "source": [
    "#testing_size: 15 days"
   ]
  },
  {
   "cell_type": "code",
   "execution_count": 50,
   "metadata": {},
   "outputs": [],
   "source": [
    "train_size=int(len(lstm_pair_data.index)*0.9)\n",
    "test_size=1440*15\n",
    "validation_size=int(len(lstm_pair_data.index)-(train_size+test_size))\n",
    "\n",
    "\n",
    "train= lstm_pair_data[0:train_size]\n",
    "dev=lstm_pair_data[train_size: (train_size+validation_size)]\n",
    "test=lstm_pair_data[int(len(lstm_pair_data))-test_size:int(len(lstm_pair_data))]\n"
   ]
  },
  {
   "cell_type": "code",
   "execution_count": 49,
   "metadata": {},
   "outputs": [
    {
     "data": {
      "text/plain": [
       "(21600, 42)"
      ]
     },
     "execution_count": 49,
     "metadata": {},
     "output_type": "execute_result"
    }
   ],
   "source": [
    "test.shape"
   ]
  },
  {
   "cell_type": "code",
   "execution_count": 51,
   "metadata": {},
   "outputs": [],
   "source": [
    "cols=lstm_pair_data.columns\n",
    "train_den = pd.DataFrame(columns = cols)\n",
    "for col in cols:\n",
    "    train_den[col] = wav_den(train[col])"
   ]
  },
  {
   "cell_type": "code",
   "execution_count": 139,
   "metadata": {},
   "outputs": [
    {
     "data": {
      "text/plain": [
       "Index(['S1_volume', 'S2_volume', 'S1_30_ema', 'S2_30_ema', 'S1_30_rsi',\n",
       "       'S2_30_rsi', 'S1_30_vol', 'S2_30_vol', 'S1_60_ema', 'S2_60_ema',\n",
       "       'S1_60_rsi', 'S2_60_rsi', 'S1_60_vol', 'S2_60_vol', 'S1_240_ema',\n",
       "       'S2_240_ema', 'S1_240_rsi', 'S2_240_rsi', 'S1_240_vol', 'S2_240_vol',\n",
       "       'S1_480_ema', 'S2_480_ema', 'S1_480_rsi', 'S2_480_rsi', 'S1_480_vol',\n",
       "       'S2_480_vol', 'S1_720_ema', 'S2_720_ema', 'S1_720_rsi', 'S2_720_rsi',\n",
       "       'S1_720_vol', 'S2_720_vol', 'S1_1440_ema', 'S2_1440_ema', 'S1_1440_rsi',\n",
       "       'S2_1440_rsi', 'S1_1440_vol', 'S2_1440_vol', 'Spread_open',\n",
       "       'Spread_high', 'Spread_low', 'Spread_close'],\n",
       "      dtype='object')"
      ]
     },
     "execution_count": 139,
     "metadata": {},
     "output_type": "execute_result"
    }
   ],
   "source": [
    "train_den.columns"
   ]
  },
  {
   "cell_type": "code",
   "execution_count": 140,
   "metadata": {},
   "outputs": [],
   "source": [
    "#Comparison of the performance of the model using different optimizers"
   ]
  },
  {
   "cell_type": "code",
   "execution_count": 174,
   "metadata": {},
   "outputs": [],
   "source": [
    "# generate the dataset with normalization and set the y as the volume"
   ]
  },
  {
   "cell_type": "code",
   "execution_count": 123,
   "metadata": {},
   "outputs": [
    {
     "name": "stdout",
     "output_type": "stream",
     "text": [
      "354022\n",
      "17735\n",
      "21599\n"
     ]
    }
   ],
   "source": [
    "\n",
    "look_back=1\n",
    "scaler = MinMaxScaler(feature_range=(0, 1))\n",
    "# Create function for creating dataset with look back\n",
    "def create_dataset(dataset, look_back=1):\n",
    "    dataX, dataY = [], []\n",
    "    for i in range(len(dataset) - look_back):\n",
    "        a = dataset[i, :]\n",
    "        dataX.append(a)\n",
    "        dataY.append(dataset[(i+1):(i+1+look_back), 0])\n",
    "    print(len(dataY))\n",
    "    return dataX, np.array(scaler.fit_transform(dataX)), dataY, np.array(scaler.fit_transform(dataY))\n",
    "\n",
    "# Generate dataset for trainX, trainY, testX, testY\n",
    "trainX_untr, trainX, trainY_untr, trainY = create_dataset(train_den.values, look_back)\n",
    "devX_untr, devX, devY_untr, devY = create_dataset(dev.values, look_back)\n",
    "testX_untr, testX, testY_untr, testY = create_dataset(test.values, look_back)"
   ]
  },
  {
   "cell_type": "code",
   "execution_count": 124,
   "metadata": {},
   "outputs": [],
   "source": [
    "def acc_metric(true_value, predicted_value):\n",
    "    acc_met = 0.0\n",
    "    m = len(true_value)\n",
    "    for i in range(m):\n",
    "        acc_met += mean_squared_error(true_value[i], predicted_value[i])\n",
    "    acc_met /= m\n",
    "    return np.sqrt(acc_met)"
   ]
  },
  {
   "cell_type": "code",
   "execution_count": null,
   "metadata": {},
   "outputs": [],
   "source": [
    "#optimizer:Adam"
   ]
  },
  {
   "cell_type": "code",
   "execution_count": 125,
   "metadata": {},
   "outputs": [],
   "source": [
    "trainX = np.reshape(trainX, (trainX.shape[0], 1, trainX.shape[1]))\n",
    "devX = np.reshape(devX, (devX.shape[0], 1, devX.shape[1]))\n",
    "testX = np.reshape(testX, (testX.shape[0], 1, testX.shape[1]))\n",
    "# Running the LSTM model\n",
    "model = Sequential()\n",
    "model.add(LSTM(256, input_shape=(trainX.shape[1], trainX.shape[2]), return_sequences = True))\n",
    "model.add(LSTM(256))\n",
    "model.add(Dropout(0.2))\n",
    "model.add(Dense(look_back))\n",
    "model.compile(loss='mse', optimizer='adam', metrics=['accuracy'])\n",
    "history = model.fit(trainX, trainY, epochs=200, batch_size=20, validation_data=(devX, devY), verbose=0, shuffle=True)"
   ]
  },
  {
   "cell_type": "code",
   "execution_count": 57,
   "metadata": {},
   "outputs": [
    {
     "name": "stdout",
     "output_type": "stream",
     "text": [
      "Model: \"sequential_3\"\n",
      "_________________________________________________________________\n",
      " Layer (type)                Output Shape              Param #   \n",
      "=================================================================\n",
      " lstm_5 (LSTM)               (None, 1, 256)            306176    \n",
      "                                                                 \n",
      " lstm_6 (LSTM)               (None, 256)               525312    \n",
      "                                                                 \n",
      " dropout_2 (Dropout)         (None, 256)               0         \n",
      "                                                                 \n",
      " dense_2 (Dense)             (None, 1)                 257       \n",
      "                                                                 \n",
      "=================================================================\n",
      "Total params: 831,745\n",
      "Trainable params: 831,745\n",
      "Non-trainable params: 0\n",
      "_________________________________________________________________\n"
     ]
    }
   ],
   "source": [
    "model.summary()"
   ]
  },
  {
   "cell_type": "code",
   "execution_count": 60,
   "metadata": {},
   "outputs": [
    {
     "data": {
      "image/png": "[encoded data removed]",
      "text/plain": [
       "<Figure size 432x288 with 1 Axes>"
      ]
     },
     "metadata": {
      "needs_background": "light"
     },
     "output_type": "display_data"
    }
   ],
   "source": [
    "yhat = model.predict(testX)\n",
    "pyplot.plot(testY, label='True Value')\n",
    "pyplot.plot(yhat, label='Predicted Value')\n",
    "pyplot.legend()\n",
    "pyplot.show()"
   ]
  },
  {
   "cell_type": "code",
   "execution_count": 81,
   "metadata": {},
   "outputs": [],
   "source": [
    "prediction_data=pd.DataFrame(yhat)"
   ]
  },
  {
   "cell_type": "code",
   "execution_count": 83,
   "metadata": {},
   "outputs": [],
   "source": [
    "prediction_data.to_csv(\"data/prediction_data_1.csv\")"
   ]
  },
  {
   "cell_type": "code",
   "execution_count": 84,
   "metadata": {},
   "outputs": [
    {
     "data": {
      "text/plain": [
       "0.032425342038178595"
      ]
     },
     "execution_count": 84,
     "metadata": {},
     "output_type": "execute_result"
    }
   ],
   "source": [
    "#root mean square error\n",
    "acc_metric(testY,yhat)"
   ]
  },
  {
   "cell_type": "code",
   "execution_count": null,
   "metadata": {},
   "outputs": [],
   "source": [
    "#time taken in the model using Adam: 5 hours"
   ]
  },
  {
   "cell_type": "code",
   "execution_count": null,
   "metadata": {},
   "outputs": [],
   "source": [
    "#Using SGD"
   ]
  },
  {
   "cell_type": "code",
   "execution_count": 86,
   "metadata": {},
   "outputs": [],
   "source": [
    "model_1 = Sequential()\n",
    "model_1.add(LSTM(256, input_shape=(trainX.shape[1], trainX.shape[2]), return_sequences = True))\n",
    "model_1.add(LSTM(256))\n",
    "model_1.add(Dropout(0.2))\n",
    "model_1.add(Dense(look_back))\n",
    "model_1.compile(loss='mse', optimizer='SGD', metrics=['accuracy'])\n",
    "history = model_1.fit(trainX, trainY, epochs=200, batch_size=20, validation_data=(devX, devY), verbose=0, shuffle=True)"
   ]
  },
  {
   "cell_type": "code",
   "execution_count": 87,
   "metadata": {},
   "outputs": [
    {
     "data": {
      "image/png": "[encoded data removed]",
      "text/plain": [
       "<Figure size 432x288 with 1 Axes>"
      ]
     },
     "metadata": {
      "needs_background": "light"
     },
     "output_type": "display_data"
    }
   ],
   "source": [
    "yhat_1 = model_1.predict(testX)\n",
    "pyplot.plot(testY, label='True Value')\n",
    "pyplot.plot(yhat_1, label='Predicted Value')\n",
    "pyplot.legend()\n",
    "pyplot.show()"
   ]
  },
  {
   "cell_type": "code",
   "execution_count": 91,
   "metadata": {},
   "outputs": [
    {
     "name": "stdout",
     "output_type": "stream",
     "text": [
      "Model: \"sequential_5\"\n",
      "_________________________________________________________________\n",
      " Layer (type)                Output Shape              Param #   \n",
      "=================================================================\n",
      " lstm_9 (LSTM)               (None, 1, 256)            306176    \n",
      "                                                                 \n",
      " lstm_10 (LSTM)              (None, 256)               525312    \n",
      "                                                                 \n",
      " dropout_4 (Dropout)         (None, 256)               0         \n",
      "                                                                 \n",
      " dense_4 (Dense)             (None, 1)                 257       \n",
      "                                                                 \n",
      "=================================================================\n",
      "Total params: 831,745\n",
      "Trainable params: 831,745\n",
      "Non-trainable params: 0\n",
      "_________________________________________________________________\n"
     ]
    }
   ],
   "source": [
    "model_1.summary()"
   ]
  },
  {
   "cell_type": "code",
   "execution_count": 88,
   "metadata": {},
   "outputs": [
    {
     "data": {
      "text/plain": [
       "0.04614133847344337"
      ]
     },
     "execution_count": 88,
     "metadata": {},
     "output_type": "execute_result"
    }
   ],
   "source": [
    "acc_metric(testY,yhat_1)"
   ]
  },
  {
   "cell_type": "code",
   "execution_count": 90,
   "metadata": {},
   "outputs": [],
   "source": [
    "prediction_data_2=pd.DataFrame(yhat_1)\n",
    "prediction_data_2.to_csv(\"data/prediction_data_2.csv\")"
   ]
  },
  {
   "cell_type": "code",
   "execution_count": null,
   "metadata": {},
   "outputs": [],
   "source": [
    "#time taken in the model using SGD: 5 hours"
   ]
  },
  {
   "cell_type": "code",
   "execution_count": null,
   "metadata": {},
   "outputs": [],
   "source": [
    "#using RMSprop"
   ]
  },
  {
   "cell_type": "code",
   "execution_count": 93,
   "metadata": {},
   "outputs": [],
   "source": [
    "model_3 = Sequential()\n",
    "model_3.add(LSTM(256, input_shape=(trainX.shape[1], trainX.shape[2]), return_sequences = True))\n",
    "model_3.add(LSTM(256))\n",
    "model_3.add(Dropout(0.2))\n",
    "model_3.add(Dense(look_back))\n",
    "model_3.compile(loss='mse', optimizer='RMSprop', metrics=['accuracy'])\n",
    "history = model_3.fit(trainX, trainY, epochs=200, batch_size=20, validation_data=(devX, devY), verbose=0, shuffle=True)"
   ]
  },
  {
   "cell_type": "code",
   "execution_count": 94,
   "metadata": {},
   "outputs": [
    {
     "data": {
      "image/png": "[encoded data removed]",
      "text/plain": [
       "<Figure size 432x288 with 1 Axes>"
      ]
     },
     "metadata": {
      "needs_background": "light"
     },
     "output_type": "display_data"
    }
   ],
   "source": [
    "yhat_2 = model_3.predict(testX)\n",
    "pyplot.plot(testY, label='True Value')\n",
    "pyplot.plot(yhat_2, label='Predicted Value')\n",
    "pyplot.legend()\n",
    "pyplot.show()"
   ]
  },
  {
   "cell_type": "code",
   "execution_count": 95,
   "metadata": {},
   "outputs": [
    {
     "data": {
      "text/plain": [
       "0.045788569356027105"
      ]
     },
     "execution_count": 95,
     "metadata": {},
     "output_type": "execute_result"
    }
   ],
   "source": [
    "acc_metric(testY,yhat_2)"
   ]
  },
  {
   "cell_type": "code",
   "execution_count": 96,
   "metadata": {},
   "outputs": [],
   "source": [
    "prediction_data_3=pd.DataFrame(yhat_2)\n",
    "prediction_data_3.to_csv(\"data/prediction_data_3.csv\")"
   ]
  },
  {
   "cell_type": "code",
   "execution_count": null,
   "metadata": {},
   "outputs": [],
   "source": [
    "#time taken in the model using RMSprop: 6 hours"
   ]
  },
  {
   "cell_type": "code",
   "execution_count": null,
   "metadata": {},
   "outputs": [],
   "source": [
    "#real model in predicting the spread_close using Adam in LSTM"
   ]
  },
  {
   "cell_type": "code",
   "execution_count": null,
   "metadata": {},
   "outputs": [],
   "source": [
    "look_back=1\n",
    "scaler = MinMaxScaler(feature_range=(0, 1))\n",
    "# Create function for creating dataset with look back\n",
    "def create_dataset(dataset, look_back=1):\n",
    "    dataX, dataY = [], []\n",
    "    for i in range(len(dataset) - look_back):\n",
    "        a = dataset[i, :]\n",
    "        dataX.append(a)\n",
    "        dataY.append(dataset[(i+1):(i+1+look_back), 41])\n",
    "    print(len(dataY))\n",
    "    return dataX, np.array(scaler.fit_transform(dataX)), dataY, np.array(scaler.fit_transform(dataY))\n",
    "\n",
    "# Generate dataset for trainX, trainY, testX, testY\n",
    "trainX_untr, trainX, trainY_untr, trainY = create_dataset(train_den.values, look_back)\n",
    "devX_untr, devX, devY_untr, devY = create_dataset(dev.values, look_back)\n",
    "testX_untr, testX, testY_untr, testY = create_dataset(test.values, look_back)"
   ]
  },
  {
   "cell_type": "code",
   "execution_count": null,
   "metadata": {},
   "outputs": [],
   "source": [
    "trainX = np.reshape(trainX, (trainX.shape[0], 1, trainX.shape[1]))\n",
    "devX = np.reshape(devX, (devX.shape[0], 1, devX.shape[1]))\n",
    "testX = np.reshape(testX, (testX.shape[0], 1, testX.shape[1]))\n",
    "# Running the LSTM model\n",
    "model = Sequential()\n",
    "model.add(LSTM(256, input_shape=(trainX.shape[1], trainX.shape[2]), return_sequences = True))\n",
    "model.add(LSTM(256))\n",
    "model.add(Dropout(0.2))\n",
    "model.add(Dense(look_back))\n",
    "model.compile(loss='mse', optimizer='adam', metrics=['accuracy'])\n",
    "history = model.fit(trainX, trainY, epochs=200, batch_size=20, validation_data=(devX, devY), verbose=0, shuffle=True)"
   ]
  },
  {
   "cell_type": "code",
   "execution_count": 126,
   "metadata": {},
   "outputs": [
    {
     "data": {
      "image/png": "[encoded data removed]",
      "text/plain": [
       "<Figure size 432x288 with 1 Axes>"
      ]
     },
     "metadata": {
      "needs_background": "light"
     },
     "output_type": "display_data"
    }
   ],
   "source": [
    "yhat_t = model.predict(testX)\n",
    "pyplot.plot(testY, label='True Value')\n",
    "pyplot.plot(yhat_t, label='Predicted Value')\n",
    "pyplot.legend()\n",
    "pyplot.show()"
   ]
  },
  {
   "cell_type": "code",
   "execution_count": 127,
   "metadata": {
    "scrolled": true
   },
   "outputs": [
    {
     "data": {
      "text/plain": [
       "0.02143371782517037"
      ]
     },
     "execution_count": 127,
     "metadata": {},
     "output_type": "execute_result"
    }
   ],
   "source": [
    "acc_metric(testY,yhat_t)"
   ]
  },
  {
   "cell_type": "code",
   "execution_count": 137,
   "metadata": {},
   "outputs": [
    {
     "data": {
      "image/png": "[encoded data removed]",
      "text/plain": [
       "<Figure size 432x288 with 1 Axes>"
      ]
     },
     "metadata": {
      "needs_background": "light"
     },
     "output_type": "display_data"
    }
   ],
   "source": [
    "yhat_tx = model.predict(trainX)\n",
    "pyplot.plot(trainY, label='True Value')\n",
    "pyplot.plot(yhat_tx, label='Predicted Value')\n",
    "pyplot.legend()\n",
    "pyplot.show()"
   ]
  },
  {
   "cell_type": "code",
   "execution_count": 138,
   "metadata": {},
   "outputs": [
    {
     "data": {
      "text/plain": [
       "0.002522211726790157"
      ]
     },
     "execution_count": 138,
     "metadata": {},
     "output_type": "execute_result"
    }
   ],
   "source": [
    "acc_metric(trainY,yhat_tx)"
   ]
  },
  {
   "cell_type": "code",
   "execution_count": 128,
   "metadata": {},
   "outputs": [],
   "source": [
    "prediction_data_t=pd.DataFrame(yhat_t)\n",
    "prediction_data_t.to_csv(\"data/prediction_data_t.csv\")"
   ]
  },
  {
   "cell_type": "code",
   "execution_count": 131,
   "metadata": {},
   "outputs": [],
   "source": [
    "test_Y=pd.DataFrame(testY)\n",
    "test_Y.to_csv(\"data/testY.csv\")"
   ]
  },
  {
   "cell_type": "code",
   "execution_count": 136,
   "metadata": {},
   "outputs": [],
   "source": [
    "test_X=pd.DataFrame(testX.reshape(testX.shape[0],testX.shape[2]))\n",
    "test_X.to_csv(\"data/testX.csv\")"
   ]
  },
  {
   "cell_type": "code",
   "execution_count": null,
   "metadata": {},
   "outputs": [],
   "source": []
  },
  {
   "cell_type": "code",
   "execution_count": null,
   "metadata": {},
   "outputs": [],
   "source": []
  }
 ],
 "metadata": {
  "kernelspec": {
   "display_name": "Python 3",
   "language": "python",
   "name": "python3"
  },
  "language_info": {
   "codemirror_mode": {
    "name": "ipython",
    "version": 3
   },
   "file_extension": ".py",
   "mimetype": "text/x-python",
   "name": "python",
   "nbconvert_exporter": "python",
   "pygments_lexer": "ipython3",
   "version": "3.8.10"
  }
 },
 "nbformat": 4,
 "nbformat_minor": 1
}

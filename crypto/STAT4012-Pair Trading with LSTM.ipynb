{
 "cells": [
  {
   "cell_type": "code",
   "execution_count": 2,
   "metadata": {},
   "outputs": [],
   "source": [
    "import requests\n",
    "import glob\n",
    "import pywt\n",
    "import numpy as np\n",
    "import pandas as pd\n",
    "import matplotlib.pyplot as plt\n",
    "import seaborn as sns\n",
    "from datetime import datetime\n",
    "from functools import reduce\n",
    "from ta.momentum import rsi\n",
    "from ta.trend import ema_indicator\n",
    "from sklearn.neighbors import NearestNeighbors\n",
    "from sklearn.linear_model import LinearRegression\n",
    "from statsmodels.tsa.stattools import coint\n",
    "from sklearn.preprocessing import MinMaxScaler\n",
    "from sklearn.metrics import mean_squared_error\n",
    "from keras.models import Sequential\n",
    "from keras.layers import Dense\n",
    "from keras.layers import LSTM\n",
    "from keras.layers import Dropout\n",
    "from matplotlib import pyplot"
   ]
  },
  {
   "cell_type": "code",
   "execution_count": 18,
   "metadata": {
    "pycharm": {
     "name": "#%%\n"
    }
   },
   "outputs": [],
   "source": [
    "# data collection\n",
    "all_markets = [\"BTC\", \"ETH\", \"DOGE\", \"BNB\", \"XRP\", \"TRX\", \"ZIL\", \"ADA\", \"WAVES\", \"ETC\", \"LTC\", \"MATIC\", \"LINK\", \"EOS\", \"ATOM\", \"XLM\"]\n",
    "col_list = [\"open_time\", \"open\", \"high\", \"low\", \"close\", \"volume\", \"close_time\", \"quote_asset_volume\", \"number_of_trade\", \"ignore1\", \"ignore2\", \"ignore3\"]\n",
    "\n",
    "for market in all_markets:\n",
    "    df = pd.DataFrame(columns=col_list)\n",
    "    startTime = 1622419200000  # 2021-05-31 00:00:00 -> 1 month for cointegration test + 1 day for technical indicator\n",
    "    endTime = 1648684800000    # 2022-03-31 23:59:59\n",
    "    while startTime < endTime:\n",
    "        url = f\"https://api.binance.com/api/v3/klines?symbol={market}USDT&interval=1m&startTime={startTime}&limit=1000\"\n",
    "        data = pd.DataFrame(requests.get(url).json(), columns=col_list)\n",
    "        df = pd.concat([df, data])\n",
    "        startTime = df.close_time.iloc[-1] + 1\n",
    "    df.to_csv(market+\".csv\")"
   ]
  },
  {
   "cell_type": "code",
   "execution_count": 40,
   "metadata": {},
   "outputs": [],
   "source": [
    "df = pd.DataFrame(columns=col_list)\n",
    "startTime = 1622419200000  # 2021-05-31 00:00:00 -> 1 month for cointegration test + 1 day for technical indicator\n",
    "endTime = 1648684800000    # 2022-03-31 23:59:59\n",
    "while startTime < endTime:\n",
    "    url = f\"https://api.binance.com/api/v3/klines?symbol=BTCUSDT&interval=1m&startTime={startTime}&limit=1000\"\n",
    "    data = pd.DataFrame(requests.get(url).json(), columns=col_list)\n",
    "    df = pd.concat([df, data])\n",
    "    startTime = df.close_time.iloc[-1] + 1\n",
    "df.to_csv(\"BTC.csv\")"
   ]
  },
  {
   "cell_type": "code",
   "execution_count": 19,
   "metadata": {
    "pycharm": {
     "name": "#%%\n"
    }
   },
   "outputs": [],
   "source": [
    "# formatting the csv file into ohlcv\n",
    "token_list = [\"BTC\", \"ETH\", \"DOGE\", \"BNB\", \"XRP\", \"TRX\", \"ZIL\", \"ADA\", \"WAVES\", \"ETC\", \"LTC\", \"MATIC\", \"LINK\", \"EOS\", \"ATOM\", \"XLM\"]\n",
    "for i in glob.glob(\"data/*.csv\"):\n",
    "    df = pd.read_csv(i, index_col=0)\n",
    "    df[\"time\"] = (df[\"open_time\"]/1000).apply(datetime.utcfromtimestamp)\n",
    "    df.set_index(\"time\", drop=True, inplace=True)\n",
    "    df = df[[\"open\", \"high\", \"low\", \"close\", \"quote_asset_volume\"]]\n",
    "    df.columns = [\"open\", \"high\", \"low\", \"close\", \"volume\"]\n",
    "    df.to_csv(i)"
   ]
  },
  {
   "cell_type": "code",
   "execution_count": 20,
   "metadata": {
    "pycharm": {
     "name": "#%%\n"
    }
   },
   "outputs": [],
   "source": [
    "# aligning the time & backfill the missing data\n",
    "df_list = []\n",
    "for i in glob.glob(\"data/*.csv\"):\n",
    "    token_name = i.split(\"/\")[1].split(\".\")[0]\n",
    "    df = pd.read_csv(i, index_col=0)\n",
    "    col = [token_name + \"_\" + col_name for col_name in df.columns]\n",
    "    df.columns = col\n",
    "    df_list.append(df)\n",
    "\n",
    "master_df = reduce(lambda left, right: pd.merge(left, right, left_index=True, right_index=True, how=\"outer\"), df_list)\n",
    "master_df.fillna(method=\"ffill\", inplace=True)\n",
    "master_df = master_df.loc[:\"2022-04-01\"]\n",
    "\n",
    "# splitting back into individual csv files\n",
    "for token in token_list:\n",
    "    cols = [col for col in master_df.columns if col.startswith(token)]\n",
    "    df = master_df[cols]\n",
    "    df.columns = [col.split(\"_\")[1] for col in cols]\n",
    "    df.to_csv(f\"data/{token}.csv\")"
   ]
  },
  {
   "cell_type": "code",
   "execution_count": 47,
   "metadata": {
    "pycharm": {
     "name": "#%%\n"
    }
   },
   "outputs": [],
   "source": [
    "# populating features & confining time index to predetermined time horizon\n",
    "for i in glob.glob(\"data/*.csv\"):\n",
    "    df = pd.read_csv(i, index_col=0, parse_dates=True)\n",
    "    df[\"log_rtn\"] = np.log(df[\"close\"]).diff()\n",
    "    for window in [30, 60, 240, 480, 720, 1440]:\n",
    "        df[f\"{window}_ema\"] = ema_indicator(df.close, window)\n",
    "        df[f\"{window}_rsi\"] = rsi(df.close, window)\n",
    "        df[f\"{window}_vol\"] = df[\"log_rtn\"].rolling(window).std()\n",
    "    df = df.loc[\"2021-06-01\":\"2022-03-31\"]\n",
    "    df.to_csv(i)"
   ]
  },
  {
   "cell_type": "code",
   "execution_count": 38,
   "metadata": {},
   "outputs": [
    {
     "name": "stdout",
     "output_type": "stream",
     "text": [
      "data/BTC.csv\n"
     ]
    }
   ],
   "source": []
  },
  {
   "cell_type": "code",
   "execution_count": 11,
   "metadata": {
    "pycharm": {
     "name": "#%%\n"
    }
   },
   "outputs": [],
   "source": [
    "##################################################################################\n",
    "###########  END OF DATA ACQUISITION - DO NOT RUN CODE ABOVE THIS CELL ###########\n",
    "##################################################################################"
   ]
  },
  {
   "cell_type": "code",
   "execution_count": 4,
   "metadata": {
    "pycharm": {
     "name": "#%%\n"
    }
   },
   "outputs": [],
   "source": [
    "# reading data\n",
    "token_list = [\"BTC\", \"ETH\", \"DOGE\", \"BNB\", \"XRP\", \"TRX\", \"ZIL\", \"ADA\", \"WAVES\", \"ETC\", \"LTC\", \"MATIC\", \"LINK\", \"EOS\", \"ATOM\", \"XLM\"]\n",
    "pre_data = {}\n",
    "data = {}\n",
    "for token in token_list:\n",
    "    df = pd.read_csv(f\"data/{token}.csv\", index_col=0, parse_dates=True)\n",
    "    pre_data[token] = df.loc[:\"2021-06-30\"]\n",
    "    data[token] = df.loc[\"2021-07-01\":]"
   ]
  },
  {
   "cell_type": "code",
   "execution_count": 5,
   "metadata": {},
   "outputs": [
    {
     "data": {
      "text/plain": [
       "(393360, 24)"
      ]
     },
     "execution_count": 5,
     "metadata": {},
     "output_type": "execute_result"
    }
   ],
   "source": [
    "data[\"ZIL\"].shape"
   ]
  },
  {
   "cell_type": "code",
   "execution_count": 6,
   "metadata": {
    "pycharm": {
     "name": "#%%\n"
    }
   },
   "outputs": [
    {
     "data": {
      "text/plain": [
       "38"
      ]
     },
     "execution_count": 6,
     "metadata": {},
     "output_type": "execute_result"
    }
   ],
   "source": [
    "# clustering using NearestNeighbor using the first data point\n",
    "# getting the cluster data\n",
    "cluster_data = pd.DataFrame(columns=token_list)\n",
    "for token in token_list:\n",
    "    cluster_data[token] = pre_data[token].iloc[0]\n",
    "cluster_data = cluster_data.T\n",
    "\n",
    "# NearestNeighbor\n",
    "nn = NearestNeighbors(n_neighbors=4)\n",
    "nn.fit(cluster_data)\n",
    "neigh = nn.kneighbors()[1]\n",
    "\n",
    "# Pairs for cointegration test\n",
    "token0 = [token for token in token_list for i in range(4)]\n",
    "token1 = [token_list[i] for i in neigh.ravel()]\n",
    "pairs = pd.DataFrame()\n",
    "pairs [\"pair\"] = [list(a) for a in zip(token0, token1)]\n",
    "pairs [\"rev\"] = [list(a) for a in zip(token1, token0)]\n",
    "drop = []\n",
    "for i in range(len(pairs)):\n",
    "    if pairs.iloc[i][\"rev\"] in pairs[\"pair\"].to_list()[i:]:\n",
    "        drop.append(i)\n",
    "pairs = pairs.drop(drop, axis=0)[\"pair\"].reset_index(drop=True).to_list()\n",
    "len(pairs)"
   ]
  },
  {
   "cell_type": "code",
   "execution_count": 7,
   "metadata": {},
   "outputs": [
    {
     "data": {
      "text/plain": [
       "[['BTC', 'ADA'],\n",
       " ['BTC', 'BNB'],\n",
       " ['BTC', 'XRP'],\n",
       " ['ETH', 'BTC'],\n",
       " ['ETH', 'ADA'],\n",
       " ['ETH', 'BNB'],\n",
       " ['ETH', 'XRP'],\n",
       " ['DOGE', 'ZIL'],\n",
       " ['XRP', 'BNB'],\n",
       " ['ZIL', 'TRX'],\n",
       " ['ADA', 'BNB'],\n",
       " ['ADA', 'XRP'],\n",
       " ['ADA', 'LINK'],\n",
       " ['WAVES', 'TRX'],\n",
       " ['WAVES', 'ZIL'],\n",
       " ['ETC', 'DOGE'],\n",
       " ['ETC', 'ZIL'],\n",
       " ['LTC', 'ETC'],\n",
       " ['LTC', 'DOGE'],\n",
       " ['LTC', 'ZIL'],\n",
       " ['MATIC', 'XRP'],\n",
       " ['MATIC', 'BNB'],\n",
       " ['MATIC', 'ADA'],\n",
       " ['LINK', 'MATIC'],\n",
       " ['LINK', 'XRP'],\n",
       " ['LINK', 'BNB'],\n",
       " ['LINK', 'EOS'],\n",
       " ['EOS', 'DOGE'],\n",
       " ['EOS', 'ETC'],\n",
       " ['EOS', 'LTC'],\n",
       " ['EOS', 'ZIL'],\n",
       " ['ATOM', 'WAVES'],\n",
       " ['ATOM', 'TRX'],\n",
       " ['ATOM', 'ZIL'],\n",
       " ['XLM', 'TRX'],\n",
       " ['XLM', 'WAVES'],\n",
       " ['XLM', 'ATOM'],\n",
       " ['XLM', 'ZIL']]"
      ]
     },
     "execution_count": 7,
     "metadata": {},
     "output_type": "execute_result"
    }
   ],
   "source": [
    "pairs"
   ]
  },
  {
   "cell_type": "code",
   "execution_count": 8,
   "metadata": {
    "pycharm": {
     "name": "#%%\n"
    }
   },
   "outputs": [
    {
     "name": "stdout",
     "output_type": "stream",
     "text": [
      "DOGE - ZIL\n",
      "It is co integrated with pval - 0.0050752332870706044, tstat - -4.104010893265754\n",
      "\n",
      "XRP - BNB\n",
      "It is co integrated with pval - 0.0002645564067924882, tstat - -4.886678326778122\n",
      "\n",
      "ADA - BNB\n",
      "It is co integrated with pval - 0.020962227093316087, tstat - -3.654189493188102\n",
      "\n",
      "ADA - XRP\n",
      "It is co integrated with pval - 0.01810691583984039, tstat - -3.7040492141361216\n",
      "\n",
      "ADA - LINK\n",
      "It is co integrated with pval - 0.00430959294455947, tstat - -4.151885073323475\n",
      "\n",
      "LTC - DOGE\n",
      "It is co integrated with pval - 0.00826938541919443, tstat - -3.9567262774241803\n",
      "\n",
      "LTC - ZIL\n",
      "It is co integrated with pval - 0.003517799330564573, tstat - -4.210386626931956\n",
      "\n",
      "MATIC - BNB\n",
      "It is co integrated with pval - 0.020827105793967588, tstat - -3.656411422242147\n",
      "\n",
      "LINK - BNB\n",
      "It is co integrated with pval - 0.0021207890272933686, tstat - -4.3521068312018585\n",
      "\n",
      "EOS - DOGE\n",
      "It is co integrated with pval - 4.228519337957123e-05, tstat - -5.311655110648342\n",
      "\n",
      "EOS - ZIL\n",
      "It is co integrated with pval - 2.9909369695855785e-05, tstat - -5.388334435683266\n",
      "\n",
      "ATOM - ZIL\n",
      "It is co integrated with pval - 0.0010949520027881906, tstat - -4.529477949475512\n",
      "\n",
      "XLM - ZIL\n",
      "It is co integrated with pval - 0.0019814759647997933, tstat - -4.370721384957424\n",
      "\n"
     ]
    }
   ],
   "source": [
    "# cointegration test for all pairs\n",
    "coint_pairs = []\n",
    "coint_tstat = []\n",
    "for pair in pairs:\n",
    "    price0 = pre_data[pair[0]][\"close\"]\n",
    "    price1 = pre_data[pair[1]][\"close\"]\n",
    "    res = coint(price0, price1)\n",
    "    tstat, pval = res[0], res[1]\n",
    "    if pval < 0.05:\n",
    "        coint_pairs.append(pair)\n",
    "        coint_tstat.append(tstat)\n",
    "        print(f\"{pair[0]} - {pair[1]}\")\n",
    "        print(f\"It is co integrated with pval - {pval}, tstat - {tstat}\")\n",
    "        print()"
   ]
  },
  {
   "cell_type": "code",
   "execution_count": 10,
   "metadata": {
    "pycharm": {
     "name": "#%%\n"
    }
   },
   "outputs": [
    {
     "data": {
      "text/html": [
       "<div>\n",
       "<style scoped>\n",
       "    .dataframe tbody tr th:only-of-type {\n",
       "        vertical-align: middle;\n",
       "    }\n",
       "\n",
       "    .dataframe tbody tr th {\n",
       "        vertical-align: top;\n",
       "    }\n",
       "\n",
       "    .dataframe thead th {\n",
       "        text-align: right;\n",
       "    }\n",
       "</style>\n",
       "<table border=\"1\" class=\"dataframe\">\n",
       "  <thead>\n",
       "    <tr style=\"text-align: right;\">\n",
       "      <th></th>\n",
       "      <th>pairs</th>\n",
       "      <th>tstat</th>\n",
       "    </tr>\n",
       "  </thead>\n",
       "  <tbody>\n",
       "    <tr>\n",
       "      <th>0</th>\n",
       "      <td>[EOS, ZIL]</td>\n",
       "      <td>-5.388334</td>\n",
       "    </tr>\n",
       "    <tr>\n",
       "      <th>1</th>\n",
       "      <td>[EOS, DOGE]</td>\n",
       "      <td>-5.311655</td>\n",
       "    </tr>\n",
       "    <tr>\n",
       "      <th>2</th>\n",
       "      <td>[XRP, BNB]</td>\n",
       "      <td>-4.886678</td>\n",
       "    </tr>\n",
       "    <tr>\n",
       "      <th>3</th>\n",
       "      <td>[ATOM, ZIL]</td>\n",
       "      <td>-4.529478</td>\n",
       "    </tr>\n",
       "    <tr>\n",
       "      <th>4</th>\n",
       "      <td>[XLM, ZIL]</td>\n",
       "      <td>-4.370721</td>\n",
       "    </tr>\n",
       "    <tr>\n",
       "      <th>5</th>\n",
       "      <td>[LINK, BNB]</td>\n",
       "      <td>-4.352107</td>\n",
       "    </tr>\n",
       "    <tr>\n",
       "      <th>6</th>\n",
       "      <td>[LTC, ZIL]</td>\n",
       "      <td>-4.210387</td>\n",
       "    </tr>\n",
       "    <tr>\n",
       "      <th>7</th>\n",
       "      <td>[ADA, LINK]</td>\n",
       "      <td>-4.151885</td>\n",
       "    </tr>\n",
       "    <tr>\n",
       "      <th>8</th>\n",
       "      <td>[DOGE, ZIL]</td>\n",
       "      <td>-4.104011</td>\n",
       "    </tr>\n",
       "    <tr>\n",
       "      <th>9</th>\n",
       "      <td>[LTC, DOGE]</td>\n",
       "      <td>-3.956726</td>\n",
       "    </tr>\n",
       "    <tr>\n",
       "      <th>10</th>\n",
       "      <td>[ADA, XRP]</td>\n",
       "      <td>-3.704049</td>\n",
       "    </tr>\n",
       "    <tr>\n",
       "      <th>11</th>\n",
       "      <td>[MATIC, BNB]</td>\n",
       "      <td>-3.656411</td>\n",
       "    </tr>\n",
       "    <tr>\n",
       "      <th>12</th>\n",
       "      <td>[ADA, BNB]</td>\n",
       "      <td>-3.654189</td>\n",
       "    </tr>\n",
       "  </tbody>\n",
       "</table>\n",
       "</div>"
      ],
      "text/plain": [
       "           pairs     tstat\n",
       "0     [EOS, ZIL] -5.388334\n",
       "1    [EOS, DOGE] -5.311655\n",
       "2     [XRP, BNB] -4.886678\n",
       "3    [ATOM, ZIL] -4.529478\n",
       "4     [XLM, ZIL] -4.370721\n",
       "5    [LINK, BNB] -4.352107\n",
       "6     [LTC, ZIL] -4.210387\n",
       "7    [ADA, LINK] -4.151885\n",
       "8    [DOGE, ZIL] -4.104011\n",
       "9    [LTC, DOGE] -3.956726\n",
       "10    [ADA, XRP] -3.704049\n",
       "11  [MATIC, BNB] -3.656411\n",
       "12    [ADA, BNB] -3.654189"
      ]
     },
     "execution_count": 10,
     "metadata": {},
     "output_type": "execute_result"
    }
   ],
   "source": [
    "# choosing the most cointegrated pairs - EOS-ZIL\n",
    "coint_df = pd.DataFrame({\"pairs\": coint_pairs,\n",
    "                         \"tstat\": coint_tstat})\n",
    "coint_df.sort_values(by=\"tstat\", ascending=True).reset_index(drop=True)"
   ]
  },
  {
   "cell_type": "code",
   "execution_count": 11,
   "metadata": {
    "pycharm": {
     "name": "#%%\n"
    }
   },
   "outputs": [
    {
     "name": "stdout",
     "output_type": "stream",
     "text": [
      "1 EOS = 44.36561187799406 ZIL\n",
      "\n"
     ]
    }
   ],
   "source": [
    "# Finding hedge ratio for each of the cointegrated pairs using OLS regression - using more expensive token as y\n",
    "# EOS-ZIL\n",
    "lr1 = LinearRegression()\n",
    "lr1.fit(pre_data[\"ZIL\"][\"close\"].values.reshape(-1,1), pre_data[\"EOS\"][\"close\"])\n",
    "print(f\"1 EOS = {float(lr1.coef_)} ZIL\")\n",
    "print()"
   ]
  },
  {
   "cell_type": "code",
   "execution_count": 12,
   "metadata": {
    "pycharm": {
     "name": "#%%\n"
    }
   },
   "outputs": [],
   "source": [
    "# code snippet for denoising with wavelet transform demonstration with close price of ZIL\n",
    "denoised_coeff = []\n",
    "filt = pywt.Wavelet(\"haar\")\n",
    "max_level = pywt.dwt_max_level(len(data[\"ZIL\"]), filt.dec_len)\n",
    "series = pywt.wavedec(data[\"ZIL\"].close, \"haar\", level=2) # choose the level depending on how \"strong\" the filtering you want to be, larger value = more smoothing, between 2 to max_level\n",
    "for i in series:\n",
    "    denoise = pywt.threshold(i, np.std(i))\n",
    "    denoised_coeff.append(denoise)\n",
    "denoised_signal = pywt.waverec(denoised_coeff, \"haar\")"
   ]
  },
  {
   "cell_type": "code",
   "execution_count": 13,
   "metadata": {
    "pycharm": {
     "name": "#%%\n"
    }
   },
   "outputs": [
    {
     "data": {
      "text/plain": [
       "[<matplotlib.lines.Line2D at 0x104599b80>]"
      ]
     },
     "execution_count": 13,
     "metadata": {},
     "output_type": "execute_result"
    },
    {
     "data": {
      "image/png": "[encoded data removed]",
      "text/plain": [
       "<Figure size 432x288 with 1 Axes>"
      ]
     },
     "metadata": {},
     "output_type": "display_data"
    }
   ],
   "source": [
    "# original signal\n",
    "import seaborn as sns\n",
    "sns.set_theme(style= 'whitegrid' )\n",
    "plt.plot(data[\"ZIL\"].close)"
   ]
  },
  {
   "cell_type": "code",
   "execution_count": 16,
   "metadata": {},
   "outputs": [
    {
     "data": {
      "text/plain": [
       "[<matplotlib.lines.Line2D at 0x153960370>]"
      ]
     },
     "execution_count": 16,
     "metadata": {},
     "output_type": "execute_result"
    },
    {
     "data": {
      "image/png": "[encoded data removed]",
      "text/plain": [
       "<Figure size 432x288 with 1 Axes>"
      ]
     },
     "metadata": {},
     "output_type": "display_data"
    }
   ],
   "source": [
    "plt.plot(data[\"EOS\"].close)"
   ]
  },
  {
   "cell_type": "code",
   "execution_count": 18,
   "metadata": {},
   "outputs": [
    {
     "data": {
      "text/plain": [
       "[<matplotlib.lines.Line2D at 0x154360220>]"
      ]
     },
     "execution_count": 18,
     "metadata": {},
     "output_type": "execute_result"
    },
    {
     "data": {
      "image/png": "[encoded data removed]",
      "text/plain": [
       "<Figure size 432x288 with 1 Axes>"
      ]
     },
     "metadata": {},
     "output_type": "display_data"
    }
   ],
   "source": [
    "# plot of the spread\n",
    "plt.plot(data[\"EOS\"].close - 44.366*data[\"ZIL\"].close)"
   ]
  },
  {
   "cell_type": "code",
   "execution_count": 32,
   "metadata": {},
   "outputs": [
    {
     "data": {
      "text/plain": [
       "[<matplotlib.lines.Line2D at 0x154260dc0>]"
      ]
     },
     "execution_count": 32,
     "metadata": {},
     "output_type": "execute_result"
    },
    {
     "data": {
      "image/png": "[encoded data removed]",
      "text/plain": [
       "<Figure size 432x288 with 1 Axes>"
      ]
     },
     "metadata": {},
     "output_type": "display_data"
    }
   ],
   "source": [
    "plt.plot( (data[\"EOS\"].close - 44.366*data[\"ZIL\"].close).pct_change() )"
   ]
  },
  {
   "cell_type": "code",
   "execution_count": 19,
   "metadata": {
    "pycharm": {
     "name": "#%%\n"
    }
   },
   "outputs": [
    {
     "data": {
      "text/plain": [
       "[<matplotlib.lines.Line2D at 0x15482a0d0>]"
      ]
     },
     "execution_count": 19,
     "metadata": {},
     "output_type": "execute_result"
    },
    {
     "data": {
      "image/png": "[encoded data removed]",
      "text/plain": [
       "<Figure size 432x288 with 1 Axes>"
      ]
     },
     "metadata": {},
     "output_type": "display_data"
    }
   ],
   "source": [
    "# denoised signal\n",
    "plt.plot(denoised_signal)"
   ]
  },
  {
   "cell_type": "markdown",
   "metadata": {},
   "source": [
    "### Preapare for the training and the testing data of the pair data"
   ]
  },
  {
   "cell_type": "code",
   "execution_count": 14,
   "metadata": {},
   "outputs": [],
   "source": [
    "choosen_pair_token = [\"EOS\", \"ZIL\"]"
   ]
  },
  {
   "cell_type": "code",
   "execution_count": 15,
   "metadata": {},
   "outputs": [],
   "source": [
    "pair_data = pd.DataFrame({'S1_close':data['ZIL']['close'],'S2_close':data['EOS']['close']\n",
    "                         ,'S1_open':data['ZIL'][\"open\"],'S2_open':data['EOS'][\"open\"]\n",
    "                         ,'S1_high':data['ZIL'][\"high\"],'S2_high':data['EOS'][\"high\"]\n",
    "                         ,'S1_low':data['ZIL'][\"low\"],'S2_low':data['EOS'][\"low\"]\n",
    "                         ,'S1_volume':data['ZIL'][\"volume\"],'S2_volume':data['EOS'][\"volume\"]})"
   ]
  },
  {
   "cell_type": "code",
   "execution_count": 25,
   "metadata": {},
   "outputs": [
    {
     "data": {
      "text/html": [
       "<div>\n",
       "<style scoped>\n",
       "    .dataframe tbody tr th:only-of-type {\n",
       "        vertical-align: middle;\n",
       "    }\n",
       "\n",
       "    .dataframe tbody tr th {\n",
       "        vertical-align: top;\n",
       "    }\n",
       "\n",
       "    .dataframe thead th {\n",
       "        text-align: right;\n",
       "    }\n",
       "</style>\n",
       "<table border=\"1\" class=\"dataframe\">\n",
       "  <thead>\n",
       "    <tr style=\"text-align: right;\">\n",
       "      <th></th>\n",
       "      <th>open</th>\n",
       "      <th>high</th>\n",
       "      <th>low</th>\n",
       "      <th>close</th>\n",
       "      <th>volume</th>\n",
       "      <th>log_rtn</th>\n",
       "      <th>30_ema</th>\n",
       "      <th>30_rsi</th>\n",
       "      <th>30_vol</th>\n",
       "      <th>60_ema</th>\n",
       "      <th>...</th>\n",
       "      <th>240_vol</th>\n",
       "      <th>480_ema</th>\n",
       "      <th>480_rsi</th>\n",
       "      <th>480_vol</th>\n",
       "      <th>720_ema</th>\n",
       "      <th>720_rsi</th>\n",
       "      <th>720_vol</th>\n",
       "      <th>1440_ema</th>\n",
       "      <th>1440_rsi</th>\n",
       "      <th>1440_vol</th>\n",
       "    </tr>\n",
       "    <tr>\n",
       "      <th>time</th>\n",
       "      <th></th>\n",
       "      <th></th>\n",
       "      <th></th>\n",
       "      <th></th>\n",
       "      <th></th>\n",
       "      <th></th>\n",
       "      <th></th>\n",
       "      <th></th>\n",
       "      <th></th>\n",
       "      <th></th>\n",
       "      <th></th>\n",
       "      <th></th>\n",
       "      <th></th>\n",
       "      <th></th>\n",
       "      <th></th>\n",
       "      <th></th>\n",
       "      <th></th>\n",
       "      <th></th>\n",
       "      <th></th>\n",
       "      <th></th>\n",
       "      <th></th>\n",
       "    </tr>\n",
       "  </thead>\n",
       "  <tbody>\n",
       "    <tr>\n",
       "      <th>2021-07-01 00:00:00</th>\n",
       "      <td>0.08791</td>\n",
       "      <td>0.08804</td>\n",
       "      <td>0.08765</td>\n",
       "      <td>0.08781</td>\n",
       "      <td>2.231479e+04</td>\n",
       "      <td>-0.001138</td>\n",
       "      <td>0.087756</td>\n",
       "      <td>53.869544</td>\n",
       "      <td>0.001529</td>\n",
       "      <td>0.087552</td>\n",
       "      <td>...</td>\n",
       "      <td>0.001697</td>\n",
       "      <td>0.084799</td>\n",
       "      <td>53.344564</td>\n",
       "      <td>0.001737</td>\n",
       "      <td>0.084298</td>\n",
       "      <td>52.229523</td>\n",
       "      <td>0.001943</td>\n",
       "      <td>0.083925</td>\n",
       "      <td>51.352715</td>\n",
       "      <td>0.002167</td>\n",
       "    </tr>\n",
       "    <tr>\n",
       "      <th>2021-07-01 00:01:00</th>\n",
       "      <td>0.08781</td>\n",
       "      <td>0.08791</td>\n",
       "      <td>0.08738</td>\n",
       "      <td>0.08738</td>\n",
       "      <td>8.973102e+03</td>\n",
       "      <td>-0.004909</td>\n",
       "      <td>0.087732</td>\n",
       "      <td>47.530207</td>\n",
       "      <td>0.001783</td>\n",
       "      <td>0.087546</td>\n",
       "      <td>...</td>\n",
       "      <td>0.001728</td>\n",
       "      <td>0.084809</td>\n",
       "      <td>52.934411</td>\n",
       "      <td>0.001751</td>\n",
       "      <td>0.084307</td>\n",
       "      <td>51.973006</td>\n",
       "      <td>0.001950</td>\n",
       "      <td>0.083930</td>\n",
       "      <td>51.231364</td>\n",
       "      <td>0.002171</td>\n",
       "    </tr>\n",
       "    <tr>\n",
       "      <th>2021-07-01 00:02:00</th>\n",
       "      <td>0.08738</td>\n",
       "      <td>0.08741</td>\n",
       "      <td>0.08718</td>\n",
       "      <td>0.08718</td>\n",
       "      <td>1.446196e+04</td>\n",
       "      <td>-0.002291</td>\n",
       "      <td>0.087696</td>\n",
       "      <td>44.983169</td>\n",
       "      <td>0.001830</td>\n",
       "      <td>0.087534</td>\n",
       "      <td>...</td>\n",
       "      <td>0.001735</td>\n",
       "      <td>0.084819</td>\n",
       "      <td>52.745390</td>\n",
       "      <td>0.001751</td>\n",
       "      <td>0.084315</td>\n",
       "      <td>51.854388</td>\n",
       "      <td>0.001946</td>\n",
       "      <td>0.083934</td>\n",
       "      <td>51.175077</td>\n",
       "      <td>0.002164</td>\n",
       "    </tr>\n",
       "    <tr>\n",
       "      <th>2021-07-01 00:03:00</th>\n",
       "      <td>0.08717</td>\n",
       "      <td>0.08725</td>\n",
       "      <td>0.08702</td>\n",
       "      <td>0.08707</td>\n",
       "      <td>7.473268e+03</td>\n",
       "      <td>-0.001263</td>\n",
       "      <td>0.087656</td>\n",
       "      <td>43.652230</td>\n",
       "      <td>0.001834</td>\n",
       "      <td>0.087519</td>\n",
       "      <td>...</td>\n",
       "      <td>0.001737</td>\n",
       "      <td>0.084829</td>\n",
       "      <td>52.641788</td>\n",
       "      <td>0.001752</td>\n",
       "      <td>0.084322</td>\n",
       "      <td>51.789288</td>\n",
       "      <td>0.001945</td>\n",
       "      <td>0.083938</td>\n",
       "      <td>51.144151</td>\n",
       "      <td>0.002163</td>\n",
       "    </tr>\n",
       "    <tr>\n",
       "      <th>2021-07-01 00:04:00</th>\n",
       "      <td>0.08704</td>\n",
       "      <td>0.08721</td>\n",
       "      <td>0.08704</td>\n",
       "      <td>0.08720</td>\n",
       "      <td>1.467517e+04</td>\n",
       "      <td>0.001492</td>\n",
       "      <td>0.087627</td>\n",
       "      <td>45.619330</td>\n",
       "      <td>0.001857</td>\n",
       "      <td>0.087508</td>\n",
       "      <td>...</td>\n",
       "      <td>0.001738</td>\n",
       "      <td>0.084838</td>\n",
       "      <td>52.751696</td>\n",
       "      <td>0.001753</td>\n",
       "      <td>0.084330</td>\n",
       "      <td>51.860812</td>\n",
       "      <td>0.001945</td>\n",
       "      <td>0.083943</td>\n",
       "      <td>51.179043</td>\n",
       "      <td>0.002163</td>\n",
       "    </tr>\n",
       "    <tr>\n",
       "      <th>...</th>\n",
       "      <td>...</td>\n",
       "      <td>...</td>\n",
       "      <td>...</td>\n",
       "      <td>...</td>\n",
       "      <td>...</td>\n",
       "      <td>...</td>\n",
       "      <td>...</td>\n",
       "      <td>...</td>\n",
       "      <td>...</td>\n",
       "      <td>...</td>\n",
       "      <td>...</td>\n",
       "      <td>...</td>\n",
       "      <td>...</td>\n",
       "      <td>...</td>\n",
       "      <td>...</td>\n",
       "      <td>...</td>\n",
       "      <td>...</td>\n",
       "      <td>...</td>\n",
       "      <td>...</td>\n",
       "      <td>...</td>\n",
       "      <td>...</td>\n",
       "    </tr>\n",
       "    <tr>\n",
       "      <th>2022-03-31 10:25:00</th>\n",
       "      <td>0.19757</td>\n",
       "      <td>0.19762</td>\n",
       "      <td>0.19583</td>\n",
       "      <td>0.19697</td>\n",
       "      <td>1.494760e+06</td>\n",
       "      <td>-0.003042</td>\n",
       "      <td>0.192968</td>\n",
       "      <td>63.713165</td>\n",
       "      <td>0.004077</td>\n",
       "      <td>0.191917</td>\n",
       "      <td>...</td>\n",
       "      <td>0.004181</td>\n",
       "      <td>0.194016</td>\n",
       "      <td>51.431495</td>\n",
       "      <td>0.004735</td>\n",
       "      <td>0.191113</td>\n",
       "      <td>51.892087</td>\n",
       "      <td>0.005512</td>\n",
       "      <td>0.177708</td>\n",
       "      <td>52.364345</td>\n",
       "      <td>0.005270</td>\n",
       "    </tr>\n",
       "    <tr>\n",
       "      <th>2022-03-31 10:26:00</th>\n",
       "      <td>0.19696</td>\n",
       "      <td>0.19723</td>\n",
       "      <td>0.19526</td>\n",
       "      <td>0.19527</td>\n",
       "      <td>8.645501e+05</td>\n",
       "      <td>-0.008668</td>\n",
       "      <td>0.193116</td>\n",
       "      <td>58.311609</td>\n",
       "      <td>0.004387</td>\n",
       "      <td>0.192027</td>\n",
       "      <td>...</td>\n",
       "      <td>0.004190</td>\n",
       "      <td>0.194021</td>\n",
       "      <td>51.184001</td>\n",
       "      <td>0.004750</td>\n",
       "      <td>0.191124</td>\n",
       "      <td>51.719191</td>\n",
       "      <td>0.005520</td>\n",
       "      <td>0.177732</td>\n",
       "      <td>52.261878</td>\n",
       "      <td>0.005275</td>\n",
       "    </tr>\n",
       "    <tr>\n",
       "      <th>2022-03-31 10:27:00</th>\n",
       "      <td>0.19527</td>\n",
       "      <td>0.19568</td>\n",
       "      <td>0.19434</td>\n",
       "      <td>0.19559</td>\n",
       "      <td>6.994986e+05</td>\n",
       "      <td>0.001637</td>\n",
       "      <td>0.193276</td>\n",
       "      <td>58.988655</td>\n",
       "      <td>0.004382</td>\n",
       "      <td>0.192144</td>\n",
       "      <td>...</td>\n",
       "      <td>0.004182</td>\n",
       "      <td>0.194028</td>\n",
       "      <td>51.228271</td>\n",
       "      <td>0.004708</td>\n",
       "      <td>0.191137</td>\n",
       "      <td>51.749495</td>\n",
       "      <td>0.005518</td>\n",
       "      <td>0.177757</td>\n",
       "      <td>52.279468</td>\n",
       "      <td>0.005272</td>\n",
       "    </tr>\n",
       "    <tr>\n",
       "      <th>2022-03-31 10:28:00</th>\n",
       "      <td>0.19558</td>\n",
       "      <td>0.19559</td>\n",
       "      <td>0.19476</td>\n",
       "      <td>0.19519</td>\n",
       "      <td>4.502589e+05</td>\n",
       "      <td>-0.002047</td>\n",
       "      <td>0.193400</td>\n",
       "      <td>57.775326</td>\n",
       "      <td>0.004340</td>\n",
       "      <td>0.192244</td>\n",
       "      <td>...</td>\n",
       "      <td>0.004184</td>\n",
       "      <td>0.194032</td>\n",
       "      <td>51.170144</td>\n",
       "      <td>0.004698</td>\n",
       "      <td>0.191148</td>\n",
       "      <td>51.708870</td>\n",
       "      <td>0.005502</td>\n",
       "      <td>0.177781</td>\n",
       "      <td>52.255384</td>\n",
       "      <td>0.005271</td>\n",
       "    </tr>\n",
       "    <tr>\n",
       "      <th>2022-03-31 10:29:00</th>\n",
       "      <td>0.19513</td>\n",
       "      <td>0.19595</td>\n",
       "      <td>0.19450</td>\n",
       "      <td>0.19487</td>\n",
       "      <td>6.123164e+05</td>\n",
       "      <td>-0.001641</td>\n",
       "      <td>0.193494</td>\n",
       "      <td>56.808307</td>\n",
       "      <td>0.004360</td>\n",
       "      <td>0.192330</td>\n",
       "      <td>...</td>\n",
       "      <td>0.004185</td>\n",
       "      <td>0.194036</td>\n",
       "      <td>51.123640</td>\n",
       "      <td>0.004692</td>\n",
       "      <td>0.191158</td>\n",
       "      <td>51.676370</td>\n",
       "      <td>0.005498</td>\n",
       "      <td>0.177805</td>\n",
       "      <td>52.236119</td>\n",
       "      <td>0.005269</td>\n",
       "    </tr>\n",
       "  </tbody>\n",
       "</table>\n",
       "<p>393360 rows × 24 columns</p>\n",
       "</div>"
      ],
      "text/plain": [
       "                        open     high      low    close        volume  \\\n",
       "time                                                                    \n",
       "2021-07-01 00:00:00  0.08791  0.08804  0.08765  0.08781  2.231479e+04   \n",
       "2021-07-01 00:01:00  0.08781  0.08791  0.08738  0.08738  8.973102e+03   \n",
       "2021-07-01 00:02:00  0.08738  0.08741  0.08718  0.08718  1.446196e+04   \n",
       "2021-07-01 00:03:00  0.08717  0.08725  0.08702  0.08707  7.473268e+03   \n",
       "2021-07-01 00:04:00  0.08704  0.08721  0.08704  0.08720  1.467517e+04   \n",
       "...                      ...      ...      ...      ...           ...   \n",
       "2022-03-31 10:25:00  0.19757  0.19762  0.19583  0.19697  1.494760e+06   \n",
       "2022-03-31 10:26:00  0.19696  0.19723  0.19526  0.19527  8.645501e+05   \n",
       "2022-03-31 10:27:00  0.19527  0.19568  0.19434  0.19559  6.994986e+05   \n",
       "2022-03-31 10:28:00  0.19558  0.19559  0.19476  0.19519  4.502589e+05   \n",
       "2022-03-31 10:29:00  0.19513  0.19595  0.19450  0.19487  6.123164e+05   \n",
       "\n",
       "                      log_rtn    30_ema     30_rsi    30_vol    60_ema  ...  \\\n",
       "time                                                                    ...   \n",
       "2021-07-01 00:00:00 -0.001138  0.087756  53.869544  0.001529  0.087552  ...   \n",
       "2021-07-01 00:01:00 -0.004909  0.087732  47.530207  0.001783  0.087546  ...   \n",
       "2021-07-01 00:02:00 -0.002291  0.087696  44.983169  0.001830  0.087534  ...   \n",
       "2021-07-01 00:03:00 -0.001263  0.087656  43.652230  0.001834  0.087519  ...   \n",
       "2021-07-01 00:04:00  0.001492  0.087627  45.619330  0.001857  0.087508  ...   \n",
       "...                       ...       ...        ...       ...       ...  ...   \n",
       "2022-03-31 10:25:00 -0.003042  0.192968  63.713165  0.004077  0.191917  ...   \n",
       "2022-03-31 10:26:00 -0.008668  0.193116  58.311609  0.004387  0.192027  ...   \n",
       "2022-03-31 10:27:00  0.001637  0.193276  58.988655  0.004382  0.192144  ...   \n",
       "2022-03-31 10:28:00 -0.002047  0.193400  57.775326  0.004340  0.192244  ...   \n",
       "2022-03-31 10:29:00 -0.001641  0.193494  56.808307  0.004360  0.192330  ...   \n",
       "\n",
       "                      240_vol   480_ema    480_rsi   480_vol   720_ema  \\\n",
       "time                                                                     \n",
       "2021-07-01 00:00:00  0.001697  0.084799  53.344564  0.001737  0.084298   \n",
       "2021-07-01 00:01:00  0.001728  0.084809  52.934411  0.001751  0.084307   \n",
       "2021-07-01 00:02:00  0.001735  0.084819  52.745390  0.001751  0.084315   \n",
       "2021-07-01 00:03:00  0.001737  0.084829  52.641788  0.001752  0.084322   \n",
       "2021-07-01 00:04:00  0.001738  0.084838  52.751696  0.001753  0.084330   \n",
       "...                       ...       ...        ...       ...       ...   \n",
       "2022-03-31 10:25:00  0.004181  0.194016  51.431495  0.004735  0.191113   \n",
       "2022-03-31 10:26:00  0.004190  0.194021  51.184001  0.004750  0.191124   \n",
       "2022-03-31 10:27:00  0.004182  0.194028  51.228271  0.004708  0.191137   \n",
       "2022-03-31 10:28:00  0.004184  0.194032  51.170144  0.004698  0.191148   \n",
       "2022-03-31 10:29:00  0.004185  0.194036  51.123640  0.004692  0.191158   \n",
       "\n",
       "                       720_rsi   720_vol  1440_ema   1440_rsi  1440_vol  \n",
       "time                                                                     \n",
       "2021-07-01 00:00:00  52.229523  0.001943  0.083925  51.352715  0.002167  \n",
       "2021-07-01 00:01:00  51.973006  0.001950  0.083930  51.231364  0.002171  \n",
       "2021-07-01 00:02:00  51.854388  0.001946  0.083934  51.175077  0.002164  \n",
       "2021-07-01 00:03:00  51.789288  0.001945  0.083938  51.144151  0.002163  \n",
       "2021-07-01 00:04:00  51.860812  0.001945  0.083943  51.179043  0.002163  \n",
       "...                        ...       ...       ...        ...       ...  \n",
       "2022-03-31 10:25:00  51.892087  0.005512  0.177708  52.364345  0.005270  \n",
       "2022-03-31 10:26:00  51.719191  0.005520  0.177732  52.261878  0.005275  \n",
       "2022-03-31 10:27:00  51.749495  0.005518  0.177757  52.279468  0.005272  \n",
       "2022-03-31 10:28:00  51.708870  0.005502  0.177781  52.255384  0.005271  \n",
       "2022-03-31 10:29:00  51.676370  0.005498  0.177805  52.236119  0.005269  \n",
       "\n",
       "[393360 rows x 24 columns]"
      ]
     },
     "execution_count": 25,
     "metadata": {},
     "output_type": "execute_result"
    }
   ],
   "source": [
    "data[\"ZIL\"]"
   ]
  },
  {
   "cell_type": "code",
   "execution_count": 16,
   "metadata": {},
   "outputs": [],
   "source": [
    "col_list=data[\"ZIL\"].columns[6:24]\n",
    "for col in col_list:\n",
    "    for cols in choosen_pair_token:\n",
    "        n=choosen_pair_token.index(cols)\n",
    "        n=n+1\n",
    "        Strings=\"S\"+str(n)+\"_\"+col\n",
    "        pair_data[Strings]=data[cols][col]\n"
   ]
  },
  {
   "cell_type": "code",
   "execution_count": 17,
   "metadata": {},
   "outputs": [
    {
     "data": {
      "text/html": [
       "<div>\n",
       "<style scoped>\n",
       "    .dataframe tbody tr th:only-of-type {\n",
       "        vertical-align: middle;\n",
       "    }\n",
       "\n",
       "    .dataframe tbody tr th {\n",
       "        vertical-align: top;\n",
       "    }\n",
       "\n",
       "    .dataframe thead th {\n",
       "        text-align: right;\n",
       "    }\n",
       "</style>\n",
       "<table border=\"1\" class=\"dataframe\">\n",
       "  <thead>\n",
       "    <tr style=\"text-align: right;\">\n",
       "      <th></th>\n",
       "      <th>S1_close</th>\n",
       "      <th>S2_close</th>\n",
       "      <th>S1_open</th>\n",
       "      <th>S2_open</th>\n",
       "      <th>S1_high</th>\n",
       "      <th>S2_high</th>\n",
       "      <th>S1_low</th>\n",
       "      <th>S2_low</th>\n",
       "      <th>S1_volume</th>\n",
       "      <th>S2_volume</th>\n",
       "      <th>...</th>\n",
       "      <th>S1_720_rsi</th>\n",
       "      <th>S2_720_rsi</th>\n",
       "      <th>S1_720_vol</th>\n",
       "      <th>S2_720_vol</th>\n",
       "      <th>S1_1440_ema</th>\n",
       "      <th>S2_1440_ema</th>\n",
       "      <th>S1_1440_rsi</th>\n",
       "      <th>S2_1440_rsi</th>\n",
       "      <th>S1_1440_vol</th>\n",
       "      <th>S2_1440_vol</th>\n",
       "    </tr>\n",
       "    <tr>\n",
       "      <th>time</th>\n",
       "      <th></th>\n",
       "      <th></th>\n",
       "      <th></th>\n",
       "      <th></th>\n",
       "      <th></th>\n",
       "      <th></th>\n",
       "      <th></th>\n",
       "      <th></th>\n",
       "      <th></th>\n",
       "      <th></th>\n",
       "      <th></th>\n",
       "      <th></th>\n",
       "      <th></th>\n",
       "      <th></th>\n",
       "      <th></th>\n",
       "      <th></th>\n",
       "      <th></th>\n",
       "      <th></th>\n",
       "      <th></th>\n",
       "      <th></th>\n",
       "      <th></th>\n",
       "    </tr>\n",
       "  </thead>\n",
       "  <tbody>\n",
       "    <tr>\n",
       "      <th>2021-07-01 00:00:00</th>\n",
       "      <td>0.08781</td>\n",
       "      <td>4.1288</td>\n",
       "      <td>0.08791</td>\n",
       "      <td>4.1381</td>\n",
       "      <td>0.08804</td>\n",
       "      <td>4.1399</td>\n",
       "      <td>0.08765</td>\n",
       "      <td>4.1282</td>\n",
       "      <td>2.231479e+04</td>\n",
       "      <td>123655.088920</td>\n",
       "      <td>...</td>\n",
       "      <td>51.483134</td>\n",
       "      <td>52.229523</td>\n",
       "      <td>0.001647</td>\n",
       "      <td>0.001943</td>\n",
       "      <td>4.023948</td>\n",
       "      <td>0.083925</td>\n",
       "      <td>50.910955</td>\n",
       "      <td>51.352715</td>\n",
       "      <td>0.001871</td>\n",
       "      <td>0.002167</td>\n",
       "    </tr>\n",
       "    <tr>\n",
       "      <th>2021-07-01 00:01:00</th>\n",
       "      <td>0.08738</td>\n",
       "      <td>4.1148</td>\n",
       "      <td>0.08781</td>\n",
       "      <td>4.1296</td>\n",
       "      <td>0.08791</td>\n",
       "      <td>4.1375</td>\n",
       "      <td>0.08738</td>\n",
       "      <td>4.1148</td>\n",
       "      <td>8.973102e+03</td>\n",
       "      <td>119223.909846</td>\n",
       "      <td>...</td>\n",
       "      <td>51.280036</td>\n",
       "      <td>51.973006</td>\n",
       "      <td>0.001652</td>\n",
       "      <td>0.001950</td>\n",
       "      <td>4.024074</td>\n",
       "      <td>0.083930</td>\n",
       "      <td>50.811564</td>\n",
       "      <td>51.231364</td>\n",
       "      <td>0.001873</td>\n",
       "      <td>0.002171</td>\n",
       "    </tr>\n",
       "    <tr>\n",
       "      <th>2021-07-01 00:02:00</th>\n",
       "      <td>0.08718</td>\n",
       "      <td>4.1097</td>\n",
       "      <td>0.08738</td>\n",
       "      <td>4.1146</td>\n",
       "      <td>0.08741</td>\n",
       "      <td>4.1162</td>\n",
       "      <td>0.08718</td>\n",
       "      <td>4.1050</td>\n",
       "      <td>1.446196e+04</td>\n",
       "      <td>153654.617789</td>\n",
       "      <td>...</td>\n",
       "      <td>51.206346</td>\n",
       "      <td>51.854388</td>\n",
       "      <td>0.001646</td>\n",
       "      <td>0.001946</td>\n",
       "      <td>4.024193</td>\n",
       "      <td>0.083934</td>\n",
       "      <td>50.775429</td>\n",
       "      <td>51.175077</td>\n",
       "      <td>0.001866</td>\n",
       "      <td>0.002164</td>\n",
       "    </tr>\n",
       "    <tr>\n",
       "      <th>2021-07-01 00:03:00</th>\n",
       "      <td>0.08707</td>\n",
       "      <td>4.1099</td>\n",
       "      <td>0.08717</td>\n",
       "      <td>4.1099</td>\n",
       "      <td>0.08725</td>\n",
       "      <td>4.1119</td>\n",
       "      <td>0.08702</td>\n",
       "      <td>4.1065</td>\n",
       "      <td>7.473268e+03</td>\n",
       "      <td>61794.388661</td>\n",
       "      <td>...</td>\n",
       "      <td>51.209099</td>\n",
       "      <td>51.789288</td>\n",
       "      <td>0.001645</td>\n",
       "      <td>0.001945</td>\n",
       "      <td>4.024312</td>\n",
       "      <td>0.083938</td>\n",
       "      <td>50.776803</td>\n",
       "      <td>51.144151</td>\n",
       "      <td>0.001866</td>\n",
       "      <td>0.002163</td>\n",
       "    </tr>\n",
       "    <tr>\n",
       "      <th>2021-07-01 00:04:00</th>\n",
       "      <td>0.08720</td>\n",
       "      <td>4.1131</td>\n",
       "      <td>0.08704</td>\n",
       "      <td>4.1099</td>\n",
       "      <td>0.08721</td>\n",
       "      <td>4.1167</td>\n",
       "      <td>0.08704</td>\n",
       "      <td>4.1099</td>\n",
       "      <td>1.467517e+04</td>\n",
       "      <td>58306.891546</td>\n",
       "      <td>...</td>\n",
       "      <td>51.253172</td>\n",
       "      <td>51.860812</td>\n",
       "      <td>0.001641</td>\n",
       "      <td>0.001945</td>\n",
       "      <td>4.024435</td>\n",
       "      <td>0.083943</td>\n",
       "      <td>50.798787</td>\n",
       "      <td>51.179043</td>\n",
       "      <td>0.001866</td>\n",
       "      <td>0.002163</td>\n",
       "    </tr>\n",
       "    <tr>\n",
       "      <th>...</th>\n",
       "      <td>...</td>\n",
       "      <td>...</td>\n",
       "      <td>...</td>\n",
       "      <td>...</td>\n",
       "      <td>...</td>\n",
       "      <td>...</td>\n",
       "      <td>...</td>\n",
       "      <td>...</td>\n",
       "      <td>...</td>\n",
       "      <td>...</td>\n",
       "      <td>...</td>\n",
       "      <td>...</td>\n",
       "      <td>...</td>\n",
       "      <td>...</td>\n",
       "      <td>...</td>\n",
       "      <td>...</td>\n",
       "      <td>...</td>\n",
       "      <td>...</td>\n",
       "      <td>...</td>\n",
       "      <td>...</td>\n",
       "      <td>...</td>\n",
       "    </tr>\n",
       "    <tr>\n",
       "      <th>2022-03-31 10:25:00</th>\n",
       "      <td>0.19697</td>\n",
       "      <td>2.9730</td>\n",
       "      <td>0.19757</td>\n",
       "      <td>2.9720</td>\n",
       "      <td>0.19762</td>\n",
       "      <td>2.9750</td>\n",
       "      <td>0.19583</td>\n",
       "      <td>2.9710</td>\n",
       "      <td>1.494760e+06</td>\n",
       "      <td>23900.030500</td>\n",
       "      <td>...</td>\n",
       "      <td>50.666265</td>\n",
       "      <td>51.892087</td>\n",
       "      <td>0.000911</td>\n",
       "      <td>0.005512</td>\n",
       "      <td>2.950581</td>\n",
       "      <td>0.177708</td>\n",
       "      <td>50.648119</td>\n",
       "      <td>52.364345</td>\n",
       "      <td>0.001401</td>\n",
       "      <td>0.005270</td>\n",
       "    </tr>\n",
       "    <tr>\n",
       "      <th>2022-03-31 10:26:00</th>\n",
       "      <td>0.19527</td>\n",
       "      <td>2.9750</td>\n",
       "      <td>0.19696</td>\n",
       "      <td>2.9730</td>\n",
       "      <td>0.19723</td>\n",
       "      <td>2.9750</td>\n",
       "      <td>0.19526</td>\n",
       "      <td>2.9730</td>\n",
       "      <td>8.645501e+05</td>\n",
       "      <td>3070.550100</td>\n",
       "      <td>...</td>\n",
       "      <td>50.724885</td>\n",
       "      <td>51.719191</td>\n",
       "      <td>0.000912</td>\n",
       "      <td>0.005520</td>\n",
       "      <td>2.950615</td>\n",
       "      <td>0.177732</td>\n",
       "      <td>50.673847</td>\n",
       "      <td>52.261878</td>\n",
       "      <td>0.001401</td>\n",
       "      <td>0.005275</td>\n",
       "    </tr>\n",
       "    <tr>\n",
       "      <th>2022-03-31 10:27:00</th>\n",
       "      <td>0.19559</td>\n",
       "      <td>2.9760</td>\n",
       "      <td>0.19527</td>\n",
       "      <td>2.9750</td>\n",
       "      <td>0.19568</td>\n",
       "      <td>2.9760</td>\n",
       "      <td>0.19434</td>\n",
       "      <td>2.9750</td>\n",
       "      <td>6.994986e+05</td>\n",
       "      <td>1442.126200</td>\n",
       "      <td>...</td>\n",
       "      <td>50.754183</td>\n",
       "      <td>51.749495</td>\n",
       "      <td>0.000911</td>\n",
       "      <td>0.005518</td>\n",
       "      <td>2.950650</td>\n",
       "      <td>0.177757</td>\n",
       "      <td>50.686710</td>\n",
       "      <td>52.279468</td>\n",
       "      <td>0.001401</td>\n",
       "      <td>0.005272</td>\n",
       "    </tr>\n",
       "    <tr>\n",
       "      <th>2022-03-31 10:28:00</th>\n",
       "      <td>0.19519</td>\n",
       "      <td>2.9780</td>\n",
       "      <td>0.19558</td>\n",
       "      <td>2.9770</td>\n",
       "      <td>0.19559</td>\n",
       "      <td>2.9800</td>\n",
       "      <td>0.19476</td>\n",
       "      <td>2.9760</td>\n",
       "      <td>4.502589e+05</td>\n",
       "      <td>68588.778000</td>\n",
       "      <td>...</td>\n",
       "      <td>50.812757</td>\n",
       "      <td>51.708870</td>\n",
       "      <td>0.000912</td>\n",
       "      <td>0.005502</td>\n",
       "      <td>2.950688</td>\n",
       "      <td>0.177781</td>\n",
       "      <td>50.712433</td>\n",
       "      <td>52.255384</td>\n",
       "      <td>0.001401</td>\n",
       "      <td>0.005271</td>\n",
       "    </tr>\n",
       "    <tr>\n",
       "      <th>2022-03-31 10:29:00</th>\n",
       "      <td>0.19487</td>\n",
       "      <td>2.9800</td>\n",
       "      <td>0.19513</td>\n",
       "      <td>2.9780</td>\n",
       "      <td>0.19595</td>\n",
       "      <td>2.9820</td>\n",
       "      <td>0.19450</td>\n",
       "      <td>2.9770</td>\n",
       "      <td>6.123164e+05</td>\n",
       "      <td>34484.475500</td>\n",
       "      <td>...</td>\n",
       "      <td>50.871272</td>\n",
       "      <td>51.676370</td>\n",
       "      <td>0.000912</td>\n",
       "      <td>0.005498</td>\n",
       "      <td>2.950729</td>\n",
       "      <td>0.177805</td>\n",
       "      <td>50.738148</td>\n",
       "      <td>52.236119</td>\n",
       "      <td>0.001401</td>\n",
       "      <td>0.005269</td>\n",
       "    </tr>\n",
       "  </tbody>\n",
       "</table>\n",
       "<p>393360 rows × 46 columns</p>\n",
       "</div>"
      ],
      "text/plain": [
       "                     S1_close  S2_close  S1_open  S2_open  S1_high  S2_high  \\\n",
       "time                                                                          \n",
       "2021-07-01 00:00:00   0.08781    4.1288  0.08791   4.1381  0.08804   4.1399   \n",
       "2021-07-01 00:01:00   0.08738    4.1148  0.08781   4.1296  0.08791   4.1375   \n",
       "2021-07-01 00:02:00   0.08718    4.1097  0.08738   4.1146  0.08741   4.1162   \n",
       "2021-07-01 00:03:00   0.08707    4.1099  0.08717   4.1099  0.08725   4.1119   \n",
       "2021-07-01 00:04:00   0.08720    4.1131  0.08704   4.1099  0.08721   4.1167   \n",
       "...                       ...       ...      ...      ...      ...      ...   \n",
       "2022-03-31 10:25:00   0.19697    2.9730  0.19757   2.9720  0.19762   2.9750   \n",
       "2022-03-31 10:26:00   0.19527    2.9750  0.19696   2.9730  0.19723   2.9750   \n",
       "2022-03-31 10:27:00   0.19559    2.9760  0.19527   2.9750  0.19568   2.9760   \n",
       "2022-03-31 10:28:00   0.19519    2.9780  0.19558   2.9770  0.19559   2.9800   \n",
       "2022-03-31 10:29:00   0.19487    2.9800  0.19513   2.9780  0.19595   2.9820   \n",
       "\n",
       "                      S1_low  S2_low     S1_volume      S2_volume  ...  \\\n",
       "time                                                               ...   \n",
       "2021-07-01 00:00:00  0.08765  4.1282  2.231479e+04  123655.088920  ...   \n",
       "2021-07-01 00:01:00  0.08738  4.1148  8.973102e+03  119223.909846  ...   \n",
       "2021-07-01 00:02:00  0.08718  4.1050  1.446196e+04  153654.617789  ...   \n",
       "2021-07-01 00:03:00  0.08702  4.1065  7.473268e+03   61794.388661  ...   \n",
       "2021-07-01 00:04:00  0.08704  4.1099  1.467517e+04   58306.891546  ...   \n",
       "...                      ...     ...           ...            ...  ...   \n",
       "2022-03-31 10:25:00  0.19583  2.9710  1.494760e+06   23900.030500  ...   \n",
       "2022-03-31 10:26:00  0.19526  2.9730  8.645501e+05    3070.550100  ...   \n",
       "2022-03-31 10:27:00  0.19434  2.9750  6.994986e+05    1442.126200  ...   \n",
       "2022-03-31 10:28:00  0.19476  2.9760  4.502589e+05   68588.778000  ...   \n",
       "2022-03-31 10:29:00  0.19450  2.9770  6.123164e+05   34484.475500  ...   \n",
       "\n",
       "                     S1_720_rsi  S2_720_rsi  S1_720_vol  S2_720_vol  \\\n",
       "time                                                                  \n",
       "2021-07-01 00:00:00   51.483134   52.229523    0.001647    0.001943   \n",
       "2021-07-01 00:01:00   51.280036   51.973006    0.001652    0.001950   \n",
       "2021-07-01 00:02:00   51.206346   51.854388    0.001646    0.001946   \n",
       "2021-07-01 00:03:00   51.209099   51.789288    0.001645    0.001945   \n",
       "2021-07-01 00:04:00   51.253172   51.860812    0.001641    0.001945   \n",
       "...                         ...         ...         ...         ...   \n",
       "2022-03-31 10:25:00   50.666265   51.892087    0.000911    0.005512   \n",
       "2022-03-31 10:26:00   50.724885   51.719191    0.000912    0.005520   \n",
       "2022-03-31 10:27:00   50.754183   51.749495    0.000911    0.005518   \n",
       "2022-03-31 10:28:00   50.812757   51.708870    0.000912    0.005502   \n",
       "2022-03-31 10:29:00   50.871272   51.676370    0.000912    0.005498   \n",
       "\n",
       "                     S1_1440_ema  S2_1440_ema  S1_1440_rsi  S2_1440_rsi  \\\n",
       "time                                                                      \n",
       "2021-07-01 00:00:00     4.023948     0.083925    50.910955    51.352715   \n",
       "2021-07-01 00:01:00     4.024074     0.083930    50.811564    51.231364   \n",
       "2021-07-01 00:02:00     4.024193     0.083934    50.775429    51.175077   \n",
       "2021-07-01 00:03:00     4.024312     0.083938    50.776803    51.144151   \n",
       "2021-07-01 00:04:00     4.024435     0.083943    50.798787    51.179043   \n",
       "...                          ...          ...          ...          ...   \n",
       "2022-03-31 10:25:00     2.950581     0.177708    50.648119    52.364345   \n",
       "2022-03-31 10:26:00     2.950615     0.177732    50.673847    52.261878   \n",
       "2022-03-31 10:27:00     2.950650     0.177757    50.686710    52.279468   \n",
       "2022-03-31 10:28:00     2.950688     0.177781    50.712433    52.255384   \n",
       "2022-03-31 10:29:00     2.950729     0.177805    50.738148    52.236119   \n",
       "\n",
       "                     S1_1440_vol  S2_1440_vol  \n",
       "time                                           \n",
       "2021-07-01 00:00:00     0.001871     0.002167  \n",
       "2021-07-01 00:01:00     0.001873     0.002171  \n",
       "2021-07-01 00:02:00     0.001866     0.002164  \n",
       "2021-07-01 00:03:00     0.001866     0.002163  \n",
       "2021-07-01 00:04:00     0.001866     0.002163  \n",
       "...                          ...          ...  \n",
       "2022-03-31 10:25:00     0.001401     0.005270  \n",
       "2022-03-31 10:26:00     0.001401     0.005275  \n",
       "2022-03-31 10:27:00     0.001401     0.005272  \n",
       "2022-03-31 10:28:00     0.001401     0.005271  \n",
       "2022-03-31 10:29:00     0.001401     0.005269  \n",
       "\n",
       "[393360 rows x 46 columns]"
      ]
     },
     "execution_count": 17,
     "metadata": {},
     "output_type": "execute_result"
    }
   ],
   "source": [
    "pair_data # a df having data of both pair"
   ]
  },
  {
   "cell_type": "code",
   "execution_count": 18,
   "metadata": {},
   "outputs": [
    {
     "data": {
      "text/plain": [
       "Index(['S1_close', 'S2_close', 'S1_open', 'S2_open', 'S1_high', 'S2_high',\n",
       "       'S1_low', 'S2_low', 'S1_volume', 'S2_volume', 'S1_30_ema', 'S2_30_ema',\n",
       "       'S1_30_rsi', 'S2_30_rsi', 'S1_30_vol', 'S2_30_vol', 'S1_60_ema',\n",
       "       'S2_60_ema', 'S1_60_rsi', 'S2_60_rsi', 'S1_60_vol', 'S2_60_vol',\n",
       "       'S1_240_ema', 'S2_240_ema', 'S1_240_rsi', 'S2_240_rsi', 'S1_240_vol',\n",
       "       'S2_240_vol', 'S1_480_ema', 'S2_480_ema', 'S1_480_rsi', 'S2_480_rsi',\n",
       "       'S1_480_vol', 'S2_480_vol', 'S1_720_ema', 'S2_720_ema', 'S1_720_rsi',\n",
       "       'S2_720_rsi', 'S1_720_vol', 'S2_720_vol', 'S1_1440_ema', 'S2_1440_ema',\n",
       "       'S1_1440_rsi', 'S2_1440_rsi', 'S1_1440_vol', 'S2_1440_vol'],\n",
       "      dtype='object')"
      ]
     },
     "execution_count": 18,
     "metadata": {},
     "output_type": "execute_result"
    }
   ],
   "source": [
    "pair_data.columns"
   ]
  },
  {
   "cell_type": "code",
   "execution_count": 19,
   "metadata": {},
   "outputs": [],
   "source": [
    "col_for_cal_spread=data[\"ZIL\"].columns[0:4]\n",
    "for col in col_for_cal_spread:\n",
    "    lr=LinearRegression()\n",
    "    S_one=\"S1_\"+col\n",
    "    S_two=\"S2_\"+col\n",
    "    lr.fit(pair_data[S_one].values.reshape(-1,1),pair_data[S_two].values.reshape(-1,1))\n",
    "    spread_coef=-lr.coef_[0]\n",
    "    String_spread=\"Spread_\"+col\n",
    "    pair_data[String_spread]=pair_data[S_one]+(pair_data[S_two]*spread_coef)\n"
   ]
  },
  {
   "cell_type": "code",
   "execution_count": 20,
   "metadata": {},
   "outputs": [
    {
     "data": {
      "text/html": [
       "<div>\n",
       "<style scoped>\n",
       "    .dataframe tbody tr th:only-of-type {\n",
       "        vertical-align: middle;\n",
       "    }\n",
       "\n",
       "    .dataframe tbody tr th {\n",
       "        vertical-align: top;\n",
       "    }\n",
       "\n",
       "    .dataframe thead th {\n",
       "        text-align: right;\n",
       "    }\n",
       "</style>\n",
       "<table border=\"1\" class=\"dataframe\">\n",
       "  <thead>\n",
       "    <tr style=\"text-align: right;\">\n",
       "      <th></th>\n",
       "      <th>S1_close</th>\n",
       "      <th>S2_close</th>\n",
       "      <th>S1_open</th>\n",
       "      <th>S2_open</th>\n",
       "      <th>S1_high</th>\n",
       "      <th>S2_high</th>\n",
       "      <th>S1_low</th>\n",
       "      <th>S2_low</th>\n",
       "      <th>S1_volume</th>\n",
       "      <th>S2_volume</th>\n",
       "      <th>...</th>\n",
       "      <th>S1_1440_ema</th>\n",
       "      <th>S2_1440_ema</th>\n",
       "      <th>S1_1440_rsi</th>\n",
       "      <th>S2_1440_rsi</th>\n",
       "      <th>S1_1440_vol</th>\n",
       "      <th>S2_1440_vol</th>\n",
       "      <th>Spread_open</th>\n",
       "      <th>Spread_high</th>\n",
       "      <th>Spread_low</th>\n",
       "      <th>Spread_close</th>\n",
       "    </tr>\n",
       "    <tr>\n",
       "      <th>time</th>\n",
       "      <th></th>\n",
       "      <th></th>\n",
       "      <th></th>\n",
       "      <th></th>\n",
       "      <th></th>\n",
       "      <th></th>\n",
       "      <th></th>\n",
       "      <th></th>\n",
       "      <th></th>\n",
       "      <th></th>\n",
       "      <th></th>\n",
       "      <th></th>\n",
       "      <th></th>\n",
       "      <th></th>\n",
       "      <th></th>\n",
       "      <th></th>\n",
       "      <th></th>\n",
       "      <th></th>\n",
       "      <th></th>\n",
       "      <th></th>\n",
       "      <th></th>\n",
       "    </tr>\n",
       "  </thead>\n",
       "  <tbody>\n",
       "    <tr>\n",
       "      <th>2021-07-01 00:00:00</th>\n",
       "      <td>0.08781</td>\n",
       "      <td>4.1288</td>\n",
       "      <td>0.08791</td>\n",
       "      <td>4.1381</td>\n",
       "      <td>0.08804</td>\n",
       "      <td>4.1399</td>\n",
       "      <td>0.08765</td>\n",
       "      <td>4.1282</td>\n",
       "      <td>2.231479e+04</td>\n",
       "      <td>123655.088920</td>\n",
       "      <td>...</td>\n",
       "      <td>4.023948</td>\n",
       "      <td>0.083925</td>\n",
       "      <td>50.910955</td>\n",
       "      <td>51.352715</td>\n",
       "      <td>0.001871</td>\n",
       "      <td>0.002167</td>\n",
       "      <td>-157.697819</td>\n",
       "      <td>-157.547380</td>\n",
       "      <td>-157.520889</td>\n",
       "      <td>-157.332656</td>\n",
       "    </tr>\n",
       "    <tr>\n",
       "      <th>2021-07-01 00:01:00</th>\n",
       "      <td>0.08738</td>\n",
       "      <td>4.1148</td>\n",
       "      <td>0.08781</td>\n",
       "      <td>4.1296</td>\n",
       "      <td>0.08791</td>\n",
       "      <td>4.1375</td>\n",
       "      <td>0.08738</td>\n",
       "      <td>4.1148</td>\n",
       "      <td>8.973102e+03</td>\n",
       "      <td>119223.909846</td>\n",
       "      <td>...</td>\n",
       "      <td>4.024074</td>\n",
       "      <td>0.083930</td>\n",
       "      <td>50.811564</td>\n",
       "      <td>51.231364</td>\n",
       "      <td>0.001873</td>\n",
       "      <td>0.002171</td>\n",
       "      <td>-157.373814</td>\n",
       "      <td>-157.456125</td>\n",
       "      <td>-157.009567</td>\n",
       "      <td>-156.799302</td>\n",
       "    </tr>\n",
       "    <tr>\n",
       "      <th>2021-07-01 00:02:00</th>\n",
       "      <td>0.08718</td>\n",
       "      <td>4.1097</td>\n",
       "      <td>0.08738</td>\n",
       "      <td>4.1146</td>\n",
       "      <td>0.08741</td>\n",
       "      <td>4.1162</td>\n",
       "      <td>0.08718</td>\n",
       "      <td>4.1050</td>\n",
       "      <td>1.446196e+04</td>\n",
       "      <td>153654.617789</td>\n",
       "      <td>...</td>\n",
       "      <td>4.024193</td>\n",
       "      <td>0.083934</td>\n",
       "      <td>50.775429</td>\n",
       "      <td>51.175077</td>\n",
       "      <td>0.001866</td>\n",
       "      <td>0.002164</td>\n",
       "      <td>-156.802294</td>\n",
       "      <td>-156.645583</td>\n",
       "      <td>-156.635618</td>\n",
       "      <td>-156.605053</td>\n",
       "    </tr>\n",
       "    <tr>\n",
       "      <th>2021-07-01 00:03:00</th>\n",
       "      <td>0.08707</td>\n",
       "      <td>4.1099</td>\n",
       "      <td>0.08717</td>\n",
       "      <td>4.1099</td>\n",
       "      <td>0.08725</td>\n",
       "      <td>4.1119</td>\n",
       "      <td>0.08702</td>\n",
       "      <td>4.1065</td>\n",
       "      <td>7.473268e+03</td>\n",
       "      <td>61794.388661</td>\n",
       "      <td>...</td>\n",
       "      <td>4.024312</td>\n",
       "      <td>0.083938</td>\n",
       "      <td>50.776803</td>\n",
       "      <td>51.144151</td>\n",
       "      <td>0.001866</td>\n",
       "      <td>0.002163</td>\n",
       "      <td>-156.623293</td>\n",
       "      <td>-156.482011</td>\n",
       "      <td>-156.693045</td>\n",
       "      <td>-156.612788</td>\n",
       "    </tr>\n",
       "    <tr>\n",
       "      <th>2021-07-01 00:04:00</th>\n",
       "      <td>0.08720</td>\n",
       "      <td>4.1131</td>\n",
       "      <td>0.08704</td>\n",
       "      <td>4.1099</td>\n",
       "      <td>0.08721</td>\n",
       "      <td>4.1167</td>\n",
       "      <td>0.08704</td>\n",
       "      <td>4.1099</td>\n",
       "      <td>1.467517e+04</td>\n",
       "      <td>58306.891546</td>\n",
       "      <td>...</td>\n",
       "      <td>4.024435</td>\n",
       "      <td>0.083943</td>\n",
       "      <td>50.798787</td>\n",
       "      <td>51.179043</td>\n",
       "      <td>0.001866</td>\n",
       "      <td>0.002163</td>\n",
       "      <td>-156.623423</td>\n",
       "      <td>-156.664821</td>\n",
       "      <td>-156.822832</td>\n",
       "      <td>-156.734666</td>\n",
       "    </tr>\n",
       "    <tr>\n",
       "      <th>...</th>\n",
       "      <td>...</td>\n",
       "      <td>...</td>\n",
       "      <td>...</td>\n",
       "      <td>...</td>\n",
       "      <td>...</td>\n",
       "      <td>...</td>\n",
       "      <td>...</td>\n",
       "      <td>...</td>\n",
       "      <td>...</td>\n",
       "      <td>...</td>\n",
       "      <td>...</td>\n",
       "      <td>...</td>\n",
       "      <td>...</td>\n",
       "      <td>...</td>\n",
       "      <td>...</td>\n",
       "      <td>...</td>\n",
       "      <td>...</td>\n",
       "      <td>...</td>\n",
       "      <td>...</td>\n",
       "      <td>...</td>\n",
       "      <td>...</td>\n",
       "    </tr>\n",
       "    <tr>\n",
       "      <th>2022-03-31 10:25:00</th>\n",
       "      <td>0.19697</td>\n",
       "      <td>2.9730</td>\n",
       "      <td>0.19757</td>\n",
       "      <td>2.9720</td>\n",
       "      <td>0.19762</td>\n",
       "      <td>2.9750</td>\n",
       "      <td>0.19583</td>\n",
       "      <td>2.9710</td>\n",
       "      <td>1.494760e+06</td>\n",
       "      <td>23900.030500</td>\n",
       "      <td>...</td>\n",
       "      <td>2.950581</td>\n",
       "      <td>0.177708</td>\n",
       "      <td>50.648119</td>\n",
       "      <td>52.364345</td>\n",
       "      <td>0.001401</td>\n",
       "      <td>0.005270</td>\n",
       "      <td>-113.124772</td>\n",
       "      <td>-113.081777</td>\n",
       "      <td>-113.232533</td>\n",
       "      <td>-113.155831</td>\n",
       "    </tr>\n",
       "    <tr>\n",
       "      <th>2022-03-31 10:26:00</th>\n",
       "      <td>0.19527</td>\n",
       "      <td>2.9750</td>\n",
       "      <td>0.19696</td>\n",
       "      <td>2.9730</td>\n",
       "      <td>0.19723</td>\n",
       "      <td>2.9750</td>\n",
       "      <td>0.19526</td>\n",
       "      <td>2.9730</td>\n",
       "      <td>8.645501e+05</td>\n",
       "      <td>3070.550100</td>\n",
       "      <td>...</td>\n",
       "      <td>2.950615</td>\n",
       "      <td>0.177732</td>\n",
       "      <td>50.673847</td>\n",
       "      <td>52.261878</td>\n",
       "      <td>0.001401</td>\n",
       "      <td>0.005275</td>\n",
       "      <td>-113.163512</td>\n",
       "      <td>-113.082167</td>\n",
       "      <td>-113.309460</td>\n",
       "      <td>-113.233786</td>\n",
       "    </tr>\n",
       "    <tr>\n",
       "      <th>2022-03-31 10:27:00</th>\n",
       "      <td>0.19559</td>\n",
       "      <td>2.9760</td>\n",
       "      <td>0.19527</td>\n",
       "      <td>2.9750</td>\n",
       "      <td>0.19568</td>\n",
       "      <td>2.9760</td>\n",
       "      <td>0.19434</td>\n",
       "      <td>2.9750</td>\n",
       "      <td>6.994986e+05</td>\n",
       "      <td>1442.126200</td>\n",
       "      <td>...</td>\n",
       "      <td>2.950650</td>\n",
       "      <td>0.177757</td>\n",
       "      <td>50.686710</td>\n",
       "      <td>52.279468</td>\n",
       "      <td>0.001401</td>\n",
       "      <td>0.005272</td>\n",
       "      <td>-113.241462</td>\n",
       "      <td>-113.121794</td>\n",
       "      <td>-113.386737</td>\n",
       "      <td>-113.271593</td>\n",
       "    </tr>\n",
       "    <tr>\n",
       "      <th>2022-03-31 10:28:00</th>\n",
       "      <td>0.19519</td>\n",
       "      <td>2.9780</td>\n",
       "      <td>0.19558</td>\n",
       "      <td>2.9770</td>\n",
       "      <td>0.19559</td>\n",
       "      <td>2.9800</td>\n",
       "      <td>0.19476</td>\n",
       "      <td>2.9760</td>\n",
       "      <td>4.502589e+05</td>\n",
       "      <td>68588.778000</td>\n",
       "      <td>...</td>\n",
       "      <td>2.950688</td>\n",
       "      <td>0.177781</td>\n",
       "      <td>50.712433</td>\n",
       "      <td>52.255384</td>\n",
       "      <td>0.001401</td>\n",
       "      <td>0.005271</td>\n",
       "      <td>-113.317412</td>\n",
       "      <td>-113.274192</td>\n",
       "      <td>-113.424496</td>\n",
       "      <td>-113.348248</td>\n",
       "    </tr>\n",
       "    <tr>\n",
       "      <th>2022-03-31 10:29:00</th>\n",
       "      <td>0.19487</td>\n",
       "      <td>2.9800</td>\n",
       "      <td>0.19513</td>\n",
       "      <td>2.9780</td>\n",
       "      <td>0.19595</td>\n",
       "      <td>2.9820</td>\n",
       "      <td>0.19450</td>\n",
       "      <td>2.9770</td>\n",
       "      <td>6.123164e+05</td>\n",
       "      <td>34484.475500</td>\n",
       "      <td>...</td>\n",
       "      <td>2.950729</td>\n",
       "      <td>0.177805</td>\n",
       "      <td>50.738148</td>\n",
       "      <td>52.236119</td>\n",
       "      <td>0.001401</td>\n",
       "      <td>0.005269</td>\n",
       "      <td>-113.355992</td>\n",
       "      <td>-113.349987</td>\n",
       "      <td>-113.462934</td>\n",
       "      <td>-113.424823</td>\n",
       "    </tr>\n",
       "  </tbody>\n",
       "</table>\n",
       "<p>393360 rows × 50 columns</p>\n",
       "</div>"
      ],
      "text/plain": [
       "                     S1_close  S2_close  S1_open  S2_open  S1_high  S2_high  \\\n",
       "time                                                                          \n",
       "2021-07-01 00:00:00   0.08781    4.1288  0.08791   4.1381  0.08804   4.1399   \n",
       "2021-07-01 00:01:00   0.08738    4.1148  0.08781   4.1296  0.08791   4.1375   \n",
       "2021-07-01 00:02:00   0.08718    4.1097  0.08738   4.1146  0.08741   4.1162   \n",
       "2021-07-01 00:03:00   0.08707    4.1099  0.08717   4.1099  0.08725   4.1119   \n",
       "2021-07-01 00:04:00   0.08720    4.1131  0.08704   4.1099  0.08721   4.1167   \n",
       "...                       ...       ...      ...      ...      ...      ...   \n",
       "2022-03-31 10:25:00   0.19697    2.9730  0.19757   2.9720  0.19762   2.9750   \n",
       "2022-03-31 10:26:00   0.19527    2.9750  0.19696   2.9730  0.19723   2.9750   \n",
       "2022-03-31 10:27:00   0.19559    2.9760  0.19527   2.9750  0.19568   2.9760   \n",
       "2022-03-31 10:28:00   0.19519    2.9780  0.19558   2.9770  0.19559   2.9800   \n",
       "2022-03-31 10:29:00   0.19487    2.9800  0.19513   2.9780  0.19595   2.9820   \n",
       "\n",
       "                      S1_low  S2_low     S1_volume      S2_volume  ...  \\\n",
       "time                                                               ...   \n",
       "2021-07-01 00:00:00  0.08765  4.1282  2.231479e+04  123655.088920  ...   \n",
       "2021-07-01 00:01:00  0.08738  4.1148  8.973102e+03  119223.909846  ...   \n",
       "2021-07-01 00:02:00  0.08718  4.1050  1.446196e+04  153654.617789  ...   \n",
       "2021-07-01 00:03:00  0.08702  4.1065  7.473268e+03   61794.388661  ...   \n",
       "2021-07-01 00:04:00  0.08704  4.1099  1.467517e+04   58306.891546  ...   \n",
       "...                      ...     ...           ...            ...  ...   \n",
       "2022-03-31 10:25:00  0.19583  2.9710  1.494760e+06   23900.030500  ...   \n",
       "2022-03-31 10:26:00  0.19526  2.9730  8.645501e+05    3070.550100  ...   \n",
       "2022-03-31 10:27:00  0.19434  2.9750  6.994986e+05    1442.126200  ...   \n",
       "2022-03-31 10:28:00  0.19476  2.9760  4.502589e+05   68588.778000  ...   \n",
       "2022-03-31 10:29:00  0.19450  2.9770  6.123164e+05   34484.475500  ...   \n",
       "\n",
       "                     S1_1440_ema  S2_1440_ema  S1_1440_rsi  S2_1440_rsi  \\\n",
       "time                                                                      \n",
       "2021-07-01 00:00:00     4.023948     0.083925    50.910955    51.352715   \n",
       "2021-07-01 00:01:00     4.024074     0.083930    50.811564    51.231364   \n",
       "2021-07-01 00:02:00     4.024193     0.083934    50.775429    51.175077   \n",
       "2021-07-01 00:03:00     4.024312     0.083938    50.776803    51.144151   \n",
       "2021-07-01 00:04:00     4.024435     0.083943    50.798787    51.179043   \n",
       "...                          ...          ...          ...          ...   \n",
       "2022-03-31 10:25:00     2.950581     0.177708    50.648119    52.364345   \n",
       "2022-03-31 10:26:00     2.950615     0.177732    50.673847    52.261878   \n",
       "2022-03-31 10:27:00     2.950650     0.177757    50.686710    52.279468   \n",
       "2022-03-31 10:28:00     2.950688     0.177781    50.712433    52.255384   \n",
       "2022-03-31 10:29:00     2.950729     0.177805    50.738148    52.236119   \n",
       "\n",
       "                     S1_1440_vol  S2_1440_vol  Spread_open  Spread_high  \\\n",
       "time                                                                      \n",
       "2021-07-01 00:00:00     0.001871     0.002167  -157.697819  -157.547380   \n",
       "2021-07-01 00:01:00     0.001873     0.002171  -157.373814  -157.456125   \n",
       "2021-07-01 00:02:00     0.001866     0.002164  -156.802294  -156.645583   \n",
       "2021-07-01 00:03:00     0.001866     0.002163  -156.623293  -156.482011   \n",
       "2021-07-01 00:04:00     0.001866     0.002163  -156.623423  -156.664821   \n",
       "...                          ...          ...          ...          ...   \n",
       "2022-03-31 10:25:00     0.001401     0.005270  -113.124772  -113.081777   \n",
       "2022-03-31 10:26:00     0.001401     0.005275  -113.163512  -113.082167   \n",
       "2022-03-31 10:27:00     0.001401     0.005272  -113.241462  -113.121794   \n",
       "2022-03-31 10:28:00     0.001401     0.005271  -113.317412  -113.274192   \n",
       "2022-03-31 10:29:00     0.001401     0.005269  -113.355992  -113.349987   \n",
       "\n",
       "                     Spread_low  Spread_close  \n",
       "time                                           \n",
       "2021-07-01 00:00:00 -157.520889   -157.332656  \n",
       "2021-07-01 00:01:00 -157.009567   -156.799302  \n",
       "2021-07-01 00:02:00 -156.635618   -156.605053  \n",
       "2021-07-01 00:03:00 -156.693045   -156.612788  \n",
       "2021-07-01 00:04:00 -156.822832   -156.734666  \n",
       "...                         ...           ...  \n",
       "2022-03-31 10:25:00 -113.232533   -113.155831  \n",
       "2022-03-31 10:26:00 -113.309460   -113.233786  \n",
       "2022-03-31 10:27:00 -113.386737   -113.271593  \n",
       "2022-03-31 10:28:00 -113.424496   -113.348248  \n",
       "2022-03-31 10:29:00 -113.462934   -113.424823  \n",
       "\n",
       "[393360 rows x 50 columns]"
      ]
     },
     "execution_count": 20,
     "metadata": {},
     "output_type": "execute_result"
    }
   ],
   "source": [
    "pair_data"
   ]
  },
  {
   "cell_type": "code",
   "execution_count": 21,
   "metadata": {},
   "outputs": [],
   "source": [
    "cols_trained=pair_data.columns[8:]\n",
    "lstm_pair_data=pair_data[cols_trained].copy()"
   ]
  },
  {
   "cell_type": "code",
   "execution_count": 22,
   "metadata": {},
   "outputs": [],
   "source": [
    "#count how many data point for each day\n",
    "n=0\n",
    "for i in range(10000):\n",
    "    if \"2021-07-01\" in str(lstm_pair_data.index[i]):\n",
    "        n=n+1\n",
    "#n=1440"
   ]
  },
  {
   "cell_type": "code",
   "execution_count": null,
   "metadata": {},
   "outputs": [],
   "source": [
    "#Wavelet Denoising"
   ]
  },
  {
   "cell_type": "code",
   "execution_count": 23,
   "metadata": {},
   "outputs": [],
   "source": [
    "def wav_den(ts_orig):\n",
    "    (ca, cd) = pywt.dwt(ts_orig, 'db8')\n",
    "    cat = pywt.threshold(ca, np.std(ca)/8, mode='soft')\n",
    "    cdt = pywt.threshold(cd, np.std(cd)/8, mode='soft')\n",
    "    ts_rec = pywt.idwt(cat, cdt, 'db8')\n",
    "    return ts_rec[1:]\n"
   ]
  },
  {
   "cell_type": "code",
   "execution_count": null,
   "metadata": {},
   "outputs": [],
   "source": [
    "#testing_size: 15 days"
   ]
  },
  {
   "cell_type": "code",
   "execution_count": 24,
   "metadata": {},
   "outputs": [],
   "source": [
    "train_size=int(len(lstm_pair_data.index)*0.9)\n",
    "test_size=1440*15\n",
    "validation_size=int(len(lstm_pair_data.index)-(train_size+test_size)) # around 12.3 days\n",
    "\n",
    "\n",
    "train= lstm_pair_data[0:train_size]\n",
    "dev=lstm_pair_data[train_size: (train_size+validation_size)]\n",
    "test=lstm_pair_data[int(len(lstm_pair_data))-test_size:int(len(lstm_pair_data))]\n"
   ]
  },
  {
   "cell_type": "code",
   "execution_count": 25,
   "metadata": {},
   "outputs": [],
   "source": [
    "cols=lstm_pair_data.columns\n",
    "train_den = pd.DataFrame(columns = cols)\n",
    "for col in cols:\n",
    "    train_den[col] = wav_den(train[col])"
   ]
  },
  {
   "cell_type": "code",
   "execution_count": 26,
   "metadata": {},
   "outputs": [
    {
     "data": {
      "text/plain": [
       "Index(['S1_volume', 'S2_volume', 'S1_30_ema', 'S2_30_ema', 'S1_30_rsi',\n",
       "       'S2_30_rsi', 'S1_30_vol', 'S2_30_vol', 'S1_60_ema', 'S2_60_ema',\n",
       "       'S1_60_rsi', 'S2_60_rsi', 'S1_60_vol', 'S2_60_vol', 'S1_240_ema',\n",
       "       'S2_240_ema', 'S1_240_rsi', 'S2_240_rsi', 'S1_240_vol', 'S2_240_vol',\n",
       "       'S1_480_ema', 'S2_480_ema', 'S1_480_rsi', 'S2_480_rsi', 'S1_480_vol',\n",
       "       'S2_480_vol', 'S1_720_ema', 'S2_720_ema', 'S1_720_rsi', 'S2_720_rsi',\n",
       "       'S1_720_vol', 'S2_720_vol', 'S1_1440_ema', 'S2_1440_ema', 'S1_1440_rsi',\n",
       "       'S2_1440_rsi', 'S1_1440_vol', 'S2_1440_vol', 'Spread_open',\n",
       "       'Spread_high', 'Spread_low', 'Spread_close'],\n",
       "      dtype='object')"
      ]
     },
     "execution_count": 26,
     "metadata": {},
     "output_type": "execute_result"
    }
   ],
   "source": [
    "train_den.columns"
   ]
  },
  {
   "cell_type": "code",
   "execution_count": 140,
   "metadata": {},
   "outputs": [],
   "source": [
    "#Comparison of the performance of the model using different optimizers"
   ]
  },
  {
   "cell_type": "code",
   "execution_count": 174,
   "metadata": {},
   "outputs": [],
   "source": [
    "# generate the dataset with normalization and set the y as the volume"
   ]
  },
  {
   "cell_type": "code",
   "execution_count": 27,
   "metadata": {},
   "outputs": [
    {
     "data": {
      "text/plain": [
       "'S1_volume'"
      ]
     },
     "execution_count": 27,
     "metadata": {},
     "output_type": "execute_result"
    }
   ],
   "source": [
    "test.columns[0]"
   ]
  },
  {
   "cell_type": "code",
   "execution_count": 28,
   "metadata": {},
   "outputs": [
    {
     "name": "stdout",
     "output_type": "stream",
     "text": [
      "354022\n",
      "17735\n",
      "21599\n"
     ]
    }
   ],
   "source": [
    "look_back=1\n",
    "scaler = MinMaxScaler(feature_range=(0, 1))\n",
    "# Create function for creating dataset with look back\n",
    "def create_dataset(dataset, look_back=1):\n",
    "    dataX, dataY = [], []\n",
    "    for i in range(len(dataset) - look_back):\n",
    "        a = dataset[i, :]\n",
    "        dataX.append(a)\n",
    "        dataY.append(dataset[(i+1):(i+1+look_back), 0])\n",
    "    print(len(dataY))\n",
    "    return dataX, np.array(scaler.fit_transform(dataX)), dataY, np.array(scaler.fit_transform(dataY))\n",
    "\n",
    "# Generate dataset for trainX, trainY, testX, testY\n",
    "trainX_untr, trainX, trainY_untr, trainY = create_dataset(train_den.values, look_back)\n",
    "devX_untr, devX, devY_untr, devY = create_dataset(dev.values, look_back)\n",
    "testX_untr, testX, testY_untr, testY = create_dataset(test.values, look_back)"
   ]
  },
  {
   "cell_type": "code",
   "execution_count": 29,
   "metadata": {},
   "outputs": [
    {
     "data": {
      "text/html": [
       "<div>\n",
       "<style scoped>\n",
       "    .dataframe tbody tr th:only-of-type {\n",
       "        vertical-align: middle;\n",
       "    }\n",
       "\n",
       "    .dataframe tbody tr th {\n",
       "        vertical-align: top;\n",
       "    }\n",
       "\n",
       "    .dataframe thead th {\n",
       "        text-align: right;\n",
       "    }\n",
       "</style>\n",
       "<table border=\"1\" class=\"dataframe\">\n",
       "  <thead>\n",
       "    <tr style=\"text-align: right;\">\n",
       "      <th></th>\n",
       "      <th>S1_volume</th>\n",
       "      <th>S2_volume</th>\n",
       "      <th>S1_30_ema</th>\n",
       "      <th>S2_30_ema</th>\n",
       "      <th>S1_30_rsi</th>\n",
       "      <th>S2_30_rsi</th>\n",
       "      <th>S1_30_vol</th>\n",
       "      <th>S2_30_vol</th>\n",
       "      <th>S1_60_ema</th>\n",
       "      <th>S2_60_ema</th>\n",
       "      <th>...</th>\n",
       "      <th>S1_1440_ema</th>\n",
       "      <th>S2_1440_ema</th>\n",
       "      <th>S1_1440_rsi</th>\n",
       "      <th>S2_1440_rsi</th>\n",
       "      <th>S1_1440_vol</th>\n",
       "      <th>S2_1440_vol</th>\n",
       "      <th>Spread_open</th>\n",
       "      <th>Spread_high</th>\n",
       "      <th>Spread_low</th>\n",
       "      <th>Spread_close</th>\n",
       "    </tr>\n",
       "  </thead>\n",
       "  <tbody>\n",
       "    <tr>\n",
       "      <th>0</th>\n",
       "      <td>7445.393503</td>\n",
       "      <td>103177.833700</td>\n",
       "      <td>4.001623</td>\n",
       "      <td>0.084889</td>\n",
       "      <td>49.135812</td>\n",
       "      <td>46.673123</td>\n",
       "      <td>0.001259</td>\n",
       "      <td>0.001681</td>\n",
       "      <td>3.991194</td>\n",
       "      <td>0.084704</td>\n",
       "      <td>...</td>\n",
       "      <td>3.901815</td>\n",
       "      <td>0.081110</td>\n",
       "      <td>50.665088</td>\n",
       "      <td>51.085740</td>\n",
       "      <td>0.001809</td>\n",
       "      <td>0.002107</td>\n",
       "      <td>-152.664798</td>\n",
       "      <td>-152.749908</td>\n",
       "      <td>-152.319050</td>\n",
       "      <td>-152.111029</td>\n",
       "    </tr>\n",
       "    <tr>\n",
       "      <th>1</th>\n",
       "      <td>9703.638040</td>\n",
       "      <td>136069.292602</td>\n",
       "      <td>4.000634</td>\n",
       "      <td>0.084853</td>\n",
       "      <td>47.156179</td>\n",
       "      <td>44.136633</td>\n",
       "      <td>0.001242</td>\n",
       "      <td>0.001728</td>\n",
       "      <td>3.991040</td>\n",
       "      <td>0.084692</td>\n",
       "      <td>...</td>\n",
       "      <td>3.901933</td>\n",
       "      <td>0.081114</td>\n",
       "      <td>50.629191</td>\n",
       "      <td>51.029689</td>\n",
       "      <td>0.001803</td>\n",
       "      <td>0.002101</td>\n",
       "      <td>-152.110138</td>\n",
       "      <td>-151.959648</td>\n",
       "      <td>-151.945989</td>\n",
       "      <td>-151.917796</td>\n",
       "    </tr>\n",
       "    <tr>\n",
       "      <th>2</th>\n",
       "      <td>5960.265505</td>\n",
       "      <td>54431.696961</td>\n",
       "      <td>3.999716</td>\n",
       "      <td>0.084813</td>\n",
       "      <td>47.012541</td>\n",
       "      <td>42.576552</td>\n",
       "      <td>0.001201</td>\n",
       "      <td>0.001739</td>\n",
       "      <td>3.990903</td>\n",
       "      <td>0.084677</td>\n",
       "      <td>...</td>\n",
       "      <td>3.902053</td>\n",
       "      <td>0.081119</td>\n",
       "      <td>50.625401</td>\n",
       "      <td>50.993650</td>\n",
       "      <td>0.001802</td>\n",
       "      <td>0.002100</td>\n",
       "      <td>-151.912965</td>\n",
       "      <td>-151.776180</td>\n",
       "      <td>-151.983799</td>\n",
       "      <td>-151.903422</td>\n",
       "    </tr>\n",
       "    <tr>\n",
       "      <th>3</th>\n",
       "      <td>10291.581226</td>\n",
       "      <td>40204.241077</td>\n",
       "      <td>3.999094</td>\n",
       "      <td>0.084783</td>\n",
       "      <td>48.352498</td>\n",
       "      <td>44.534419</td>\n",
       "      <td>0.001205</td>\n",
       "      <td>0.001763</td>\n",
       "      <td>3.990862</td>\n",
       "      <td>0.084666</td>\n",
       "      <td>...</td>\n",
       "      <td>3.902176</td>\n",
       "      <td>0.081123</td>\n",
       "      <td>50.647177</td>\n",
       "      <td>51.028336</td>\n",
       "      <td>0.001802</td>\n",
       "      <td>0.002100</td>\n",
       "      <td>-151.943849</td>\n",
       "      <td>-151.967293</td>\n",
       "      <td>-152.112695</td>\n",
       "      <td>-152.024409</td>\n",
       "    </tr>\n",
       "    <tr>\n",
       "      <th>4</th>\n",
       "      <td>8567.391022</td>\n",
       "      <td>72579.232236</td>\n",
       "      <td>3.997496</td>\n",
       "      <td>0.084744</td>\n",
       "      <td>42.974388</td>\n",
       "      <td>42.356290</td>\n",
       "      <td>0.001336</td>\n",
       "      <td>0.001786</td>\n",
       "      <td>3.990326</td>\n",
       "      <td>0.084649</td>\n",
       "      <td>...</td>\n",
       "      <td>3.902278</td>\n",
       "      <td>0.081128</td>\n",
       "      <td>50.544586</td>\n",
       "      <td>50.977107</td>\n",
       "      <td>0.001804</td>\n",
       "      <td>0.002100</td>\n",
       "      <td>-151.974043</td>\n",
       "      <td>-151.796711</td>\n",
       "      <td>-151.624633</td>\n",
       "      <td>-151.466595</td>\n",
       "    </tr>\n",
       "    <tr>\n",
       "      <th>...</th>\n",
       "      <td>...</td>\n",
       "      <td>...</td>\n",
       "      <td>...</td>\n",
       "      <td>...</td>\n",
       "      <td>...</td>\n",
       "      <td>...</td>\n",
       "      <td>...</td>\n",
       "      <td>...</td>\n",
       "      <td>...</td>\n",
       "      <td>...</td>\n",
       "      <td>...</td>\n",
       "      <td>...</td>\n",
       "      <td>...</td>\n",
       "      <td>...</td>\n",
       "      <td>...</td>\n",
       "      <td>...</td>\n",
       "      <td>...</td>\n",
       "      <td>...</td>\n",
       "      <td>...</td>\n",
       "      <td>...</td>\n",
       "      <td>...</td>\n",
       "    </tr>\n",
       "    <tr>\n",
       "      <th>354018</th>\n",
       "      <td>1960.160333</td>\n",
       "      <td>125.352339</td>\n",
       "      <td>1.971098</td>\n",
       "      <td>0.037256</td>\n",
       "      <td>50.280914</td>\n",
       "      <td>55.169483</td>\n",
       "      <td>0.000503</td>\n",
       "      <td>0.000888</td>\n",
       "      <td>1.970846</td>\n",
       "      <td>0.037259</td>\n",
       "      <td>...</td>\n",
       "      <td>2.040791</td>\n",
       "      <td>0.039057</td>\n",
       "      <td>47.883384</td>\n",
       "      <td>48.213156</td>\n",
       "      <td>0.000978</td>\n",
       "      <td>0.001336</td>\n",
       "      <td>-75.132287</td>\n",
       "      <td>-75.042055</td>\n",
       "      <td>-75.235196</td>\n",
       "      <td>-75.136444</td>\n",
       "    </tr>\n",
       "    <tr>\n",
       "      <th>354019</th>\n",
       "      <td>362.465735</td>\n",
       "      <td>2.161788</td>\n",
       "      <td>1.971157</td>\n",
       "      <td>0.037262</td>\n",
       "      <td>50.579627</td>\n",
       "      <td>53.413618</td>\n",
       "      <td>0.000500</td>\n",
       "      <td>0.000887</td>\n",
       "      <td>1.970885</td>\n",
       "      <td>0.037262</td>\n",
       "      <td>...</td>\n",
       "      <td>2.040697</td>\n",
       "      <td>0.039055</td>\n",
       "      <td>47.888885</td>\n",
       "      <td>48.189215</td>\n",
       "      <td>0.000978</td>\n",
       "      <td>0.001336</td>\n",
       "      <td>-75.148755</td>\n",
       "      <td>-75.035696</td>\n",
       "      <td>-75.242238</td>\n",
       "      <td>-75.147204</td>\n",
       "    </tr>\n",
       "    <tr>\n",
       "      <th>354020</th>\n",
       "      <td>-1600.874601</td>\n",
       "      <td>9.904001</td>\n",
       "      <td>1.971176</td>\n",
       "      <td>0.037269</td>\n",
       "      <td>50.238628</td>\n",
       "      <td>54.344974</td>\n",
       "      <td>0.000500</td>\n",
       "      <td>0.000884</td>\n",
       "      <td>1.970904</td>\n",
       "      <td>0.037266</td>\n",
       "      <td>...</td>\n",
       "      <td>2.040602</td>\n",
       "      <td>0.039053</td>\n",
       "      <td>47.881621</td>\n",
       "      <td>48.206436</td>\n",
       "      <td>0.000978</td>\n",
       "      <td>0.001336</td>\n",
       "      <td>-75.143469</td>\n",
       "      <td>-75.024981</td>\n",
       "      <td>-75.214566</td>\n",
       "      <td>-75.132269</td>\n",
       "    </tr>\n",
       "    <tr>\n",
       "      <th>354021</th>\n",
       "      <td>173.694289</td>\n",
       "      <td>18.523625</td>\n",
       "      <td>1.971134</td>\n",
       "      <td>0.037274</td>\n",
       "      <td>48.700263</td>\n",
       "      <td>52.815147</td>\n",
       "      <td>0.000503</td>\n",
       "      <td>0.000879</td>\n",
       "      <td>1.970893</td>\n",
       "      <td>0.037268</td>\n",
       "      <td>...</td>\n",
       "      <td>2.040506</td>\n",
       "      <td>0.039050</td>\n",
       "      <td>47.860366</td>\n",
       "      <td>48.183587</td>\n",
       "      <td>0.000978</td>\n",
       "      <td>0.001336</td>\n",
       "      <td>-75.099069</td>\n",
       "      <td>-75.002172</td>\n",
       "      <td>-75.197269</td>\n",
       "      <td>-75.092900</td>\n",
       "    </tr>\n",
       "    <tr>\n",
       "      <th>354022</th>\n",
       "      <td>1390.464824</td>\n",
       "      <td>-31.072495</td>\n",
       "      <td>1.971068</td>\n",
       "      <td>0.037277</td>\n",
       "      <td>47.416027</td>\n",
       "      <td>51.505166</td>\n",
       "      <td>0.000505</td>\n",
       "      <td>0.000882</td>\n",
       "      <td>1.970868</td>\n",
       "      <td>0.037270</td>\n",
       "      <td>...</td>\n",
       "      <td>2.040410</td>\n",
       "      <td>0.039048</td>\n",
       "      <td>47.844007</td>\n",
       "      <td>48.164868</td>\n",
       "      <td>0.000977</td>\n",
       "      <td>0.001336</td>\n",
       "      <td>-75.068538</td>\n",
       "      <td>-74.994420</td>\n",
       "      <td>-75.169659</td>\n",
       "      <td>-75.065968</td>\n",
       "    </tr>\n",
       "  </tbody>\n",
       "</table>\n",
       "<p>354023 rows × 42 columns</p>\n",
       "</div>"
      ],
      "text/plain": [
       "           S1_volume      S2_volume  S1_30_ema  S2_30_ema  S1_30_rsi  \\\n",
       "0        7445.393503  103177.833700   4.001623   0.084889  49.135812   \n",
       "1        9703.638040  136069.292602   4.000634   0.084853  47.156179   \n",
       "2        5960.265505   54431.696961   3.999716   0.084813  47.012541   \n",
       "3       10291.581226   40204.241077   3.999094   0.084783  48.352498   \n",
       "4        8567.391022   72579.232236   3.997496   0.084744  42.974388   \n",
       "...              ...            ...        ...        ...        ...   \n",
       "354018   1960.160333     125.352339   1.971098   0.037256  50.280914   \n",
       "354019    362.465735       2.161788   1.971157   0.037262  50.579627   \n",
       "354020  -1600.874601       9.904001   1.971176   0.037269  50.238628   \n",
       "354021    173.694289      18.523625   1.971134   0.037274  48.700263   \n",
       "354022   1390.464824     -31.072495   1.971068   0.037277  47.416027   \n",
       "\n",
       "        S2_30_rsi  S1_30_vol  S2_30_vol  S1_60_ema  S2_60_ema  ...  \\\n",
       "0       46.673123   0.001259   0.001681   3.991194   0.084704  ...   \n",
       "1       44.136633   0.001242   0.001728   3.991040   0.084692  ...   \n",
       "2       42.576552   0.001201   0.001739   3.990903   0.084677  ...   \n",
       "3       44.534419   0.001205   0.001763   3.990862   0.084666  ...   \n",
       "4       42.356290   0.001336   0.001786   3.990326   0.084649  ...   \n",
       "...           ...        ...        ...        ...        ...  ...   \n",
       "354018  55.169483   0.000503   0.000888   1.970846   0.037259  ...   \n",
       "354019  53.413618   0.000500   0.000887   1.970885   0.037262  ...   \n",
       "354020  54.344974   0.000500   0.000884   1.970904   0.037266  ...   \n",
       "354021  52.815147   0.000503   0.000879   1.970893   0.037268  ...   \n",
       "354022  51.505166   0.000505   0.000882   1.970868   0.037270  ...   \n",
       "\n",
       "        S1_1440_ema  S2_1440_ema  S1_1440_rsi  S2_1440_rsi  S1_1440_vol  \\\n",
       "0          3.901815     0.081110    50.665088    51.085740     0.001809   \n",
       "1          3.901933     0.081114    50.629191    51.029689     0.001803   \n",
       "2          3.902053     0.081119    50.625401    50.993650     0.001802   \n",
       "3          3.902176     0.081123    50.647177    51.028336     0.001802   \n",
       "4          3.902278     0.081128    50.544586    50.977107     0.001804   \n",
       "...             ...          ...          ...          ...          ...   \n",
       "354018     2.040791     0.039057    47.883384    48.213156     0.000978   \n",
       "354019     2.040697     0.039055    47.888885    48.189215     0.000978   \n",
       "354020     2.040602     0.039053    47.881621    48.206436     0.000978   \n",
       "354021     2.040506     0.039050    47.860366    48.183587     0.000978   \n",
       "354022     2.040410     0.039048    47.844007    48.164868     0.000977   \n",
       "\n",
       "        S2_1440_vol  Spread_open  Spread_high  Spread_low  Spread_close  \n",
       "0          0.002107  -152.664798  -152.749908 -152.319050   -152.111029  \n",
       "1          0.002101  -152.110138  -151.959648 -151.945989   -151.917796  \n",
       "2          0.002100  -151.912965  -151.776180 -151.983799   -151.903422  \n",
       "3          0.002100  -151.943849  -151.967293 -152.112695   -152.024409  \n",
       "4          0.002100  -151.974043  -151.796711 -151.624633   -151.466595  \n",
       "...             ...          ...          ...         ...           ...  \n",
       "354018     0.001336   -75.132287   -75.042055  -75.235196    -75.136444  \n",
       "354019     0.001336   -75.148755   -75.035696  -75.242238    -75.147204  \n",
       "354020     0.001336   -75.143469   -75.024981  -75.214566    -75.132269  \n",
       "354021     0.001336   -75.099069   -75.002172  -75.197269    -75.092900  \n",
       "354022     0.001336   -75.068538   -74.994420  -75.169659    -75.065968  \n",
       "\n",
       "[354023 rows x 42 columns]"
      ]
     },
     "execution_count": 29,
     "metadata": {},
     "output_type": "execute_result"
    }
   ],
   "source": [
    "train_den"
   ]
  },
  {
   "cell_type": "code",
   "execution_count": 30,
   "metadata": {},
   "outputs": [],
   "source": [
    "def acc_metric(true_value, predicted_value):\n",
    "    acc_met = 0.0\n",
    "    m = len(true_value)\n",
    "    for i in range(m):\n",
    "        acc_met += mean_squared_error(true_value[i], predicted_value[i])\n",
    "    acc_met /= m\n",
    "    return np.sqrt(acc_met)"
   ]
  },
  {
   "cell_type": "code",
   "execution_count": null,
   "metadata": {},
   "outputs": [],
   "source": [
    "#optimizer:Adam"
   ]
  },
  {
   "cell_type": "code",
   "execution_count": null,
   "metadata": {},
   "outputs": [],
   "source": [
    "trainX = np.reshape(trainX, (trainX.shape[0], 1, trainX.shape[1]))\n",
    "devX = np.reshape(devX, (devX.shape[0], 1, devX.shape[1]))\n",
    "testX = np.reshape(testX, (testX.shape[0], 1, testX.shape[1]))\n",
    "# Running the LSTM model\n",
    "model = Sequential()\n",
    "model.add(LSTM(256, input_shape=(trainX.shape[1], trainX.shape[2]), return_sequences = True))\n",
    "model.add(LSTM(256))\n",
    "model.add(Dropout(0.2))\n",
    "model.add(Dense(look_back))\n",
    "model.compile(loss='mse', optimizer='adam', metrics=['accuracy'])\n",
    "history = model.fit(trainX, trainY, epochs=200, batch_size=20, validation_data=(devX, devY), verbose=0, shuffle=True)"
   ]
  },
  {
   "cell_type": "code",
   "execution_count": 57,
   "metadata": {},
   "outputs": [
    {
     "name": "stdout",
     "output_type": "stream",
     "text": [
      "Model: \"sequential_3\"\n",
      "_________________________________________________________________\n",
      " Layer (type)                Output Shape              Param #   \n",
      "=================================================================\n",
      " lstm_5 (LSTM)               (None, 1, 256)            306176    \n",
      "                                                                 \n",
      " lstm_6 (LSTM)               (None, 256)               525312    \n",
      "                                                                 \n",
      " dropout_2 (Dropout)         (None, 256)               0         \n",
      "                                                                 \n",
      " dense_2 (Dense)             (None, 1)                 257       \n",
      "                                                                 \n",
      "=================================================================\n",
      "Total params: 831,745\n",
      "Trainable params: 831,745\n",
      "Non-trainable params: 0\n",
      "_________________________________________________________________\n"
     ]
    }
   ],
   "source": [
    "model.summary()"
   ]
  },
  {
   "cell_type": "code",
   "execution_count": 60,
   "metadata": {},
   "outputs": [
    {
     "data": {
      "image/png": "[encoded data removed]",
      "text/plain": [
       "<Figure size 432x288 with 1 Axes>"
      ]
     },
     "metadata": {
      "needs_background": "light"
     },
     "output_type": "display_data"
    }
   ],
   "source": [
    "yhat = model.predict(testX)\n",
    "pyplot.plot(testY, label='True Value')\n",
    "pyplot.plot(yhat, label='Predicted Value')\n",
    "pyplot.legend()\n",
    "pyplot.show()"
   ]
  },
  {
   "cell_type": "code",
   "execution_count": 81,
   "metadata": {},
   "outputs": [],
   "source": [
    "prediction_data=pd.DataFrame(yhat)"
   ]
  },
  {
   "cell_type": "code",
   "execution_count": 83,
   "metadata": {},
   "outputs": [],
   "source": [
    "prediction_data.to_csv(\"data/prediction_data_1.csv\")"
   ]
  },
  {
   "cell_type": "code",
   "execution_count": 84,
   "metadata": {},
   "outputs": [
    {
     "data": {
      "text/plain": [
       "0.032425342038178595"
      ]
     },
     "execution_count": 84,
     "metadata": {},
     "output_type": "execute_result"
    }
   ],
   "source": [
    "#root mean square error\n",
    "acc_metric(testY,yhat)"
   ]
  },
  {
   "cell_type": "code",
   "execution_count": null,
   "metadata": {},
   "outputs": [],
   "source": [
    "#time taken in the model using Adam: 5 hours"
   ]
  },
  {
   "cell_type": "code",
   "execution_count": null,
   "metadata": {},
   "outputs": [],
   "source": [
    "#Using SGD"
   ]
  },
  {
   "cell_type": "code",
   "execution_count": 86,
   "metadata": {},
   "outputs": [],
   "source": [
    "model_1 = Sequential()\n",
    "model_1.add(LSTM(256, input_shape=(trainX.shape[1], trainX.shape[2]), return_sequences = True))\n",
    "model_1.add(LSTM(256))\n",
    "model_1.add(Dropout(0.2))\n",
    "model_1.add(Dense(look_back))\n",
    "model_1.compile(loss='mse', optimizer='SGD', metrics=['accuracy'])\n",
    "history = model_1.fit(trainX, trainY, epochs=200, batch_size=20, validation_data=(devX, devY), verbose=0, shuffle=True)"
   ]
  },
  {
   "cell_type": "code",
   "execution_count": 87,
   "metadata": {},
   "outputs": [
    {
     "data": {
      "image/png": "[encoded data removed]",
      "text/plain": [
       "<Figure size 432x288 with 1 Axes>"
      ]
     },
     "metadata": {
      "needs_background": "light"
     },
     "output_type": "display_data"
    }
   ],
   "source": [
    "yhat_1 = model_1.predict(testX)\n",
    "pyplot.plot(testY, label='True Value')\n",
    "pyplot.plot(yhat_1, label='Predicted Value')\n",
    "pyplot.legend()\n",
    "pyplot.show()"
   ]
  },
  {
   "cell_type": "code",
   "execution_count": 91,
   "metadata": {},
   "outputs": [
    {
     "name": "stdout",
     "output_type": "stream",
     "text": [
      "Model: \"sequential_5\"\n",
      "_________________________________________________________________\n",
      " Layer (type)                Output Shape              Param #   \n",
      "=================================================================\n",
      " lstm_9 (LSTM)               (None, 1, 256)            306176    \n",
      "                                                                 \n",
      " lstm_10 (LSTM)              (None, 256)               525312    \n",
      "                                                                 \n",
      " dropout_4 (Dropout)         (None, 256)               0         \n",
      "                                                                 \n",
      " dense_4 (Dense)             (None, 1)                 257       \n",
      "                                                                 \n",
      "=================================================================\n",
      "Total params: 831,745\n",
      "Trainable params: 831,745\n",
      "Non-trainable params: 0\n",
      "_________________________________________________________________\n"
     ]
    }
   ],
   "source": [
    "model_1.summary()"
   ]
  },
  {
   "cell_type": "code",
   "execution_count": 88,
   "metadata": {},
   "outputs": [
    {
     "data": {
      "text/plain": [
       "0.04614133847344337"
      ]
     },
     "execution_count": 88,
     "metadata": {},
     "output_type": "execute_result"
    }
   ],
   "source": [
    "acc_metric(testY,yhat_1)"
   ]
  },
  {
   "cell_type": "code",
   "execution_count": 90,
   "metadata": {},
   "outputs": [],
   "source": [
    "prediction_data_2=pd.DataFrame(yhat_1)\n",
    "prediction_data_2.to_csv(\"data/prediction_data_2.csv\")"
   ]
  },
  {
   "cell_type": "code",
   "execution_count": null,
   "metadata": {},
   "outputs": [],
   "source": [
    "#time taken in the model using SGD: 5 hours"
   ]
  },
  {
   "cell_type": "code",
   "execution_count": null,
   "metadata": {},
   "outputs": [],
   "source": [
    "#using RMSprop"
   ]
  },
  {
   "cell_type": "code",
   "execution_count": 93,
   "metadata": {},
   "outputs": [],
   "source": [
    "model_3 = Sequential()\n",
    "model_3.add(LSTM(256, input_shape=(trainX.shape[1], trainX.shape[2]), return_sequences = True))\n",
    "model_3.add(LSTM(256))\n",
    "model_3.add(Dropout(0.2))\n",
    "model_3.add(Dense(look_back))\n",
    "model_3.compile(loss='mse', optimizer='RMSprop', metrics=['accuracy'])\n",
    "history = model_3.fit(trainX, trainY, epochs=200, batch_size=20, validation_data=(devX, devY), verbose=0, shuffle=True)"
   ]
  },
  {
   "cell_type": "code",
   "execution_count": 94,
   "metadata": {},
   "outputs": [
    {
     "data": {
      "image/png": "[encoded data removed]",
      "text/plain": [
       "<Figure size 432x288 with 1 Axes>"
      ]
     },
     "metadata": {
      "needs_background": "light"
     },
     "output_type": "display_data"
    }
   ],
   "source": [
    "yhat_2 = model_3.predict(testX)\n",
    "pyplot.plot(testY, label='True Value')\n",
    "pyplot.plot(yhat_2, label='Predicted Value')\n",
    "pyplot.legend()\n",
    "pyplot.show()"
   ]
  },
  {
   "cell_type": "code",
   "execution_count": 95,
   "metadata": {},
   "outputs": [
    {
     "data": {
      "text/plain": [
       "0.045788569356027105"
      ]
     },
     "execution_count": 95,
     "metadata": {},
     "output_type": "execute_result"
    }
   ],
   "source": [
    "acc_metric(testY,yhat_2)"
   ]
  },
  {
   "cell_type": "code",
   "execution_count": 96,
   "metadata": {},
   "outputs": [],
   "source": [
    "prediction_data_3=pd.DataFrame(yhat_2)\n",
    "prediction_data_3.to_csv(\"data/prediction_data_3.csv\")"
   ]
  },
  {
   "cell_type": "code",
   "execution_count": null,
   "metadata": {},
   "outputs": [],
   "source": [
    "#time taken in the model using RMSprop: 6 hours"
   ]
  },
  {
   "cell_type": "code",
   "execution_count": null,
   "metadata": {},
   "outputs": [],
   "source": [
    "#real model in predicting the spread_close using Adam in LSTM"
   ]
  },
  {
   "cell_type": "code",
   "execution_count": 49,
   "metadata": {},
   "outputs": [
    {
     "data": {
      "text/plain": [
       "'Spread_close'"
      ]
     },
     "execution_count": 49,
     "metadata": {},
     "output_type": "execute_result"
    }
   ],
   "source": [
    "test.columns[41]"
   ]
  },
  {
   "cell_type": "code",
   "execution_count": 106,
   "metadata": {},
   "outputs": [
    {
     "data": {
      "text/plain": [
       "time\n",
       "2022-03-16 10:30:00    -77.434925\n",
       "2022-03-16 10:31:00    -77.473052\n",
       "2022-03-16 10:32:00    -77.434965\n",
       "2022-03-16 10:33:00    -77.396837\n",
       "2022-03-16 10:34:00    -77.282515\n",
       "                          ...    \n",
       "2022-03-31 10:25:00   -113.155831\n",
       "2022-03-31 10:26:00   -113.233786\n",
       "2022-03-31 10:27:00   -113.271593\n",
       "2022-03-31 10:28:00   -113.348248\n",
       "2022-03-31 10:29:00   -113.424823\n",
       "Name: Spread_close, Length: 21600, dtype: float64"
      ]
     },
     "execution_count": 106,
     "metadata": {},
     "output_type": "execute_result"
    }
   ],
   "source": [
    "test['Spread_close']"
   ]
  },
  {
   "cell_type": "code",
   "execution_count": 32,
   "metadata": {},
   "outputs": [
    {
     "name": "stdout",
     "output_type": "stream",
     "text": [
      "354022\n",
      "17735\n",
      "21599\n"
     ]
    }
   ],
   "source": [
    "look_back=1\n",
    "scaler = MinMaxScaler(feature_range=(0, 1))\n",
    "# Create function for creating dataset with look back\n",
    "def create_dataset(dataset, look_back=1):\n",
    "    dataX, dataY = [], []\n",
    "    for i in range(len(dataset) - look_back):\n",
    "        a = dataset[i, :]\n",
    "        dataX.append(a)\n",
    "        dataY.append(dataset[(i+1):(i+1+look_back), 41])\n",
    "    print(len(dataY))\n",
    "    return dataX, np.array(scaler.fit_transform(dataX)), dataY, np.array(scaler.fit_transform(dataY))\n",
    "\n",
    "# Generate dataset for trainX, trainY, testX, testY\n",
    "trainX_untr, trainX, trainY_untr, trainY = create_dataset(train_den.values, look_back)\n",
    "devX_untr, devX, devY_untr, devY = create_dataset(dev.values, look_back)\n",
    "testX_untr, testX, testY_untr, testY = create_dataset(test.values, look_back)"
   ]
  },
  {
   "cell_type": "code",
   "execution_count": null,
   "metadata": {},
   "outputs": [],
   "source": [
    "trainX = np.reshape(trainX, (trainX.shape[0], 1, trainX.shape[1]))\n",
    "devX = np.reshape(devX, (devX.shape[0], 1, devX.shape[1]))\n",
    "testX = np.reshape(testX, (testX.shape[0], 1, testX.shape[1]))\n",
    "# Running the LSTM model\n",
    "model = Sequential()\n",
    "model.add(LSTM(256, input_shape=(trainX.shape[1], trainX.shape[2]), return_sequences = True))\n",
    "model.add(LSTM(256))\n",
    "model.add(Dropout(0.2))\n",
    "model.add(Dense(look_back))\n",
    "model.compile(loss='mse', optimizer='adam', metrics=['accuracy'])\n",
    "history = model.fit(trainX, trainY, epochs=200, batch_size=20, validation_data=(devX, devY), verbose=0, shuffle=True)"
   ]
  },
  {
   "cell_type": "code",
   "execution_count": 126,
   "metadata": {},
   "outputs": [
    {
     "data": {
      "image/png": "[encoded data removed]",
      "text/plain": [
       "<Figure size 432x288 with 1 Axes>"
      ]
     },
     "metadata": {
      "needs_background": "light"
     },
     "output_type": "display_data"
    }
   ],
   "source": [
    "yhat_t = model.predict(testX)\n",
    "pyplot.plot(testY, label='True Value')\n",
    "pyplot.plot(yhat_t, label='Predicted Value')\n",
    "pyplot.legend()\n",
    "pyplot.show()"
   ]
  },
  {
   "cell_type": "code",
   "execution_count": 127,
   "metadata": {
    "scrolled": true
   },
   "outputs": [
    {
     "data": {
      "text/plain": [
       "0.02143371782517037"
      ]
     },
     "execution_count": 127,
     "metadata": {},
     "output_type": "execute_result"
    }
   ],
   "source": [
    "acc_metric(testY,yhat_t)"
   ]
  },
  {
   "cell_type": "code",
   "execution_count": 137,
   "metadata": {},
   "outputs": [
    {
     "data": {
      "image/png": "[encoded data removed]",
      "text/plain": [
       "<Figure size 432x288 with 1 Axes>"
      ]
     },
     "metadata": {
      "needs_background": "light"
     },
     "output_type": "display_data"
    }
   ],
   "source": [
    "yhat_tx = model.predict(trainX)\n",
    "pyplot.plot(trainY, label='True Value')\n",
    "pyplot.plot(yhat_tx, label='Predicted Value')\n",
    "pyplot.legend()\n",
    "pyplot.show()"
   ]
  },
  {
   "cell_type": "code",
   "execution_count": 138,
   "metadata": {},
   "outputs": [
    {
     "data": {
      "text/plain": [
       "0.002522211726790157"
      ]
     },
     "execution_count": 138,
     "metadata": {},
     "output_type": "execute_result"
    }
   ],
   "source": [
    "acc_metric(trainY,yhat_tx)"
   ]
  },
  {
   "cell_type": "code",
   "execution_count": 128,
   "metadata": {},
   "outputs": [],
   "source": [
    "prediction_data_t=pd.DataFrame(yhat_t)\n",
    "prediction_data_t.to_csv(\"data/prediction_data_t.csv\")"
   ]
  },
  {
   "cell_type": "code",
   "execution_count": 131,
   "metadata": {},
   "outputs": [],
   "source": [
    "test_Y=pd.DataFrame(testY)\n",
    "test_Y.to_csv(\"data/testY.csv\")"
   ]
  },
  {
   "cell_type": "code",
   "execution_count": 136,
   "metadata": {},
   "outputs": [],
   "source": [
    "test_X=pd.DataFrame(testX.reshape(testX.shape[0],testX.shape[2]))\n",
    "test_X.to_csv(\"data/testX.csv\")"
   ]
  },
  {
   "cell_type": "markdown",
   "metadata": {},
   "source": [
    "## Backtest\n",
    "#### Strategy :\n",
    "-  Let e be a threshold \n",
    "-  Buy the Spread when the model predict there will be a e %_change (position  = +1), close positon after n minute\n",
    "-  Short Sell the Spread when the model predict there will be a -e %_change (position  = -1), close positon after n minute\n",
    "-  It only take less than 0.002 second to make one row of prediction"
   ]
  },
  {
   "cell_type": "code",
   "execution_count": 34,
   "metadata": {},
   "outputs": [
    {
     "data": {
      "text/plain": [
       "array([ -76.05324451,  -76.0795679 ,  -76.05778303, ..., -112.84001861,\n",
       "       -112.93607973, -113.03913857])"
      ]
     },
     "execution_count": 34,
     "metadata": {},
     "output_type": "execute_result"
    }
   ],
   "source": [
    "# model prediction of the spread close\n",
    "model_pred = pd.read_csv('prediction_data_t.csv')['0']\n",
    "y_pred = scaler.inverse_transform(model_pred.values.reshape(-1,1))\n",
    "y_pred = y_pred.flatten()\n",
    "y_pred"
   ]
  },
  {
   "cell_type": "code",
   "execution_count": 35,
   "metadata": {},
   "outputs": [
    {
     "data": {
      "text/plain": [
       "array([ -77.47305226,  -77.43496485,  -77.39683744, ..., -113.27159348,\n",
       "       -113.34824831, -113.42482313])"
      ]
     },
     "execution_count": 35,
     "metadata": {},
     "output_type": "execute_result"
    }
   ],
   "source": [
    "y_true = scaler.inverse_transform(testY)\n",
    "y_true = y_true.flatten()\n",
    "y_true"
   ]
  },
  {
   "cell_type": "code",
   "execution_count": 36,
   "metadata": {},
   "outputs": [
    {
     "name": "stdout",
     "output_type": "stream",
     "text": [
      "len of y_true : 21599\n",
      "len of y_pred : 21599\n",
      "len of prediction timeframe : 21599\n"
     ]
    },
    {
     "data": {
      "text/plain": [
       "DatetimeIndex(['2022-03-16 10:31:00', '2022-03-16 10:32:00',\n",
       "               '2022-03-16 10:33:00', '2022-03-16 10:34:00',\n",
       "               '2022-03-16 10:35:00', '2022-03-16 10:36:00',\n",
       "               '2022-03-16 10:37:00', '2022-03-16 10:38:00',\n",
       "               '2022-03-16 10:39:00', '2022-03-16 10:40:00',\n",
       "               ...\n",
       "               '2022-03-31 10:20:00', '2022-03-31 10:21:00',\n",
       "               '2022-03-31 10:22:00', '2022-03-31 10:23:00',\n",
       "               '2022-03-31 10:24:00', '2022-03-31 10:25:00',\n",
       "               '2022-03-31 10:26:00', '2022-03-31 10:27:00',\n",
       "               '2022-03-31 10:28:00', '2022-03-31 10:29:00'],\n",
       "              dtype='datetime64[ns]', name='time', length=21599, freq=None)"
      ]
     },
     "execution_count": 36,
     "metadata": {},
     "output_type": "execute_result"
    }
   ],
   "source": [
    "# test period\n",
    "print('len of y_true :', len(y_true))\n",
    "print('len of y_pred :', len(y_pred))\n",
    "print('len of prediction timeframe :', len(test[1:].index))\n",
    "test[1:].index"
   ]
  },
  {
   "cell_type": "code",
   "execution_count": 37,
   "metadata": {},
   "outputs": [
    {
     "data": {
      "text/html": [
       "<div>\n",
       "<style scoped>\n",
       "    .dataframe tbody tr th:only-of-type {\n",
       "        vertical-align: middle;\n",
       "    }\n",
       "\n",
       "    .dataframe tbody tr th {\n",
       "        vertical-align: top;\n",
       "    }\n",
       "\n",
       "    .dataframe thead th {\n",
       "        text-align: right;\n",
       "    }\n",
       "</style>\n",
       "<table border=\"1\" class=\"dataframe\">\n",
       "  <thead>\n",
       "    <tr style=\"text-align: right;\">\n",
       "      <th></th>\n",
       "      <th>true_spread</th>\n",
       "      <th>pred_spread</th>\n",
       "      <th>true_spread_p_change</th>\n",
       "      <th>pred_spread_p_change</th>\n",
       "    </tr>\n",
       "    <tr>\n",
       "      <th>time</th>\n",
       "      <th></th>\n",
       "      <th></th>\n",
       "      <th></th>\n",
       "      <th></th>\n",
       "    </tr>\n",
       "  </thead>\n",
       "  <tbody>\n",
       "    <tr>\n",
       "      <th>2022-03-16 10:31:00</th>\n",
       "      <td>-77.473052</td>\n",
       "      <td>-76.053245</td>\n",
       "      <td>NaN</td>\n",
       "      <td>NaN</td>\n",
       "    </tr>\n",
       "    <tr>\n",
       "      <th>2022-03-16 10:32:00</th>\n",
       "      <td>-77.434965</td>\n",
       "      <td>-76.079568</td>\n",
       "      <td>-0.049162</td>\n",
       "      <td>0.034612</td>\n",
       "    </tr>\n",
       "    <tr>\n",
       "      <th>2022-03-16 10:33:00</th>\n",
       "      <td>-77.396837</td>\n",
       "      <td>-76.057783</td>\n",
       "      <td>-0.049238</td>\n",
       "      <td>-0.028634</td>\n",
       "    </tr>\n",
       "    <tr>\n",
       "      <th>2022-03-16 10:34:00</th>\n",
       "      <td>-77.282515</td>\n",
       "      <td>-76.032620</td>\n",
       "      <td>-0.147709</td>\n",
       "      <td>-0.033084</td>\n",
       "    </tr>\n",
       "    <tr>\n",
       "      <th>2022-03-16 10:35:00</th>\n",
       "      <td>-77.282565</td>\n",
       "      <td>-75.957395</td>\n",
       "      <td>0.000065</td>\n",
       "      <td>-0.098937</td>\n",
       "    </tr>\n",
       "    <tr>\n",
       "      <th>...</th>\n",
       "      <td>...</td>\n",
       "      <td>...</td>\n",
       "      <td>...</td>\n",
       "      <td>...</td>\n",
       "    </tr>\n",
       "    <tr>\n",
       "      <th>2022-03-31 10:25:00</th>\n",
       "      <td>-113.155831</td>\n",
       "      <td>-112.874847</td>\n",
       "      <td>0.034237</td>\n",
       "      <td>-0.013128</td>\n",
       "    </tr>\n",
       "    <tr>\n",
       "      <th>2022-03-31 10:26:00</th>\n",
       "      <td>-113.233786</td>\n",
       "      <td>-112.902111</td>\n",
       "      <td>0.068892</td>\n",
       "      <td>0.024154</td>\n",
       "    </tr>\n",
       "    <tr>\n",
       "      <th>2022-03-31 10:27:00</th>\n",
       "      <td>-113.271593</td>\n",
       "      <td>-112.840019</td>\n",
       "      <td>0.033389</td>\n",
       "      <td>-0.054996</td>\n",
       "    </tr>\n",
       "    <tr>\n",
       "      <th>2022-03-31 10:28:00</th>\n",
       "      <td>-113.348248</td>\n",
       "      <td>-112.936080</td>\n",
       "      <td>0.067673</td>\n",
       "      <td>0.085130</td>\n",
       "    </tr>\n",
       "    <tr>\n",
       "      <th>2022-03-31 10:29:00</th>\n",
       "      <td>-113.424823</td>\n",
       "      <td>-113.039139</td>\n",
       "      <td>0.067557</td>\n",
       "      <td>0.091254</td>\n",
       "    </tr>\n",
       "  </tbody>\n",
       "</table>\n",
       "<p>21599 rows × 4 columns</p>\n",
       "</div>"
      ],
      "text/plain": [
       "                     true_spread  pred_spread  true_spread_p_change  \\\n",
       "time                                                                  \n",
       "2022-03-16 10:31:00   -77.473052   -76.053245                   NaN   \n",
       "2022-03-16 10:32:00   -77.434965   -76.079568             -0.049162   \n",
       "2022-03-16 10:33:00   -77.396837   -76.057783             -0.049238   \n",
       "2022-03-16 10:34:00   -77.282515   -76.032620             -0.147709   \n",
       "2022-03-16 10:35:00   -77.282565   -75.957395              0.000065   \n",
       "...                          ...          ...                   ...   \n",
       "2022-03-31 10:25:00  -113.155831  -112.874847              0.034237   \n",
       "2022-03-31 10:26:00  -113.233786  -112.902111              0.068892   \n",
       "2022-03-31 10:27:00  -113.271593  -112.840019              0.033389   \n",
       "2022-03-31 10:28:00  -113.348248  -112.936080              0.067673   \n",
       "2022-03-31 10:29:00  -113.424823  -113.039139              0.067557   \n",
       "\n",
       "                     pred_spread_p_change  \n",
       "time                                       \n",
       "2022-03-16 10:31:00                   NaN  \n",
       "2022-03-16 10:32:00              0.034612  \n",
       "2022-03-16 10:33:00             -0.028634  \n",
       "2022-03-16 10:34:00             -0.033084  \n",
       "2022-03-16 10:35:00             -0.098937  \n",
       "...                                   ...  \n",
       "2022-03-31 10:25:00             -0.013128  \n",
       "2022-03-31 10:26:00              0.024154  \n",
       "2022-03-31 10:27:00             -0.054996  \n",
       "2022-03-31 10:28:00              0.085130  \n",
       "2022-03-31 10:29:00              0.091254  \n",
       "\n",
       "[21599 rows x 4 columns]"
      ]
     },
     "execution_count": 37,
     "metadata": {},
     "output_type": "execute_result"
    }
   ],
   "source": [
    "backtest_data = pd.DataFrame(index = test[1:].index)\n",
    "backtest_data['true_spread'] = y_true.tolist()\n",
    "backtest_data['pred_spread'] = y_pred.tolist()\n",
    "backtest_data['true_spread_p_change'] = backtest_data['true_spread'].pct_change()*100\n",
    "backtest_data['pred_spread_p_change'] = (backtest_data['pred_spread'].pct_change()*100)\n",
    "backtest_data"
   ]
  },
  {
   "cell_type": "code",
   "execution_count": 39,
   "metadata": {},
   "outputs": [
    {
     "data": {
      "text/plain": [
       "<AxesSubplot:xlabel='time'>"
      ]
     },
     "execution_count": 39,
     "metadata": {},
     "output_type": "execute_result"
    },
    {
     "data": {
      "image/png": "[encoded data removed]",
      "text/plain": [
       "<Figure size 432x288 with 1 Axes>"
      ]
     },
     "metadata": {},
     "output_type": "display_data"
    }
   ],
   "source": [
    "backtest_data.iloc[:,0:2].plot()"
   ]
  },
  {
   "cell_type": "code",
   "execution_count": 511,
   "metadata": {},
   "outputs": [
    {
     "data": {
      "text/html": [
       "<div>\n",
       "<style scoped>\n",
       "    .dataframe tbody tr th:only-of-type {\n",
       "        vertical-align: middle;\n",
       "    }\n",
       "\n",
       "    .dataframe tbody tr th {\n",
       "        vertical-align: top;\n",
       "    }\n",
       "\n",
       "    .dataframe thead th {\n",
       "        text-align: right;\n",
       "    }\n",
       "</style>\n",
       "<table border=\"1\" class=\"dataframe\">\n",
       "  <thead>\n",
       "    <tr style=\"text-align: right;\">\n",
       "      <th></th>\n",
       "      <th>true_spread</th>\n",
       "      <th>pred_spread</th>\n",
       "    </tr>\n",
       "    <tr>\n",
       "      <th>time</th>\n",
       "      <th></th>\n",
       "      <th></th>\n",
       "    </tr>\n",
       "  </thead>\n",
       "  <tbody>\n",
       "    <tr>\n",
       "      <th>2022-03-16 10:31:00</th>\n",
       "      <td>-77.473052</td>\n",
       "      <td>-76.053245</td>\n",
       "    </tr>\n",
       "    <tr>\n",
       "      <th>2022-03-16 10:32:00</th>\n",
       "      <td>-77.434965</td>\n",
       "      <td>-76.079568</td>\n",
       "    </tr>\n",
       "    <tr>\n",
       "      <th>2022-03-16 10:33:00</th>\n",
       "      <td>-77.396837</td>\n",
       "      <td>-76.057783</td>\n",
       "    </tr>\n",
       "    <tr>\n",
       "      <th>2022-03-16 10:34:00</th>\n",
       "      <td>-77.282515</td>\n",
       "      <td>-76.032620</td>\n",
       "    </tr>\n",
       "    <tr>\n",
       "      <th>2022-03-16 10:35:00</th>\n",
       "      <td>-77.282565</td>\n",
       "      <td>-75.957395</td>\n",
       "    </tr>\n",
       "    <tr>\n",
       "      <th>...</th>\n",
       "      <td>...</td>\n",
       "      <td>...</td>\n",
       "    </tr>\n",
       "    <tr>\n",
       "      <th>2022-03-31 10:25:00</th>\n",
       "      <td>-113.155831</td>\n",
       "      <td>-112.874847</td>\n",
       "    </tr>\n",
       "    <tr>\n",
       "      <th>2022-03-31 10:26:00</th>\n",
       "      <td>-113.233786</td>\n",
       "      <td>-112.902111</td>\n",
       "    </tr>\n",
       "    <tr>\n",
       "      <th>2022-03-31 10:27:00</th>\n",
       "      <td>-113.271593</td>\n",
       "      <td>-112.840019</td>\n",
       "    </tr>\n",
       "    <tr>\n",
       "      <th>2022-03-31 10:28:00</th>\n",
       "      <td>-113.348248</td>\n",
       "      <td>-112.936080</td>\n",
       "    </tr>\n",
       "    <tr>\n",
       "      <th>2022-03-31 10:29:00</th>\n",
       "      <td>-113.424823</td>\n",
       "      <td>-113.039139</td>\n",
       "    </tr>\n",
       "  </tbody>\n",
       "</table>\n",
       "<p>21599 rows × 2 columns</p>\n",
       "</div>"
      ],
      "text/plain": [
       "                     true_spread  pred_spread\n",
       "time                                         \n",
       "2022-03-16 10:31:00   -77.473052   -76.053245\n",
       "2022-03-16 10:32:00   -77.434965   -76.079568\n",
       "2022-03-16 10:33:00   -77.396837   -76.057783\n",
       "2022-03-16 10:34:00   -77.282515   -76.032620\n",
       "2022-03-16 10:35:00   -77.282565   -75.957395\n",
       "...                          ...          ...\n",
       "2022-03-31 10:25:00  -113.155831  -112.874847\n",
       "2022-03-31 10:26:00  -113.233786  -112.902111\n",
       "2022-03-31 10:27:00  -113.271593  -112.840019\n",
       "2022-03-31 10:28:00  -113.348248  -112.936080\n",
       "2022-03-31 10:29:00  -113.424823  -113.039139\n",
       "\n",
       "[21599 rows x 2 columns]"
      ]
     },
     "execution_count": 511,
     "metadata": {},
     "output_type": "execute_result"
    }
   ],
   "source": [
    "backtest_data.iloc[:,0:2]"
   ]
  },
  {
   "cell_type": "code",
   "execution_count": 519,
   "metadata": {},
   "outputs": [],
   "source": [
    "# Let e be a threshold ( e is a constant )\n",
    "# Buy the Spread when the model predict there will be a e %_change (position+1), close positon after n minute\n",
    "# Short Sell the Spread when the model predict there will be a -e %_change (position-1), close positon after n minute\n",
    "\n",
    "def backtest( start_time = 0, end_time = 22000, n = 30, thresh = 5, initial_cap = 10000, tran_cost = 0.1 * 0.01, w = 10, max_position = 5):\n",
    "    ''''\n",
    "    start_time[int]    : backtest start at row = start_time\n",
    "    end_time[int]      : backtest end at row = end_time\n",
    "    n[int]             : close position after n minutes (default n = 30)\n",
    "    w[int]             : make a prediction after w minutes ; n must be divisible by w (default w = 10)\n",
    "    thresh[float]      : e = (thresh)*(sd of the return predion), open a positon when the model predict there will be a e %_change\n",
    "    initial_cap[float] : the initial capital of this trading simulation (default initial_cap = 10000)\n",
    "    max_position[int]  : max. no. of position\n",
    "    tran_cost[float]   : transaction cost of each trade, default tran_cost = 0.1% ( according to Binance )\n",
    "    '''\n",
    "\n",
    "    if end_time > 21599:\n",
    "        end_time = 21599\n",
    "\n",
    "    backtest_simulation = backtest_data.iloc[start_time : end_time,0:2].copy() \n",
    "    backtest_simulation['pred_spread_p_change_n'] = ( backtest_simulation[\"pred_spread\"].diff(n) / backtest_simulation[\"pred_spread\"].abs().shift(n) ).shift(-n)\n",
    "\n",
    "    trade_pnl = pd.DataFrame()\n",
    "    trade_id = 0\n",
    "    pred_id = 0\n",
    "\n",
    "    sd = backtest_simulation['pred_spread_p_change_n'].std()\n",
    "    e = thresh * sd\n",
    "\n",
    "    position = []\n",
    "    capital = []\n",
    "    cash = []\n",
    "    next_pred_time = []\n",
    "    for i in range( len(backtest_simulation['pred_spread_p_change_n'].dropna()) +1  ):   # plus one row for initialize position\n",
    "\n",
    "        if i == 0:                                      # initialize position\n",
    "            position = position + [0]\n",
    "            cash = cash + [initial_cap] \n",
    "            capital = capital + [cash[pred_id]]\n",
    "            next_pred_time = next_pred_time + [backtest_simulation.index[pred_id]]\n",
    "        \n",
    "        if i >= 1:\n",
    "            time_now = backtest_simulation.index[i-1] \n",
    "            \n",
    "            if time_now == next_pred_time[-1] :\n",
    "                next_pred_time = next_pred_time + [ time_now + timedelta(minutes = w) ]\n",
    "                pred_id = pred_id + 1\n",
    "\n",
    "                # Opening Position\n",
    "                if (backtest_simulation.loc[time_now]['pred_spread_p_change_n'] >= e and position[pred_id-1] <= max_position ):    # Buy the spread \n",
    "\n",
    "                    if position[pred_id-1] < 0:   # having negative position\n",
    "                        trade_pnl['Close_time'].replace([None], time_now , inplace=True)  # predict up but having negative position : flat all position\n",
    "                        # position[pred_id-1] = 0 ('position list' will be modified in close position loop)\n",
    "\n",
    "                    new_position = position[pred_id-1] + 1\n",
    "                    position = position + [new_position]\n",
    "\n",
    "                    trade_id = trade_id + 1\n",
    "                    new_trade = pd.DataFrame( index = [trade_id])\n",
    "                    action = 'Buy'\n",
    "                    open_price = backtest_simulation.loc[time_now]['true_spread']\n",
    "                    time_close = time_now + timedelta(minutes = n) \n",
    "\n",
    "                    new_trade['Action'] = action \n",
    "                    new_trade['Open_time'] = time_now\n",
    "                    new_trade['Open_price'] = open_price\n",
    "                    new_trade['Close_time'] = time_close\n",
    "                    new_trade['Close_price'] = [None]\n",
    "                    new_trade['return'] = [None]\n",
    "                    trade_pnl = pd.concat( [trade_pnl, new_trade])\n",
    "\n",
    "                    new_cash = cash[pred_id-1] - open_price - abs(open_price)*tran_cost\n",
    "                    cash = cash + [new_cash] \n",
    "                    \n",
    "                elif (backtest_simulation.iloc[i-1]['pred_spread_p_change_n'] <= -e and position[pred_id-1] >= -max_position ):     # Sell / Short Sell the Spread \n",
    "\n",
    "                    if position[pred_id-1] > 0:   # having positive position\n",
    "                        trade_pnl['Close_time'].replace([None], time_now , inplace=True)  # predict down but having positive position : flat all position\n",
    "                        # position[pred_id-1] = 0 ('position list' will be modified in close position loop)\n",
    "\n",
    "                    new_position = position[pred_id-1] -1\n",
    "                    position = position + [new_position]\n",
    "\n",
    "                    trade_id = trade_id + 1\n",
    "                    new_trade = pd.DataFrame( index = [trade_id])\n",
    "                    action = 'Sell'\n",
    "                    open_price = backtest_simulation.loc[time_now]['true_spread']\n",
    "                    time_close = time_now + timedelta(minutes = n) \n",
    "\n",
    "                    new_trade['Action'] = action \n",
    "                    new_trade['Open_time'] = time_now\n",
    "                    new_trade['Open_price'] = open_price - abs(open_price)*tran_cost\n",
    "                    new_trade['Close_time'] = time_close\n",
    "                    new_trade['Close_price'] = None\n",
    "                    new_trade['return'] = None\n",
    "                    trade_pnl = pd.concat( [trade_pnl, new_trade])\n",
    "\n",
    "                    new_cash = cash[pred_id-1] + open_price\n",
    "                    cash = cash + [new_cash] \n",
    "\n",
    "                else :\n",
    "                    new_position = position[pred_id-1]\n",
    "                    new_cash = cash[pred_id-1] \n",
    "                    cash = cash + [new_cash] \n",
    "                    position = position + [new_position]\n",
    "\n",
    "                # close postion  \n",
    "                if  len(trade_pnl) >0 :\n",
    "                    for id in np.where( trade_pnl['Close_time']  == time_now)[0] :\n",
    "                        id = id +1   # trade_id start from 1 but not 0\n",
    "                        \n",
    "                        open_price = trade_pnl.loc[id]['Open_price']\n",
    "                        close_price = backtest_simulation.loc[time_now]['true_spread']\n",
    "\n",
    "                        if trade_pnl.loc[id]['Action'] == 'Buy':\n",
    "\n",
    "                            trade_return = (close_price - open_price - abs(open_price)*tran_cost )/ abs(open_price )\n",
    "                            # leveraged_return = trade_return * leverage_ratio \n",
    "\n",
    "                            position[pred_id] = position[pred_id] -1          # close position\n",
    "                            cash[pred_id] = cash[pred_id] + close_price\n",
    "\n",
    "                        if trade_pnl.loc[id]['Action'] == 'Sell':\n",
    "                            trade_return = (open_price - close_price - abs(open_price)*tran_cost)/ abs(open_price )\n",
    "                            position[pred_id] = position[pred_id] +1          # close position\n",
    "                            cash[pred_id] = cash[pred_id] - close_price\n",
    "\n",
    "                        # leveraged_return = trade_return * leverage_ratio + 1\n",
    "                        trade_pnl.loc[id,['Close_price'] ] = close_price\n",
    "                        trade_pnl.loc[id,['return'] ] = trade_return + 1\n",
    "\n",
    "                new_capital = cash[pred_id] + position[pred_id] * backtest_simulation.loc[time_now]['true_spread']\n",
    "                capital = capital + [new_capital]\n",
    "            \n",
    "    nav = pd.DataFrame(index = next_pred_time)\n",
    "    nav['Position'] = position\n",
    "    nav['Cash'] = cash\n",
    "    nav['Capital'] = capital\n",
    "\n",
    "    win_rate = len( trade_pnl[ trade_pnl['return'] > 1]) / len(trade_pnl.dropna())\n",
    "    mean_return = trade_pnl['return'].mean()\n",
    "    mmd = (nav['Capital'].max() - nav['Capital'].min()) / initial_cap\n",
    "    annualized_return = (nav['Capital'][-1]/ initial_cap)**(365*42*60/21599)\n",
    "\n",
    "    print('win rate :', win_rate)\n",
    "    print('expected return per tarde (transaction cost) :', mean_return )\n",
    "    print('Max. Drawdown :',  mmd)\n",
    "    print('Annualized Return :',  annualized_return)\n",
    "\n",
    "    return ( nav, trade_pnl )"
   ]
  },
  {
   "cell_type": "code",
   "execution_count": 554,
   "metadata": {},
   "outputs": [
    {
     "name": "stdout",
     "output_type": "stream",
     "text": [
      "win rate : 0.90625\n",
      "expected return per tarde (transaction cost) : 1.0168897939002055\n",
      "Max. Drawdown : 0.15311618550724082\n",
      "Annualized Return : 378.17318699897714\n"
     ]
    }
   ],
   "source": [
    "backtest_simulation, trade_pnl = backtest( start_time = 0, end_time = 22000, n = 30, thresh = 2, initial_cap = 1200, tran_cost = 0.1 * 0.01,  w = 10, max_position = 5)"
   ]
  },
  {
   "cell_type": "code",
   "execution_count": 571,
   "metadata": {},
   "outputs": [
    {
     "data": {
      "text/html": [
       "<div>\n",
       "<style scoped>\n",
       "    .dataframe tbody tr th:only-of-type {\n",
       "        vertical-align: middle;\n",
       "    }\n",
       "\n",
       "    .dataframe tbody tr th {\n",
       "        vertical-align: top;\n",
       "    }\n",
       "\n",
       "    .dataframe thead th {\n",
       "        text-align: right;\n",
       "    }\n",
       "</style>\n",
       "<table border=\"1\" class=\"dataframe\">\n",
       "  <thead>\n",
       "    <tr style=\"text-align: right;\">\n",
       "      <th></th>\n",
       "      <th>Action</th>\n",
       "      <th>Open_time</th>\n",
       "      <th>Open_price</th>\n",
       "      <th>Close_time</th>\n",
       "      <th>Close_price</th>\n",
       "      <th>return</th>\n",
       "    </tr>\n",
       "  </thead>\n",
       "  <tbody>\n",
       "    <tr>\n",
       "      <th>1</th>\n",
       "      <td>Buy</td>\n",
       "      <td>2022-03-18 11:11:00</td>\n",
       "      <td>-78.387740</td>\n",
       "      <td>2022-03-18 11:41:00</td>\n",
       "      <td>-78.425718</td>\n",
       "      <td>0.998516</td>\n",
       "    </tr>\n",
       "    <tr>\n",
       "      <th>2</th>\n",
       "      <td>Sell</td>\n",
       "      <td>2022-03-20 09:01:00</td>\n",
       "      <td>-85.064713</td>\n",
       "      <td>2022-03-20 09:31:00</td>\n",
       "      <td>-83.951233</td>\n",
       "      <td>0.98591</td>\n",
       "    </tr>\n",
       "    <tr>\n",
       "      <th>3</th>\n",
       "      <td>Buy</td>\n",
       "      <td>2022-03-20 09:31:00</td>\n",
       "      <td>-83.951233</td>\n",
       "      <td>2022-03-20 10:01:00</td>\n",
       "      <td>-83.98921</td>\n",
       "      <td>0.998548</td>\n",
       "    </tr>\n",
       "    <tr>\n",
       "      <th>4</th>\n",
       "      <td>Buy</td>\n",
       "      <td>2022-03-20 12:11:00</td>\n",
       "      <td>-82.960630</td>\n",
       "      <td>2022-03-20 12:41:00</td>\n",
       "      <td>-83.493944</td>\n",
       "      <td>0.992571</td>\n",
       "    </tr>\n",
       "    <tr>\n",
       "      <th>5</th>\n",
       "      <td>Sell</td>\n",
       "      <td>2022-03-20 17:11:00</td>\n",
       "      <td>-83.616074</td>\n",
       "      <td>2022-03-20 17:41:00</td>\n",
       "      <td>-82.465573</td>\n",
       "      <td>0.985241</td>\n",
       "    </tr>\n",
       "    <tr>\n",
       "      <th>...</th>\n",
       "      <td>...</td>\n",
       "      <td>...</td>\n",
       "      <td>...</td>\n",
       "      <td>...</td>\n",
       "      <td>...</td>\n",
       "      <td>...</td>\n",
       "    </tr>\n",
       "    <tr>\n",
       "      <th>92</th>\n",
       "      <td>Buy</td>\n",
       "      <td>2022-03-30 13:01:00</td>\n",
       "      <td>-115.561041</td>\n",
       "      <td>2022-03-30 13:31:00</td>\n",
       "      <td>-112.584063</td>\n",
       "      <td>1.024761</td>\n",
       "    </tr>\n",
       "    <tr>\n",
       "      <th>93</th>\n",
       "      <td>Buy</td>\n",
       "      <td>2022-03-30 13:11:00</td>\n",
       "      <td>-114.949702</td>\n",
       "      <td>2022-03-30 13:41:00</td>\n",
       "      <td>-111.862142</td>\n",
       "      <td>1.02586</td>\n",
       "    </tr>\n",
       "    <tr>\n",
       "      <th>94</th>\n",
       "      <td>Buy</td>\n",
       "      <td>2022-03-30 14:41:00</td>\n",
       "      <td>-113.353431</td>\n",
       "      <td>2022-03-30 15:11:00</td>\n",
       "      <td>-111.256853</td>\n",
       "      <td>1.017496</td>\n",
       "    </tr>\n",
       "    <tr>\n",
       "      <th>95</th>\n",
       "      <td>Sell</td>\n",
       "      <td>2022-03-30 15:31:00</td>\n",
       "      <td>-111.405134</td>\n",
       "      <td>2022-03-30 16:01:00</td>\n",
       "      <td>-113.047302</td>\n",
       "      <td>1.01374</td>\n",
       "    </tr>\n",
       "    <tr>\n",
       "      <th>96</th>\n",
       "      <td>Sell</td>\n",
       "      <td>2022-03-31 04:01:00</td>\n",
       "      <td>-112.354085</td>\n",
       "      <td>2022-03-31 04:31:00</td>\n",
       "      <td>-112.692712</td>\n",
       "      <td>1.002014</td>\n",
       "    </tr>\n",
       "  </tbody>\n",
       "</table>\n",
       "<p>96 rows × 6 columns</p>\n",
       "</div>"
      ],
      "text/plain": [
       "   Action           Open_time  Open_price          Close_time Close_price  \\\n",
       "1     Buy 2022-03-18 11:11:00  -78.387740 2022-03-18 11:41:00  -78.425718   \n",
       "2    Sell 2022-03-20 09:01:00  -85.064713 2022-03-20 09:31:00  -83.951233   \n",
       "3     Buy 2022-03-20 09:31:00  -83.951233 2022-03-20 10:01:00   -83.98921   \n",
       "4     Buy 2022-03-20 12:11:00  -82.960630 2022-03-20 12:41:00  -83.493944   \n",
       "5    Sell 2022-03-20 17:11:00  -83.616074 2022-03-20 17:41:00  -82.465573   \n",
       "..    ...                 ...         ...                 ...         ...   \n",
       "92    Buy 2022-03-30 13:01:00 -115.561041 2022-03-30 13:31:00 -112.584063   \n",
       "93    Buy 2022-03-30 13:11:00 -114.949702 2022-03-30 13:41:00 -111.862142   \n",
       "94    Buy 2022-03-30 14:41:00 -113.353431 2022-03-30 15:11:00 -111.256853   \n",
       "95   Sell 2022-03-30 15:31:00 -111.405134 2022-03-30 16:01:00 -113.047302   \n",
       "96   Sell 2022-03-31 04:01:00 -112.354085 2022-03-31 04:31:00 -112.692712   \n",
       "\n",
       "      return  \n",
       "1   0.998516  \n",
       "2    0.98591  \n",
       "3   0.998548  \n",
       "4   0.992571  \n",
       "5   0.985241  \n",
       "..       ...  \n",
       "92  1.024761  \n",
       "93   1.02586  \n",
       "94  1.017496  \n",
       "95   1.01374  \n",
       "96  1.002014  \n",
       "\n",
       "[96 rows x 6 columns]"
      ]
     },
     "execution_count": 571,
     "metadata": {},
     "output_type": "execute_result"
    }
   ],
   "source": [
    "trade_pnl.to_csv('STAT4012_trade_pnl.csv')\n",
    "trade_pnl"
   ]
  },
  {
   "cell_type": "code",
   "execution_count": 570,
   "metadata": {},
   "outputs": [],
   "source": [
    "df = pd.concat( [backtest_data.iloc[:,0:2], backtest_simulation], axis  = 1).fillna(method=\"ffill\")\n",
    "df.index.name = 'Time'\n",
    "df[['Position', 'Cash', 'Capital']]\n",
    "df[['Position', 'Cash', 'Capital']].to_csv('STAT4012_backtest_simulation.csv')"
   ]
  },
  {
   "cell_type": "code",
   "execution_count": 564,
   "metadata": {},
   "outputs": [
    {
     "data": {
      "text/html": [
       "<div>\n",
       "<style scoped>\n",
       "    .dataframe tbody tr th:only-of-type {\n",
       "        vertical-align: middle;\n",
       "    }\n",
       "\n",
       "    .dataframe tbody tr th {\n",
       "        vertical-align: top;\n",
       "    }\n",
       "\n",
       "    .dataframe thead th {\n",
       "        text-align: right;\n",
       "    }\n",
       "</style>\n",
       "<table border=\"1\" class=\"dataframe\">\n",
       "  <thead>\n",
       "    <tr style=\"text-align: right;\">\n",
       "      <th></th>\n",
       "      <th>Pair Trade strategy with LSTM</th>\n",
       "      <th>Market(Buy and hold BTC)</th>\n",
       "    </tr>\n",
       "  </thead>\n",
       "  <tbody>\n",
       "    <tr>\n",
       "      <th>2022-03-16 10:31:00</th>\n",
       "      <td>1.000000</td>\n",
       "      <td>1.000000</td>\n",
       "    </tr>\n",
       "    <tr>\n",
       "      <th>2022-03-16 10:32:00</th>\n",
       "      <td>1.000000</td>\n",
       "      <td>0.999817</td>\n",
       "    </tr>\n",
       "    <tr>\n",
       "      <th>2022-03-16 10:33:00</th>\n",
       "      <td>1.000000</td>\n",
       "      <td>0.999604</td>\n",
       "    </tr>\n",
       "    <tr>\n",
       "      <th>2022-03-16 10:34:00</th>\n",
       "      <td>1.000000</td>\n",
       "      <td>0.998482</td>\n",
       "    </tr>\n",
       "    <tr>\n",
       "      <th>2022-03-16 10:35:00</th>\n",
       "      <td>1.000000</td>\n",
       "      <td>0.998780</td>\n",
       "    </tr>\n",
       "    <tr>\n",
       "      <th>...</th>\n",
       "      <td>...</td>\n",
       "      <td>...</td>\n",
       "    </tr>\n",
       "    <tr>\n",
       "      <th>2022-03-31 10:25:00</th>\n",
       "      <td>1.149556</td>\n",
       "      <td>1.170197</td>\n",
       "    </tr>\n",
       "    <tr>\n",
       "      <th>2022-03-31 10:26:00</th>\n",
       "      <td>1.149556</td>\n",
       "      <td>1.170905</td>\n",
       "    </tr>\n",
       "    <tr>\n",
       "      <th>2022-03-31 10:27:00</th>\n",
       "      <td>1.149556</td>\n",
       "      <td>1.171368</td>\n",
       "    </tr>\n",
       "    <tr>\n",
       "      <th>2022-03-31 10:28:00</th>\n",
       "      <td>1.149556</td>\n",
       "      <td>1.170637</td>\n",
       "    </tr>\n",
       "    <tr>\n",
       "      <th>2022-03-31 10:29:00</th>\n",
       "      <td>1.149556</td>\n",
       "      <td>1.170747</td>\n",
       "    </tr>\n",
       "  </tbody>\n",
       "</table>\n",
       "<p>21599 rows × 2 columns</p>\n",
       "</div>"
      ],
      "text/plain": [
       "                     Pair Trade strategy with LSTM  Market(Buy and hold BTC)\n",
       "2022-03-16 10:31:00                       1.000000                  1.000000\n",
       "2022-03-16 10:32:00                       1.000000                  0.999817\n",
       "2022-03-16 10:33:00                       1.000000                  0.999604\n",
       "2022-03-16 10:34:00                       1.000000                  0.998482\n",
       "2022-03-16 10:35:00                       1.000000                  0.998780\n",
       "...                                            ...                       ...\n",
       "2022-03-31 10:25:00                       1.149556                  1.170197\n",
       "2022-03-31 10:26:00                       1.149556                  1.170905\n",
       "2022-03-31 10:27:00                       1.149556                  1.171368\n",
       "2022-03-31 10:28:00                       1.149556                  1.170637\n",
       "2022-03-31 10:29:00                       1.149556                  1.170747\n",
       "\n",
       "[21599 rows x 2 columns]"
      ]
     },
     "execution_count": 564,
     "metadata": {},
     "output_type": "execute_result"
    }
   ],
   "source": [
    "performance_df = pd.concat( [df['Capital'] / 1200 , data['BTC'].close[-21599:]/ 40388.30], axis = 1 )\n",
    "performance_df.columns = ['Pair Trade strategy with LSTM', 'Market(Buy and hold BTC)']\n",
    "performance_df"
   ]
  },
  {
   "cell_type": "code",
   "execution_count": 565,
   "metadata": {},
   "outputs": [
    {
     "data": {
      "text/plain": [
       "<AxesSubplot:>"
      ]
     },
     "execution_count": 565,
     "metadata": {},
     "output_type": "execute_result"
    },
    {
     "data": {
      "image/png": "[encoded data removed]",
      "text/plain": [
       "<Figure size 864x360 with 1 Axes>"
      ]
     },
     "metadata": {},
     "output_type": "display_data"
    }
   ],
   "source": [
    "performance_df.plot( figsize=(12, 5) )"
   ]
  },
  {
   "cell_type": "code",
   "execution_count": 591,
   "metadata": {},
   "outputs": [
    {
     "data": {
      "text/plain": [
       "0   -0.00356\n",
       "dtype: float64"
      ]
     },
     "execution_count": 591,
     "metadata": {},
     "output_type": "execute_result"
    }
   ],
   "source": [
    "our_strat = performance_df.iloc[:,0]\n",
    "previous_high = 0\n",
    "drawdown = []\n",
    "for i in range(len(our_strat)):\n",
    "    if our_strat[i] > previous_high:\n",
    "        previous_high = our_strat[i]\n",
    "\n",
    "    drawdown = drawdown  + [our_strat[i] / previous_high -1 ]\n",
    "mdd_our_strat = pd.DataFrame(drawdown ).min()\n",
    "mdd_our_strat"
   ]
  },
  {
   "cell_type": "code",
   "execution_count": 592,
   "metadata": {},
   "outputs": [
    {
     "data": {
      "text/plain": [
       "0   -0.114711\n",
       "dtype: float64"
      ]
     },
     "execution_count": 592,
     "metadata": {},
     "output_type": "execute_result"
    }
   ],
   "source": [
    "btc = performance_df.iloc[:,1]\n",
    "previous_high = 0\n",
    "drawdown = []\n",
    "for i in range(len(btc)):\n",
    "    if btc[i] > previous_high:\n",
    "        previous_high = btc[i]\n",
    "\n",
    "    drawdown = drawdown  + [our_strat[i] / previous_high -1 ]\n",
    "mdd_btc = pd.DataFrame(drawdown).min()\n",
    "mdd_btc"
   ]
  },
  {
   "cell_type": "code",
   "execution_count": 527,
   "metadata": {},
   "outputs": [
    {
     "data": {
      "text/html": [
       "<div>\n",
       "<style scoped>\n",
       "    .dataframe tbody tr th:only-of-type {\n",
       "        vertical-align: middle;\n",
       "    }\n",
       "\n",
       "    .dataframe tbody tr th {\n",
       "        vertical-align: top;\n",
       "    }\n",
       "\n",
       "    .dataframe thead th {\n",
       "        text-align: right;\n",
       "    }\n",
       "</style>\n",
       "<table border=\"1\" class=\"dataframe\">\n",
       "  <thead>\n",
       "    <tr style=\"text-align: right;\">\n",
       "      <th></th>\n",
       "      <th>true_spread</th>\n",
       "      <th>pred_spread</th>\n",
       "    </tr>\n",
       "    <tr>\n",
       "      <th>time</th>\n",
       "      <th></th>\n",
       "      <th></th>\n",
       "    </tr>\n",
       "  </thead>\n",
       "  <tbody>\n",
       "    <tr>\n",
       "      <th>2022-03-16 10:31:00</th>\n",
       "      <td>-77.473052</td>\n",
       "      <td>-76.053245</td>\n",
       "    </tr>\n",
       "    <tr>\n",
       "      <th>2022-03-16 10:32:00</th>\n",
       "      <td>-77.434965</td>\n",
       "      <td>-76.079568</td>\n",
       "    </tr>\n",
       "    <tr>\n",
       "      <th>2022-03-16 10:33:00</th>\n",
       "      <td>-77.396837</td>\n",
       "      <td>-76.057783</td>\n",
       "    </tr>\n",
       "    <tr>\n",
       "      <th>2022-03-16 10:34:00</th>\n",
       "      <td>-77.282515</td>\n",
       "      <td>-76.032620</td>\n",
       "    </tr>\n",
       "    <tr>\n",
       "      <th>2022-03-16 10:35:00</th>\n",
       "      <td>-77.282565</td>\n",
       "      <td>-75.957395</td>\n",
       "    </tr>\n",
       "    <tr>\n",
       "      <th>...</th>\n",
       "      <td>...</td>\n",
       "      <td>...</td>\n",
       "    </tr>\n",
       "    <tr>\n",
       "      <th>2022-03-31 10:25:00</th>\n",
       "      <td>-113.155831</td>\n",
       "      <td>-112.874847</td>\n",
       "    </tr>\n",
       "    <tr>\n",
       "      <th>2022-03-31 10:26:00</th>\n",
       "      <td>-113.233786</td>\n",
       "      <td>-112.902111</td>\n",
       "    </tr>\n",
       "    <tr>\n",
       "      <th>2022-03-31 10:27:00</th>\n",
       "      <td>-113.271593</td>\n",
       "      <td>-112.840019</td>\n",
       "    </tr>\n",
       "    <tr>\n",
       "      <th>2022-03-31 10:28:00</th>\n",
       "      <td>-113.348248</td>\n",
       "      <td>-112.936080</td>\n",
       "    </tr>\n",
       "    <tr>\n",
       "      <th>2022-03-31 10:29:00</th>\n",
       "      <td>-113.424823</td>\n",
       "      <td>-113.039139</td>\n",
       "    </tr>\n",
       "  </tbody>\n",
       "</table>\n",
       "<p>21599 rows × 2 columns</p>\n",
       "</div>"
      ],
      "text/plain": [
       "                     true_spread  pred_spread\n",
       "time                                         \n",
       "2022-03-16 10:31:00   -77.473052   -76.053245\n",
       "2022-03-16 10:32:00   -77.434965   -76.079568\n",
       "2022-03-16 10:33:00   -77.396837   -76.057783\n",
       "2022-03-16 10:34:00   -77.282515   -76.032620\n",
       "2022-03-16 10:35:00   -77.282565   -75.957395\n",
       "...                          ...          ...\n",
       "2022-03-31 10:25:00  -113.155831  -112.874847\n",
       "2022-03-31 10:26:00  -113.233786  -112.902111\n",
       "2022-03-31 10:27:00  -113.271593  -112.840019\n",
       "2022-03-31 10:28:00  -113.348248  -112.936080\n",
       "2022-03-31 10:29:00  -113.424823  -113.039139\n",
       "\n",
       "[21599 rows x 2 columns]"
      ]
     },
     "execution_count": 527,
     "metadata": {},
     "output_type": "execute_result"
    }
   ],
   "source": [
    "backtest_data.iloc[:,0:2].to_csv('STAT4012_backtest_data.csv')\n",
    "backtest_data.iloc[:,0:2]"
   ]
  },
  {
   "cell_type": "code",
   "execution_count": 563,
   "metadata": {},
   "outputs": [
    {
     "data": {
      "text/html": [
       "<div>\n",
       "<style scoped>\n",
       "    .dataframe tbody tr th:only-of-type {\n",
       "        vertical-align: middle;\n",
       "    }\n",
       "\n",
       "    .dataframe tbody tr th {\n",
       "        vertical-align: top;\n",
       "    }\n",
       "\n",
       "    .dataframe thead th {\n",
       "        text-align: right;\n",
       "    }\n",
       "</style>\n",
       "<table border=\"1\" class=\"dataframe\">\n",
       "  <thead>\n",
       "    <tr style=\"text-align: right;\">\n",
       "      <th></th>\n",
       "      <th>close</th>\n",
       "      <th>Capital</th>\n",
       "    </tr>\n",
       "  </thead>\n",
       "  <tbody>\n",
       "    <tr>\n",
       "      <th>close</th>\n",
       "      <td>1.00000</td>\n",
       "      <td>-0.01116</td>\n",
       "    </tr>\n",
       "    <tr>\n",
       "      <th>Capital</th>\n",
       "      <td>-0.01116</td>\n",
       "      <td>1.00000</td>\n",
       "    </tr>\n",
       "  </tbody>\n",
       "</table>\n",
       "</div>"
      ],
      "text/plain": [
       "           close  Capital\n",
       "close    1.00000 -0.01116\n",
       "Capital -0.01116  1.00000"
      ]
     },
     "execution_count": 563,
     "metadata": {},
     "output_type": "execute_result"
    }
   ],
   "source": [
    "# Portfolio market(BTC) corr\n",
    "pd.concat( [ data['BTC'][-21599:].close, df.Capital] , axis = 1).pct_change().corr()"
   ]
  },
  {
   "cell_type": "code",
   "execution_count": 529,
   "metadata": {},
   "outputs": [
    {
     "name": "stdout",
     "output_type": "stream",
     "text": [
      "market win rate : 0.5031021390869524\n",
      "Annualized Return : 823.2418081734024\n"
     ]
    }
   ],
   "source": [
    "market_win_rate = len( data['BTC'][-21599:].close.pct_change()[ data['BTC'][-21599:].close.pct_change() > 0]) / len(data['BTC'][-21599:].close.pct_change().dropna())\n",
    "market_annualized_return = (data['BTC'][-21599:].close[-1]/ data['BTC'][-21599:].close[0])**(365*42*60/21599)\n",
    "\n",
    "print('market win rate :', market_win_rate)\n",
    "print('Annualized Return :', market_annualized_return)"
   ]
  },
  {
   "cell_type": "code",
   "execution_count": 530,
   "metadata": {},
   "outputs": [],
   "source": [
    "df\n",
    "daily_return = []\n",
    "market_daily_return = []\n",
    "original_capital = df['Capital'][0]\n",
    "market_original_capital = data['BTC'][-21599:].close[0]\n",
    "\n",
    "for i in range( (24*60 - 1) , len(df), 24*60):\n",
    "    day_return = df['Capital'][i] / original_capital\n",
    "    market_day_return = data['BTC'][-21599:].close[i] / market_original_capital\n",
    "\n",
    "    daily_return = daily_return +[day_return]\n",
    "    market_daily_return = market_daily_return +[market_day_return]\n",
    "    original_capital = df['Capital'][i]\n",
    "    market_original_capital = data['BTC'][-21599:].close[i]\n",
    "# the last day\n",
    "daily_return = daily_return + [ df['Capital'][-1] / df['Capital'][i]]\n",
    "market_daily_return = market_daily_return + [ data['BTC'][-21599:].close[-1] / data['BTC'][-21599:].close[i]]"
   ]
  },
  {
   "cell_type": "code",
   "execution_count": 502,
   "metadata": {},
   "outputs": [
    {
     "data": {
      "text/plain": [
       "[1.0072721555499984,\n",
       " 0.9983604546579679,\n",
       " 1.025854782346854,\n",
       " 1.0015629271378823,\n",
       " 0.990353105987391,\n",
       " 1.0329392014510272,\n",
       " 0.988433861717476,\n",
       " 1.0190065201234635,\n",
       " 1.026296406466328,\n",
       " 1.0067877245814976,\n",
       " 1.0027906001028186,\n",
       " 1.0601168978961522,\n",
       " 1.0067965261917158,\n",
       " 0.9935017153158261,\n",
       " 1.0008994113501943]"
      ]
     },
     "execution_count": 502,
     "metadata": {},
     "output_type": "execute_result"
    }
   ],
   "source": [
    "market_daily_return "
   ]
  },
  {
   "cell_type": "code",
   "execution_count": 575,
   "metadata": {},
   "outputs": [
    {
     "data": {
      "text/html": [
       "<div>\n",
       "<style scoped>\n",
       "    .dataframe tbody tr th:only-of-type {\n",
       "        vertical-align: middle;\n",
       "    }\n",
       "\n",
       "    .dataframe tbody tr th {\n",
       "        vertical-align: top;\n",
       "    }\n",
       "\n",
       "    .dataframe thead th {\n",
       "        text-align: right;\n",
       "    }\n",
       "</style>\n",
       "<table border=\"1\" class=\"dataframe\">\n",
       "  <thead>\n",
       "    <tr style=\"text-align: right;\">\n",
       "      <th></th>\n",
       "      <th>0</th>\n",
       "      <th>0</th>\n",
       "    </tr>\n",
       "  </thead>\n",
       "  <tbody>\n",
       "    <tr>\n",
       "      <th>0</th>\n",
       "      <td>1.000000</td>\n",
       "      <td>1.007272</td>\n",
       "    </tr>\n",
       "    <tr>\n",
       "      <th>1</th>\n",
       "      <td>1.000000</td>\n",
       "      <td>0.998360</td>\n",
       "    </tr>\n",
       "    <tr>\n",
       "      <th>2</th>\n",
       "      <td>0.999988</td>\n",
       "      <td>1.025855</td>\n",
       "    </tr>\n",
       "    <tr>\n",
       "      <th>3</th>\n",
       "      <td>0.999885</td>\n",
       "      <td>1.001563</td>\n",
       "    </tr>\n",
       "    <tr>\n",
       "      <th>4</th>\n",
       "      <td>0.999886</td>\n",
       "      <td>0.990353</td>\n",
       "    </tr>\n",
       "    <tr>\n",
       "      <th>5</th>\n",
       "      <td>1.002226</td>\n",
       "      <td>1.032939</td>\n",
       "    </tr>\n",
       "    <tr>\n",
       "      <th>6</th>\n",
       "      <td>1.001253</td>\n",
       "      <td>0.988434</td>\n",
       "    </tr>\n",
       "    <tr>\n",
       "      <th>7</th>\n",
       "      <td>1.000000</td>\n",
       "      <td>1.019007</td>\n",
       "    </tr>\n",
       "    <tr>\n",
       "      <th>8</th>\n",
       "      <td>1.001258</td>\n",
       "      <td>1.026296</td>\n",
       "    </tr>\n",
       "    <tr>\n",
       "      <th>9</th>\n",
       "      <td>1.000000</td>\n",
       "      <td>1.006788</td>\n",
       "    </tr>\n",
       "    <tr>\n",
       "      <th>10</th>\n",
       "      <td>1.000000</td>\n",
       "      <td>1.002791</td>\n",
       "    </tr>\n",
       "    <tr>\n",
       "      <th>11</th>\n",
       "      <td>1.005372</td>\n",
       "      <td>1.060117</td>\n",
       "    </tr>\n",
       "    <tr>\n",
       "      <th>12</th>\n",
       "      <td>1.003546</td>\n",
       "      <td>1.006797</td>\n",
       "    </tr>\n",
       "    <tr>\n",
       "      <th>13</th>\n",
       "      <td>1.002824</td>\n",
       "      <td>0.993502</td>\n",
       "    </tr>\n",
       "    <tr>\n",
       "      <th>14</th>\n",
       "      <td>1.001579</td>\n",
       "      <td>1.000899</td>\n",
       "    </tr>\n",
       "  </tbody>\n",
       "</table>\n",
       "</div>"
      ],
      "text/plain": [
       "           0         0\n",
       "0   1.000000  1.007272\n",
       "1   1.000000  0.998360\n",
       "2   0.999988  1.025855\n",
       "3   0.999885  1.001563\n",
       "4   0.999886  0.990353\n",
       "5   1.002226  1.032939\n",
       "6   1.001253  0.988434\n",
       "7   1.000000  1.019007\n",
       "8   1.001258  1.026296\n",
       "9   1.000000  1.006788\n",
       "10  1.000000  1.002791\n",
       "11  1.005372  1.060117\n",
       "12  1.003546  1.006797\n",
       "13  1.002824  0.993502\n",
       "14  1.001579  1.000899"
      ]
     },
     "execution_count": 575,
     "metadata": {},
     "output_type": "execute_result"
    }
   ],
   "source": [
    "daily_return = pd.DataFrame(daily_return)\n",
    "market_daily_return = pd.DataFrame(market_daily_return)\n",
    "pd.concat( [daily_return , market_daily_return], axis =1)"
   ]
  },
  {
   "cell_type": "code",
   "execution_count": 568,
   "metadata": {},
   "outputs": [
    {
     "data": {
      "text/plain": [
       "0    0.001666\n",
       "0    0.019125\n",
       "dtype: float64"
      ]
     },
     "execution_count": 568,
     "metadata": {},
     "output_type": "execute_result"
    }
   ],
   "source": [
    "pd.concat( [daily_return , market_daily_return], axis =1).std()"
   ]
  },
  {
   "cell_type": "code",
   "execution_count": 507,
   "metadata": {},
   "outputs": [
    {
     "name": "stdout",
     "output_type": "stream",
     "text": [
      "Portfoliio Sharpe : 0    1920.406646\n",
      "dtype: float64\n",
      "Market(BTC) Sharpe : 0    1009.672738\n",
      "dtype: float64\n"
     ]
    }
   ],
   "source": [
    "# sharpe \n",
    "print( 'Portfoliio Sharpe :', daily_return.mean() / daily_return.std() * (365)**(1/2) )\n",
    "print( 'Market(BTC) Sharpe :', market_daily_return.mean() / market_daily_return.std() * (365)**(1/2) )"
   ]
  }
 ],
 "metadata": {
  "kernelspec": {
   "display_name": "Python 3",
   "language": "python",
   "name": "python3"
  },
  "language_info": {
   "codemirror_mode": {
    "name": "ipython",
    "version": 3
   },
   "file_extension": ".py",
   "mimetype": "text/x-python",
   "name": "python",
   "nbconvert_exporter": "python",
   "pygments_lexer": "ipython3",
   "version": "3.8.8"
  }
 },
 "nbformat": 4,
 "nbformat_minor": 1
}

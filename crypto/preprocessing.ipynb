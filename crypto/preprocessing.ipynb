{
 "cells": [
  {
   "cell_type": "markdown",
   "metadata": {},
   "source": [
    "# Import Libraries"
   ]
  },
  {
   "cell_type": "code",
   "execution_count": 2,
   "metadata": {
    "collapsed": true
   },
   "outputs": [],
   "source": [
    "import requests\n",
    "import glob\n",
    "import os\n",
    "import pywt\n",
    "import numpy as np\n",
    "import pandas as pd\n",
    "import matplotlib.pyplot as plt\n",
    "import seaborn as sns\n",
    "from datetime import datetime\n",
    "from functools import reduce\n",
    "from ta.momentum import rsi\n",
    "from ta.trend import ema_indicator\n",
    "from sklearn.neighbors import NearestNeighbors\n",
    "from sklearn.linear_model import LinearRegression\n",
    "from statsmodels.tsa.stattools import coint"
   ]
  },
  {
   "cell_type": "markdown",
   "metadata": {},
   "source": [
    "# Data Collection"
   ]
  },
  {
   "cell_type": "code",
   "execution_count": 3,
   "metadata": {
    "collapsed": false,
    "pycharm": {
     "name": "#%%\n"
    }
   },
   "outputs": [],
   "source": [
    "all_markets = [\"BTC\", \"ETH\", \"DOGE\", \"BNB\", \"XRP\", \"TRX\", \"ZIL\", \"ADA\", \"WAVES\", \"ETC\", \"LTC\", \"MATIC\", \"LINK\", \"EOS\", \"ATOM\", \"XLM\"]\n",
    "col_list = [\"open_time\", \"open\", \"high\", \"low\", \"close\", \"volume\", \"close_time\", \"quote_asset_volume\", \"number_of_trade\", \"ignore1\", \"ignore2\", \"ignore3\"]\n",
    "\n",
    "directory = \"data/\"\n",
    "if not os.path.exists(directory):\n",
    "    os.makedirs(directory)\n",
    "\n",
    "for market in all_markets:\n",
    "    df = pd.DataFrame(columns=col_list)\n",
    "    startTime = 1622419200000  # 2021-05-31 00:00:00 -> 1 month for cointegration test + 1 day for technical indicator\n",
    "    endTime = 1648684800000    # 2022-03-31 23:59:59\n",
    "    while startTime < endTime:\n",
    "        url = f\"https://api.binance.com/api/v3/klines?symbol={market}USDT&interval=1m&startTime={startTime}&limit=1000\"\n",
    "        data = pd.DataFrame(requests.get(url).json(), columns=col_list)\n",
    "        df = pd.concat([df, data])\n",
    "        startTime = df.close_time.iloc[-1] + 1\n",
    "    df.to_csv(f\"data/{market}.csv\")"
   ]
  },
  {
   "cell_type": "markdown",
   "metadata": {},
   "source": [
    "# Formatting CSV File into ohlcv"
   ]
  },
  {
   "cell_type": "code",
   "execution_count": 4,
   "metadata": {
    "collapsed": false,
    "pycharm": {
     "name": "#%%\n"
    }
   },
   "outputs": [],
   "source": [
    "token_list = [\"BTC\", \"ETH\", \"DOGE\", \"BNB\", \"XRP\", \"TRX\", \"ZIL\", \"ADA\", \"WAVES\", \"ETC\", \"LTC\", \"MATIC\", \"LINK\", \"EOS\", \"ATOM\", \"XLM\"]\n",
    "for i in glob.glob(\"data/*.csv\"):\n",
    "    df = pd.read_csv(i, index_col=0)\n",
    "    df[\"time\"] = (df[\"open_time\"]/1000).apply(datetime.utcfromtimestamp)\n",
    "    df.set_index(\"time\", drop=True, inplace=True)\n",
    "    df = df[[\"open\", \"high\", \"low\", \"close\", \"quote_asset_volume\"]]\n",
    "    df.columns = [\"open\", \"high\", \"low\", \"close\", \"volume\"]\n",
    "    df.to_csv(i)"
   ]
  },
  {
   "cell_type": "markdown",
   "metadata": {},
   "source": [
    "# Aligning Time & Backfill Missing Data"
   ]
  },
  {
   "cell_type": "code",
   "execution_count": 9,
   "metadata": {
    "collapsed": false,
    "pycharm": {
     "name": "#%%\n"
    }
   },
   "outputs": [],
   "source": [
    "df_list = []\n",
    "for i in glob.glob(\"data/*.csv\"):\n",
    "    token_name = i.split(\"\\\\\")[1].split(\".\")[0]\n",
    "    df = pd.read_csv(i, index_col=0)\n",
    "    col = [token_name + \"_\" + col_name for col_name in df.columns]\n",
    "    df.columns = col\n",
    "    df_list.append(df)\n",
    "\n",
    "master_df = reduce(lambda left, right: pd.merge(left, right, left_index=True, right_index=True, how=\"outer\"), df_list)\n",
    "master_df.fillna(method=\"ffill\", inplace=True)\n",
    "master_df = master_df.loc[:\"2022-04-01\"]\n",
    "\n",
    "# splitting back into individual csv files\n",
    "for token in token_list:\n",
    "    cols = [col for col in master_df.columns if col.startswith(token)]\n",
    "    df = master_df[cols]\n",
    "    df.columns = [col.split(\"_\")[1] for col in cols]\n",
    "    df.to_csv(f\"data/{token}.csv\")"
   ]
  },
  {
   "cell_type": "code",
   "execution_count": 10,
   "metadata": {
    "collapsed": false,
    "pycharm": {
     "name": "#%%\n"
    }
   },
   "outputs": [],
   "source": [
    "# populating features & confining time index to predetermined time horizon\n",
    "for i in glob.glob(\"data/*.csv\"):\n",
    "    df = pd.read_csv(i, index_col=0, parse_dates=True)\n",
    "    df[\"log_rtn\"] = np.log(df[\"close\"]).diff()\n",
    "    for window in [30, 60, 240, 480, 720, 1440]:\n",
    "        df[f\"{window}_ema\"] = ema_indicator(df.close, window)\n",
    "        df[f\"{window}_rsi\"] = rsi(df.close, window)\n",
    "        df[f\"{window}_vol\"] = df[\"log_rtn\"].rolling(window).std()\n",
    "    df = df.loc[\"2021-06-01\":\"2022-03-31\"]\n",
    "    df.to_csv(i)"
   ]
  },
  {
   "cell_type": "code",
   "execution_count": 11,
   "metadata": {
    "collapsed": false,
    "pycharm": {
     "name": "#%%\n"
    }
   },
   "outputs": [],
   "source": [
    "##################################################################################\n",
    "###########  END OF DATA ACQUISITION - DO NOT RUN CODE ABOVE THIS CELL ###########\n",
    "##################################################################################"
   ]
  },
  {
   "cell_type": "markdown",
   "metadata": {},
   "source": [
    "# Reading Data"
   ]
  },
  {
   "cell_type": "code",
   "execution_count": 19,
   "metadata": {
    "collapsed": false,
    "pycharm": {
     "name": "#%%\n"
    }
   },
   "outputs": [],
   "source": [
    "token_list = [\"BTC\", \"ETH\", \"DOGE\", \"BNB\", \"XRP\", \"TRX\", \"ZIL\", \"ADA\", \"WAVES\", \"ETC\", \"LTC\", \"MATIC\", \"LINK\", \"EOS\", \"ATOM\", \"XLM\"]\n",
    "pre_data = {}\n",
    "data = {}\n",
    "for token in token_list:\n",
    "    df = pd.read_csv(f\"data/{token}.csv\", index_col=0, parse_dates=True)\n",
    "    pre_data[token] = df.loc[:\"2021-06-30\"]\n",
    "    data[token] = df.loc[\"2021-07-01\":]"
   ]
  },
  {
   "cell_type": "code",
   "execution_count": 20,
   "metadata": {
    "collapsed": false,
    "pycharm": {
     "name": "#%%\n"
    }
   },
   "outputs": [
    {
     "data": {
      "text/plain": [
       "38"
      ]
     },
     "execution_count": 20,
     "metadata": {},
     "output_type": "execute_result"
    }
   ],
   "source": [
    "# clustering using NearestNeighbor using the first data point\n",
    "# getting the cluster data\n",
    "cluster_data = pd.DataFrame(columns=token_list)\n",
    "for token in token_list:\n",
    "    cluster_data[token] = pre_data[token].iloc[0]\n",
    "cluster_data = cluster_data.T\n",
    "\n",
    "# NearestNeighbor\n",
    "nn = NearestNeighbors(n_neighbors=4)\n",
    "nn.fit(cluster_data)\n",
    "neigh = nn.kneighbors()[1]\n",
    "\n",
    "# Pairs for cointegration test\n",
    "token0 = [token for token in token_list for i in range(4)]\n",
    "token1 = [token_list[i] for i in neigh.ravel()]\n",
    "pairs = pd.DataFrame()\n",
    "pairs [\"pair\"] = [list(a) for a in zip(token0, token1)]\n",
    "pairs [\"rev\"] = [list(a) for a in zip(token1, token0)]\n",
    "drop = []\n",
    "for i in range(len(pairs)):\n",
    "    if pairs.iloc[i][\"rev\"] in pairs[\"pair\"].to_list()[i:]:\n",
    "        drop.append(i)\n",
    "pairs = pairs.drop(drop, axis=0)[\"pair\"].reset_index(drop=True).to_list()\n",
    "len(pairs)"
   ]
  },
  {
   "cell_type": "code",
   "execution_count": 21,
   "metadata": {
    "collapsed": false,
    "pycharm": {
     "name": "#%%\n"
    }
   },
   "outputs": [
    {
     "name": "stdout",
     "output_type": "stream",
     "text": [
      "DOGE - ZIL\n",
      "It is co integrated with pval - 0.005075233287070696, tstat - -4.104010893265749\n",
      "\n",
      "XRP - BNB\n",
      "It is co integrated with pval - 0.00026455640679246223, tstat - -4.886678326778146\n",
      "\n",
      "ADA - BNB\n",
      "It is co integrated with pval - 0.020962227093312198, tstat - -3.654189493188166\n",
      "\n",
      "ADA - XRP\n",
      "It is co integrated with pval - 0.01810691583983802, tstat - -3.7040492141361656\n",
      "\n",
      "ADA - LINK\n",
      "It is co integrated with pval - 0.004309592944557986, tstat - -4.151885073323576\n",
      "\n",
      "LTC - DOGE\n",
      "It is co integrated with pval - 0.008269385419192228, tstat - -3.9567262774242624\n",
      "\n",
      "LTC - ZIL\n",
      "It is co integrated with pval - 0.0035177993305641523, tstat - -4.2103866269319905\n",
      "\n",
      "MATIC - BNB\n",
      "It is co integrated with pval - 0.020827105793967488, tstat - -3.656411422242148\n",
      "\n",
      "LINK - BNB\n",
      "It is co integrated with pval - 0.0021207890272936527, tstat - -4.352106831201821\n",
      "\n",
      "EOS - DOGE\n",
      "It is co integrated with pval - 4.228519337955496e-05, tstat - -5.311655110648428\n",
      "\n",
      "EOS - ZIL\n",
      "It is co integrated with pval - 2.9909369695857418e-05, tstat - -5.3883344356832525\n",
      "\n",
      "ATOM - ZIL\n",
      "It is co integrated with pval - 0.001094952002788177, tstat - -4.529477949475516\n",
      "\n",
      "XLM - ZIL\n",
      "It is co integrated with pval - 0.001981475964799557, tstat - -4.370721384957457\n",
      "\n"
     ]
    }
   ],
   "source": [
    "# cointegration test for all pairs\n",
    "coint_pairs = []\n",
    "coint_tstat = []\n",
    "for pair in pairs:\n",
    "    price0 = pre_data[pair[0]][\"close\"]\n",
    "    price1 = pre_data[pair[1]][\"close\"]\n",
    "    res = coint(price0, price1)\n",
    "    tstat, pval = res[0], res[1]\n",
    "    if pval < 0.05:\n",
    "        coint_pairs.append(pair)\n",
    "        coint_tstat.append(tstat)\n",
    "        print(f\"{pair[0]} - {pair[1]}\")\n",
    "        print(f\"It is co integrated with pval - {pval}, tstat - {tstat}\")\n",
    "        print()"
   ]
  },
  {
   "cell_type": "code",
   "execution_count": 22,
   "metadata": {
    "collapsed": false,
    "pycharm": {
     "name": "#%%\n"
    }
   },
   "outputs": [
    {
     "data": {
      "text/html": [
       "<div>\n",
       "<style scoped>\n",
       "    .dataframe tbody tr th:only-of-type {\n",
       "        vertical-align: middle;\n",
       "    }\n",
       "\n",
       "    .dataframe tbody tr th {\n",
       "        vertical-align: top;\n",
       "    }\n",
       "\n",
       "    .dataframe thead th {\n",
       "        text-align: right;\n",
       "    }\n",
       "</style>\n",
       "<table border=\"1\" class=\"dataframe\">\n",
       "  <thead>\n",
       "    <tr style=\"text-align: right;\">\n",
       "      <th></th>\n",
       "      <th>pairs</th>\n",
       "      <th>tstat</th>\n",
       "    </tr>\n",
       "  </thead>\n",
       "  <tbody>\n",
       "    <tr>\n",
       "      <th>0</th>\n",
       "      <td>[EOS, ZIL]</td>\n",
       "      <td>-5.388334</td>\n",
       "    </tr>\n",
       "    <tr>\n",
       "      <th>1</th>\n",
       "      <td>[EOS, DOGE]</td>\n",
       "      <td>-5.311655</td>\n",
       "    </tr>\n",
       "    <tr>\n",
       "      <th>2</th>\n",
       "      <td>[XRP, BNB]</td>\n",
       "      <td>-4.886678</td>\n",
       "    </tr>\n",
       "    <tr>\n",
       "      <th>3</th>\n",
       "      <td>[ATOM, ZIL]</td>\n",
       "      <td>-4.529478</td>\n",
       "    </tr>\n",
       "    <tr>\n",
       "      <th>4</th>\n",
       "      <td>[XLM, ZIL]</td>\n",
       "      <td>-4.370721</td>\n",
       "    </tr>\n",
       "    <tr>\n",
       "      <th>5</th>\n",
       "      <td>[LINK, BNB]</td>\n",
       "      <td>-4.352107</td>\n",
       "    </tr>\n",
       "    <tr>\n",
       "      <th>6</th>\n",
       "      <td>[LTC, ZIL]</td>\n",
       "      <td>-4.210387</td>\n",
       "    </tr>\n",
       "    <tr>\n",
       "      <th>7</th>\n",
       "      <td>[ADA, LINK]</td>\n",
       "      <td>-4.151885</td>\n",
       "    </tr>\n",
       "    <tr>\n",
       "      <th>8</th>\n",
       "      <td>[DOGE, ZIL]</td>\n",
       "      <td>-4.104011</td>\n",
       "    </tr>\n",
       "    <tr>\n",
       "      <th>9</th>\n",
       "      <td>[LTC, DOGE]</td>\n",
       "      <td>-3.956726</td>\n",
       "    </tr>\n",
       "    <tr>\n",
       "      <th>10</th>\n",
       "      <td>[ADA, XRP]</td>\n",
       "      <td>-3.704049</td>\n",
       "    </tr>\n",
       "    <tr>\n",
       "      <th>11</th>\n",
       "      <td>[MATIC, BNB]</td>\n",
       "      <td>-3.656411</td>\n",
       "    </tr>\n",
       "    <tr>\n",
       "      <th>12</th>\n",
       "      <td>[ADA, BNB]</td>\n",
       "      <td>-3.654189</td>\n",
       "    </tr>\n",
       "  </tbody>\n",
       "</table>\n",
       "</div>"
      ],
      "text/plain": [
       "           pairs     tstat\n",
       "0     [EOS, ZIL] -5.388334\n",
       "1    [EOS, DOGE] -5.311655\n",
       "2     [XRP, BNB] -4.886678\n",
       "3    [ATOM, ZIL] -4.529478\n",
       "4     [XLM, ZIL] -4.370721\n",
       "5    [LINK, BNB] -4.352107\n",
       "6     [LTC, ZIL] -4.210387\n",
       "7    [ADA, LINK] -4.151885\n",
       "8    [DOGE, ZIL] -4.104011\n",
       "9    [LTC, DOGE] -3.956726\n",
       "10    [ADA, XRP] -3.704049\n",
       "11  [MATIC, BNB] -3.656411\n",
       "12    [ADA, BNB] -3.654189"
      ]
     },
     "execution_count": 22,
     "metadata": {},
     "output_type": "execute_result"
    }
   ],
   "source": [
    "# choosing the most cointegrated pairs - EOS-ZIL\n",
    "coint_df = pd.DataFrame({\"pairs\": coint_pairs,\n",
    "                         \"tstat\": coint_tstat})\n",
    "coint_df.sort_values(by=\"tstat\", ascending=True).reset_index(drop=True)"
   ]
  },
  {
   "cell_type": "code",
   "execution_count": 51,
   "metadata": {
    "collapsed": false,
    "pycharm": {
     "name": "#%%\n"
    }
   },
   "outputs": [
    {
     "name": "stdout",
     "output_type": "stream",
     "text": [
      "1 EOS = 44.365611877994155 ZIL\n",
      "\n"
     ]
    }
   ],
   "source": [
    "# Finding hedge ratio for each of the cointegrated pairs using OLS regression - using more expensive token as y\n",
    "# EOS-ZIL\n",
    "lr1 = LinearRegression()\n",
    "lr1.fit(pre_data[\"ZIL\"][\"close\"].values.reshape(-1,1), pre_data[\"EOS\"][\"close\"])\n",
    "print(f\"1 EOS = {float(lr1.coef_)} ZIL\")\n",
    "print()"
   ]
  },
  {
   "cell_type": "code",
   "execution_count": 62,
   "metadata": {
    "collapsed": false,
    "pycharm": {
     "name": "#%%\n"
    }
   },
   "outputs": [],
   "source": [
    "# code snippet for denoising with wavelet transform demonstration with close price of ZIL\n",
    "denoised_coeff = []\n",
    "filt = pywt.Wavelet(\"haar\")\n",
    "max_level = pywt.dwt_max_level(len(data[\"ZIL\"]), filt.dec_len)\n",
    "series = pywt.wavedec(data[\"ZIL\"].close, \"haar\", level=2) # choose the level depending on how \"strong\" the filtering you want to be, larger value = more smoothing, between 2 to max_level\n",
    "for i in series:\n",
    "    denoise = pywt.threshold(i, np.std(i))\n",
    "    denoised_coeff.append(denoise)\n",
    "denoised_signal = pywt.waverec(denoised_coeff, \"haar\")"
   ]
  },
  {
   "cell_type": "code",
   "execution_count": 63,
   "metadata": {
    "collapsed": false,
    "pycharm": {
     "name": "#%%\n"
    }
   },
   "outputs": [
    {
     "data": {
      "text/plain": [
       "[<matplotlib.lines.Line2D at 0x7f7b764f6be0>]"
      ]
     },
     "execution_count": 63,
     "metadata": {},
     "output_type": "execute_result"
    },
    {
     "data": {
      "image/png": "[encoded data removed]",
      "text/plain": [
       "<Figure size 432x288 with 1 Axes>"
      ]
     },
     "metadata": {
      "needs_background": "light"
     },
     "output_type": "display_data"
    }
   ],
   "source": [
    "# original signal\n",
    "plt.plot(data[\"ZIL\"].close)"
   ]
  },
  {
   "cell_type": "code",
   "execution_count": 64,
   "metadata": {
    "collapsed": false,
    "pycharm": {
     "name": "#%%\n"
    }
   },
   "outputs": [
    {
     "data": {
      "text/plain": [
       "[<matplotlib.lines.Line2D at 0x7f7b766bd7f0>]"
      ]
     },
     "execution_count": 64,
     "metadata": {},
     "output_type": "execute_result"
    },
    {
     "data": {
      "image/png": "[encoded data removed]",
      "text/plain": [
       "<Figure size 432x288 with 1 Axes>"
      ]
     },
     "metadata": {
      "needs_background": "light"
     },
     "output_type": "display_data"
    }
   ],
   "source": [
    "# denoised signal\n",
    "plt.plot(denoised_signal)"
   ]
  }
 ],
 "metadata": {
  "kernelspec": {
   "display_name": "Python 3",
   "language": "python",
   "name": "python3"
  },
  "language_info": {
   "codemirror_mode": {
    "name": "ipython",
    "version": 3
   },
   "file_extension": ".py",
   "mimetype": "text/x-python",
   "name": "python",
   "nbconvert_exporter": "python",
   "pygments_lexer": "ipython3",
   "version": "3.9.7"
  }
 },
 "nbformat": 4,
 "nbformat_minor": 0
}
